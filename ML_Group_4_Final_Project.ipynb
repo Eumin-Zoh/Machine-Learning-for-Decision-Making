{
  "nbformat": 4,
  "nbformat_minor": 0,
  "metadata": {
    "colab": {
      "provenance": [],
      "collapsed_sections": [
        "0x5MFXii_gub",
        "c-EYtOTw_gub",
        "JJN4QNxAX6YW"
      ],
      "include_colab_link": true
    },
    "kernelspec": {
      "display_name": "Python 3",
      "language": "python",
      "name": "python3"
    },
    "language_info": {
      "codemirror_mode": {
        "name": "ipython",
        "version": 3
      },
      "file_extension": ".py",
      "mimetype": "text/x-python",
      "name": "python",
      "nbconvert_exporter": "python",
      "pygments_lexer": "ipython3",
      "version": "3.7.6"
    },
    "accelerator": "GPU",
    "gpuClass": "standard"
  },
  "cells": [
    {
      "cell_type": "markdown",
      "metadata": {
        "id": "view-in-github",
        "colab_type": "text"
      },
      "source": [
        "<a href=\"https://colab.research.google.com/github/Eumin-Zoh/Machine-Learning-for-Decision-Making/blob/main/ML_Group_4_Final_Project.ipynb\" target=\"_parent\"><img src=\"https://colab.research.google.com/assets/colab-badge.svg\" alt=\"Open In Colab\"/></a>"
      ]
    },
    {
      "cell_type": "markdown",
      "source": [
        "# Final Project - Group 4\n",
        "\n",
        "Aryan Sharma  \n",
        "Anyao Wang  \n",
        "Eumin Zoh  \n",
        "Peilin He  \n",
        "Rohith Anil Chandy"
      ],
      "metadata": {
        "id": "A6oYcBl_8cLS"
      }
    },
    {
      "cell_type": "markdown",
      "metadata": {
        "id": "P_peVmuS_guZ"
      },
      "source": [
        "## Keras: A high level neural network library\n",
        "\n",
        "In this exercise we will revisit classification using simple neural networks. To do so we will use Keras, a popular neural network package. Keras is a high level library that allows rapid prototyping of neural networks due to its precompiled layers, just as Scikit-learn contains a number of prebuilt classifiers.\n"
      ]
    },
    {
      "cell_type": "markdown",
      "metadata": {
        "id": "1c3g71Ke_guZ"
      },
      "source": [
        "## Keras\n",
        "\n",
        "Detailed instructions can be found at https://keras.io.\n"
      ]
    },
    {
      "cell_type": "markdown",
      "metadata": {
        "id": "-QvnyQHg_guZ"
      },
      "source": [
        "To start the demo, we have a 2D dataset so we can visualize what the network is doing."
      ]
    },
    {
      "cell_type": "markdown",
      "metadata": {
        "id": "MqReWzn1_guZ"
      },
      "source": [
        "Neural networks are so popular now due to their ability to quickly learn nonlinear boundaries. So, we have an example that would be impossible for a linear classifier and demonstrate how a neural network can be used to solve this. As you can see, in the dataset below there is no straight line that you can draw that perfectly separates the red and blue classes"
      ]
    },
    {
      "cell_type": "code",
      "metadata": {
        "colab": {
          "base_uri": "https://localhost:8080/",
          "height": 73
        },
        "id": "EeTd5EzMe_fM",
        "outputId": "fa9f2d3d-a025-4e5e-db59-e60a97cb170d"
      },
      "source": [
        "from google.colab import files \n",
        "src = list(files.upload().values())[0]\n",
        "open('utils.py','wb').write(src)\n",
        "import utils"
      ],
      "execution_count": null,
      "outputs": [
        {
          "output_type": "display_data",
          "data": {
            "text/plain": [
              "<IPython.core.display.HTML object>"
            ],
            "text/html": [
              "\n",
              "     <input type=\"file\" id=\"files-eb1340fb-babb-4c1a-b871-a9bc5db98bb9\" name=\"files[]\" multiple disabled\n",
              "        style=\"border:none\" />\n",
              "     <output id=\"result-eb1340fb-babb-4c1a-b871-a9bc5db98bb9\">\n",
              "      Upload widget is only available when the cell has been executed in the\n",
              "      current browser session. Please rerun this cell to enable.\n",
              "      </output>\n",
              "      <script>// Copyright 2017 Google LLC\n",
              "//\n",
              "// Licensed under the Apache License, Version 2.0 (the \"License\");\n",
              "// you may not use this file except in compliance with the License.\n",
              "// You may obtain a copy of the License at\n",
              "//\n",
              "//      http://www.apache.org/licenses/LICENSE-2.0\n",
              "//\n",
              "// Unless required by applicable law or agreed to in writing, software\n",
              "// distributed under the License is distributed on an \"AS IS\" BASIS,\n",
              "// WITHOUT WARRANTIES OR CONDITIONS OF ANY KIND, either express or implied.\n",
              "// See the License for the specific language governing permissions and\n",
              "// limitations under the License.\n",
              "\n",
              "/**\n",
              " * @fileoverview Helpers for google.colab Python module.\n",
              " */\n",
              "(function(scope) {\n",
              "function span(text, styleAttributes = {}) {\n",
              "  const element = document.createElement('span');\n",
              "  element.textContent = text;\n",
              "  for (const key of Object.keys(styleAttributes)) {\n",
              "    element.style[key] = styleAttributes[key];\n",
              "  }\n",
              "  return element;\n",
              "}\n",
              "\n",
              "// Max number of bytes which will be uploaded at a time.\n",
              "const MAX_PAYLOAD_SIZE = 100 * 1024;\n",
              "\n",
              "function _uploadFiles(inputId, outputId) {\n",
              "  const steps = uploadFilesStep(inputId, outputId);\n",
              "  const outputElement = document.getElementById(outputId);\n",
              "  // Cache steps on the outputElement to make it available for the next call\n",
              "  // to uploadFilesContinue from Python.\n",
              "  outputElement.steps = steps;\n",
              "\n",
              "  return _uploadFilesContinue(outputId);\n",
              "}\n",
              "\n",
              "// This is roughly an async generator (not supported in the browser yet),\n",
              "// where there are multiple asynchronous steps and the Python side is going\n",
              "// to poll for completion of each step.\n",
              "// This uses a Promise to block the python side on completion of each step,\n",
              "// then passes the result of the previous step as the input to the next step.\n",
              "function _uploadFilesContinue(outputId) {\n",
              "  const outputElement = document.getElementById(outputId);\n",
              "  const steps = outputElement.steps;\n",
              "\n",
              "  const next = steps.next(outputElement.lastPromiseValue);\n",
              "  return Promise.resolve(next.value.promise).then((value) => {\n",
              "    // Cache the last promise value to make it available to the next\n",
              "    // step of the generator.\n",
              "    outputElement.lastPromiseValue = value;\n",
              "    return next.value.response;\n",
              "  });\n",
              "}\n",
              "\n",
              "/**\n",
              " * Generator function which is called between each async step of the upload\n",
              " * process.\n",
              " * @param {string} inputId Element ID of the input file picker element.\n",
              " * @param {string} outputId Element ID of the output display.\n",
              " * @return {!Iterable<!Object>} Iterable of next steps.\n",
              " */\n",
              "function* uploadFilesStep(inputId, outputId) {\n",
              "  const inputElement = document.getElementById(inputId);\n",
              "  inputElement.disabled = false;\n",
              "\n",
              "  const outputElement = document.getElementById(outputId);\n",
              "  outputElement.innerHTML = '';\n",
              "\n",
              "  const pickedPromise = new Promise((resolve) => {\n",
              "    inputElement.addEventListener('change', (e) => {\n",
              "      resolve(e.target.files);\n",
              "    });\n",
              "  });\n",
              "\n",
              "  const cancel = document.createElement('button');\n",
              "  inputElement.parentElement.appendChild(cancel);\n",
              "  cancel.textContent = 'Cancel upload';\n",
              "  const cancelPromise = new Promise((resolve) => {\n",
              "    cancel.onclick = () => {\n",
              "      resolve(null);\n",
              "    };\n",
              "  });\n",
              "\n",
              "  // Wait for the user to pick the files.\n",
              "  const files = yield {\n",
              "    promise: Promise.race([pickedPromise, cancelPromise]),\n",
              "    response: {\n",
              "      action: 'starting',\n",
              "    }\n",
              "  };\n",
              "\n",
              "  cancel.remove();\n",
              "\n",
              "  // Disable the input element since further picks are not allowed.\n",
              "  inputElement.disabled = true;\n",
              "\n",
              "  if (!files) {\n",
              "    return {\n",
              "      response: {\n",
              "        action: 'complete',\n",
              "      }\n",
              "    };\n",
              "  }\n",
              "\n",
              "  for (const file of files) {\n",
              "    const li = document.createElement('li');\n",
              "    li.append(span(file.name, {fontWeight: 'bold'}));\n",
              "    li.append(span(\n",
              "        `(${file.type || 'n/a'}) - ${file.size} bytes, ` +\n",
              "        `last modified: ${\n",
              "            file.lastModifiedDate ? file.lastModifiedDate.toLocaleDateString() :\n",
              "                                    'n/a'} - `));\n",
              "    const percent = span('0% done');\n",
              "    li.appendChild(percent);\n",
              "\n",
              "    outputElement.appendChild(li);\n",
              "\n",
              "    const fileDataPromise = new Promise((resolve) => {\n",
              "      const reader = new FileReader();\n",
              "      reader.onload = (e) => {\n",
              "        resolve(e.target.result);\n",
              "      };\n",
              "      reader.readAsArrayBuffer(file);\n",
              "    });\n",
              "    // Wait for the data to be ready.\n",
              "    let fileData = yield {\n",
              "      promise: fileDataPromise,\n",
              "      response: {\n",
              "        action: 'continue',\n",
              "      }\n",
              "    };\n",
              "\n",
              "    // Use a chunked sending to avoid message size limits. See b/62115660.\n",
              "    let position = 0;\n",
              "    do {\n",
              "      const length = Math.min(fileData.byteLength - position, MAX_PAYLOAD_SIZE);\n",
              "      const chunk = new Uint8Array(fileData, position, length);\n",
              "      position += length;\n",
              "\n",
              "      const base64 = btoa(String.fromCharCode.apply(null, chunk));\n",
              "      yield {\n",
              "        response: {\n",
              "          action: 'append',\n",
              "          file: file.name,\n",
              "          data: base64,\n",
              "        },\n",
              "      };\n",
              "\n",
              "      let percentDone = fileData.byteLength === 0 ?\n",
              "          100 :\n",
              "          Math.round((position / fileData.byteLength) * 100);\n",
              "      percent.textContent = `${percentDone}% done`;\n",
              "\n",
              "    } while (position < fileData.byteLength);\n",
              "  }\n",
              "\n",
              "  // All done.\n",
              "  yield {\n",
              "    response: {\n",
              "      action: 'complete',\n",
              "    }\n",
              "  };\n",
              "}\n",
              "\n",
              "scope.google = scope.google || {};\n",
              "scope.google.colab = scope.google.colab || {};\n",
              "scope.google.colab._files = {\n",
              "  _uploadFiles,\n",
              "  _uploadFilesContinue,\n",
              "};\n",
              "})(self);\n",
              "</script> "
            ]
          },
          "metadata": {}
        },
        {
          "output_type": "stream",
          "name": "stdout",
          "text": [
            "Saving utils.py to utils.py\n"
          ]
        }
      ]
    },
    {
      "cell_type": "code",
      "metadata": {
        "colab": {
          "base_uri": "https://localhost:8080/",
          "height": 297
        },
        "id": "pl3znvIx_guZ",
        "outputId": "19fed139-c8dc-4ad1-aaef-980a7f1e1da7"
      },
      "source": [
        "from matplotlib.colors import ListedColormap\n",
        "import matplotlib.pyplot as plt\n",
        "import numpy as np\n",
        "import pandas as pd\n",
        "from utils import lenses_dataset, get_colors\n",
        "\n",
        "\n",
        "X, y = lenses_dataset()\n",
        "\n",
        "# For consistent color plotting:\n",
        "\n",
        "cmap=get_colors(y)\n",
        "\n",
        "plt.scatter(X[:, 0], X[:, 1], c=y, cmap=cmap)\n",
        "plt.tight_layout()\n",
        "plt.show()"
      ],
      "execution_count": null,
      "outputs": [
        {
          "output_type": "display_data",
          "data": {
            "text/plain": [
              "<Figure size 432x288 with 1 Axes>"
            ],
            "image/png": "[encoded data removed]"
          },
          "metadata": {
            "needs_background": "light"
          }
        }
      ]
    },
    {
      "cell_type": "markdown",
      "metadata": {
        "id": "_QvnmMs1_gua"
      },
      "source": [
        "Let's split it into a training and testing set "
      ]
    },
    {
      "cell_type": "code",
      "metadata": {
        "id": "IXG3HvEd_gua"
      },
      "source": [
        "from sklearn.model_selection import train_test_split\n",
        "\n",
        "X_train, X_test, y_train, y_test = train_test_split(X, y, test_size=.2, random_state=10) "
      ],
      "execution_count": null,
      "outputs": []
    },
    {
      "cell_type": "markdown",
      "metadata": {
        "id": "nScv-AKn_gua"
      },
      "source": [
        "We will build a Perceptron using Keras as an example-- Recall that a perceptron is a 0 hidden layer neural network with a single output unit. In Keras terms, it's a single Dense layer with 1 unit. \n",
        "\n",
        "We will build this perceptron with a sigmoidal output (so it outputs a probability of class 1) and the binary_crossentropy loss function (which corresponds to sigmoid)."
      ]
    },
    {
      "cell_type": "code",
      "metadata": {
        "id": "CHaYpfBx_gua"
      },
      "source": [
        "# Relevant imports\n",
        "from keras.models import Sequential\n",
        "# Keras refers to an architecture in which the outputs of \n",
        "# one layer are the inputs to the next as \"Sequential\"\n",
        "from keras.layers import Dense\n",
        "# Everything we've talked about in class so far is referred to in \n",
        "# Keras as a \"dense\" connection between layers, where every input \n",
        "# unit connects to a unit in the next layer\n",
        "from tensorflow.keras.optimizers import SGD\n",
        "# SGD is the learning algorithm we will use"
      ],
      "execution_count": null,
      "outputs": []
    },
    {
      "cell_type": "markdown",
      "metadata": {
        "id": "ZzB0NzcT_gua"
      },
      "source": [
        "# Exercise 1:"
      ]
    },
    {
      "cell_type": "markdown",
      "metadata": {
        "id": "5LKr9HK7hteo"
      },
      "source": [
        "Q1. Let's first create neural network with 1 layer \n",
        "\n",
        "To add a layer to the architecture, you would simply use .add(LAYER).\n",
        "\n",
        "Each \"input_dim\" of each layer should be the number units in the previous layer (in this case the input), and the number of \"units\" should be the number of outputs of the layer (in this case it will be 1)."
      ]
    },
    {
      "cell_type": "code",
      "source": [
        "X_train[:5]\n",
        "y_train[:5]"
      ],
      "metadata": {
        "colab": {
          "base_uri": "https://localhost:8080/"
        },
        "id": "eSPkZ4aPiAUr",
        "outputId": "d0a6a6a3-0f71-4245-e3a9-ed0e12dbfed4"
      },
      "execution_count": null,
      "outputs": [
        {
          "output_type": "execute_result",
          "data": {
            "text/plain": [
              "array([0, 0, 0, 1, 1])"
            ]
          },
          "metadata": {},
          "execution_count": 32
        }
      ]
    },
    {
      "cell_type": "code",
      "metadata": {
        "id": "kYqYNFrP_gua"
      },
      "source": [
        "### YOUR CODE HERE ###\n",
        "perceptron = Sequential()\n",
        "perceptron.add(Dense(1, input_dim=X_train.shape[-1], activation= 'sigmoid'))"
      ],
      "execution_count": null,
      "outputs": []
    },
    {
      "cell_type": "markdown",
      "metadata": {
        "id": "cSX2bBrC_gua"
      },
      "source": [
        "Now we specify how to optimize the neural network. We mentioned gradient descent and stochastic gradient descent in class. Let's use the latter here and compile the model. We also specify the loss function as \"binary_crossentropy\". "
      ]
    },
    {
      "cell_type": "code",
      "metadata": {
        "id": "xP3evo0F_gua"
      },
      "source": [
        "sgd = SGD(learning_rate=0.001, decay=1e-7, momentum=.9)  # Stochastic gradient descent\n",
        "perceptron.compile(loss=\"binary_crossentropy\", optimizer=sgd)"
      ],
      "execution_count": null,
      "outputs": []
    },
    {
      "cell_type": "markdown",
      "metadata": {
        "id": "0C2FWqEDY2ZK"
      },
      "source": [
        "Q2. Now we train the built perceptron with appropriate epochs and batch_size."
      ]
    },
    {
      "cell_type": "code",
      "metadata": {
        "id": "fYKvumEB_gua",
        "scrolled": true,
        "colab": {
          "base_uri": "https://localhost:8080/"
        },
        "outputId": "529befde-ab4d-4977-d662-8072a7673298"
      },
      "source": [
        "### YOUR CODE HERE ###\n",
        "perceptron.fit(X_train, y_train, batch_size = 32, epochs = 100) "
      ],
      "execution_count": null,
      "outputs": [
        {
          "output_type": "stream",
          "name": "stdout",
          "text": [
            "Epoch 1/100\n",
            "5/5 [==============================] - 0s 3ms/step - loss: 0.6109\n",
            "Epoch 2/100\n",
            "5/5 [==============================] - 0s 3ms/step - loss: 0.6092\n",
            "Epoch 3/100\n",
            "5/5 [==============================] - 0s 3ms/step - loss: 0.6065\n",
            "Epoch 4/100\n",
            "5/5 [==============================] - 0s 2ms/step - loss: 0.6034\n",
            "Epoch 5/100\n",
            "5/5 [==============================] - 0s 3ms/step - loss: 0.5998\n",
            "Epoch 6/100\n",
            "5/5 [==============================] - 0s 4ms/step - loss: 0.5962\n",
            "Epoch 7/100\n",
            "5/5 [==============================] - 0s 3ms/step - loss: 0.5926\n",
            "Epoch 8/100\n",
            "5/5 [==============================] - 0s 3ms/step - loss: 0.5890\n",
            "Epoch 9/100\n",
            "5/5 [==============================] - 0s 3ms/step - loss: 0.5854\n",
            "Epoch 10/100\n",
            "5/5 [==============================] - 0s 3ms/step - loss: 0.5816\n",
            "Epoch 11/100\n",
            "5/5 [==============================] - 0s 3ms/step - loss: 0.5783\n",
            "Epoch 12/100\n",
            "5/5 [==============================] - 0s 3ms/step - loss: 0.5747\n",
            "Epoch 13/100\n",
            "5/5 [==============================] - 0s 6ms/step - loss: 0.5715\n",
            "Epoch 14/100\n",
            "5/5 [==============================] - 0s 3ms/step - loss: 0.5682\n",
            "Epoch 15/100\n",
            "5/5 [==============================] - 0s 3ms/step - loss: 0.5649\n",
            "Epoch 16/100\n",
            "5/5 [==============================] - 0s 4ms/step - loss: 0.5619\n",
            "Epoch 17/100\n",
            "5/5 [==============================] - 0s 3ms/step - loss: 0.5585\n",
            "Epoch 18/100\n",
            "5/5 [==============================] - 0s 3ms/step - loss: 0.5556\n",
            "Epoch 19/100\n",
            "5/5 [==============================] - 0s 3ms/step - loss: 0.5526\n",
            "Epoch 20/100\n",
            "5/5 [==============================] - 0s 3ms/step - loss: 0.5497\n",
            "Epoch 21/100\n",
            "5/5 [==============================] - 0s 3ms/step - loss: 0.5470\n",
            "Epoch 22/100\n",
            "5/5 [==============================] - 0s 3ms/step - loss: 0.5439\n",
            "Epoch 23/100\n",
            "5/5 [==============================] - 0s 3ms/step - loss: 0.5413\n",
            "Epoch 24/100\n",
            "5/5 [==============================] - 0s 3ms/step - loss: 0.5386\n",
            "Epoch 25/100\n",
            "5/5 [==============================] - 0s 3ms/step - loss: 0.5360\n",
            "Epoch 26/100\n",
            "5/5 [==============================] - 0s 3ms/step - loss: 0.5333\n",
            "Epoch 27/100\n",
            "5/5 [==============================] - 0s 3ms/step - loss: 0.5309\n",
            "Epoch 28/100\n",
            "5/5 [==============================] - 0s 3ms/step - loss: 0.5284\n",
            "Epoch 29/100\n",
            "5/5 [==============================] - 0s 3ms/step - loss: 0.5258\n",
            "Epoch 30/100\n",
            "5/5 [==============================] - 0s 3ms/step - loss: 0.5236\n",
            "Epoch 31/100\n",
            "5/5 [==============================] - 0s 3ms/step - loss: 0.5213\n",
            "Epoch 32/100\n",
            "5/5 [==============================] - 0s 3ms/step - loss: 0.5188\n",
            "Epoch 33/100\n",
            "5/5 [==============================] - 0s 4ms/step - loss: 0.5167\n",
            "Epoch 34/100\n",
            "5/5 [==============================] - 0s 3ms/step - loss: 0.5144\n",
            "Epoch 35/100\n",
            "5/5 [==============================] - 0s 3ms/step - loss: 0.5123\n",
            "Epoch 36/100\n",
            "5/5 [==============================] - 0s 3ms/step - loss: 0.5102\n",
            "Epoch 37/100\n",
            "5/5 [==============================] - 0s 3ms/step - loss: 0.5080\n",
            "Epoch 38/100\n",
            "5/5 [==============================] - 0s 3ms/step - loss: 0.5060\n",
            "Epoch 39/100\n",
            "5/5 [==============================] - 0s 3ms/step - loss: 0.5039\n",
            "Epoch 40/100\n",
            "5/5 [==============================] - 0s 3ms/step - loss: 0.5019\n",
            "Epoch 41/100\n",
            "5/5 [==============================] - 0s 3ms/step - loss: 0.4999\n",
            "Epoch 42/100\n",
            "5/5 [==============================] - 0s 3ms/step - loss: 0.4980\n",
            "Epoch 43/100\n",
            "5/5 [==============================] - 0s 3ms/step - loss: 0.4961\n",
            "Epoch 44/100\n",
            "5/5 [==============================] - 0s 4ms/step - loss: 0.4943\n",
            "Epoch 45/100\n",
            "5/5 [==============================] - 0s 3ms/step - loss: 0.4925\n",
            "Epoch 46/100\n",
            "5/5 [==============================] - 0s 3ms/step - loss: 0.4907\n",
            "Epoch 47/100\n",
            "5/5 [==============================] - 0s 3ms/step - loss: 0.4889\n",
            "Epoch 48/100\n",
            "5/5 [==============================] - 0s 3ms/step - loss: 0.4872\n",
            "Epoch 49/100\n",
            "5/5 [==============================] - 0s 3ms/step - loss: 0.4854\n",
            "Epoch 50/100\n",
            "5/5 [==============================] - 0s 3ms/step - loss: 0.4837\n",
            "Epoch 51/100\n",
            "5/5 [==============================] - 0s 3ms/step - loss: 0.4820\n",
            "Epoch 52/100\n",
            "5/5 [==============================] - 0s 3ms/step - loss: 0.4804\n",
            "Epoch 53/100\n",
            "5/5 [==============================] - 0s 3ms/step - loss: 0.4787\n",
            "Epoch 54/100\n",
            "5/5 [==============================] - 0s 3ms/step - loss: 0.4772\n",
            "Epoch 55/100\n",
            "5/5 [==============================] - 0s 3ms/step - loss: 0.4757\n",
            "Epoch 56/100\n",
            "5/5 [==============================] - 0s 3ms/step - loss: 0.4741\n",
            "Epoch 57/100\n",
            "5/5 [==============================] - 0s 3ms/step - loss: 0.4726\n",
            "Epoch 58/100\n",
            "5/5 [==============================] - 0s 3ms/step - loss: 0.4711\n",
            "Epoch 59/100\n",
            "5/5 [==============================] - 0s 3ms/step - loss: 0.4696\n",
            "Epoch 60/100\n",
            "5/5 [==============================] - 0s 3ms/step - loss: 0.4682\n",
            "Epoch 61/100\n",
            "5/5 [==============================] - 0s 3ms/step - loss: 0.4667\n",
            "Epoch 62/100\n",
            "5/5 [==============================] - 0s 3ms/step - loss: 0.4653\n",
            "Epoch 63/100\n",
            "5/5 [==============================] - 0s 4ms/step - loss: 0.4639\n",
            "Epoch 64/100\n",
            "5/5 [==============================] - 0s 3ms/step - loss: 0.4626\n",
            "Epoch 65/100\n",
            "5/5 [==============================] - 0s 3ms/step - loss: 0.4612\n",
            "Epoch 66/100\n",
            "5/5 [==============================] - 0s 3ms/step - loss: 0.4599\n",
            "Epoch 67/100\n",
            "5/5 [==============================] - 0s 4ms/step - loss: 0.4585\n",
            "Epoch 68/100\n",
            "5/5 [==============================] - 0s 3ms/step - loss: 0.4573\n",
            "Epoch 69/100\n",
            "5/5 [==============================] - 0s 3ms/step - loss: 0.4560\n",
            "Epoch 70/100\n",
            "5/5 [==============================] - 0s 3ms/step - loss: 0.4548\n",
            "Epoch 71/100\n",
            "5/5 [==============================] - 0s 3ms/step - loss: 0.4535\n",
            "Epoch 72/100\n",
            "5/5 [==============================] - 0s 3ms/step - loss: 0.4523\n",
            "Epoch 73/100\n",
            "5/5 [==============================] - 0s 3ms/step - loss: 0.4511\n",
            "Epoch 74/100\n",
            "5/5 [==============================] - 0s 3ms/step - loss: 0.4499\n",
            "Epoch 75/100\n",
            "5/5 [==============================] - 0s 3ms/step - loss: 0.4487\n",
            "Epoch 76/100\n",
            "5/5 [==============================] - 0s 3ms/step - loss: 0.4475\n",
            "Epoch 77/100\n",
            "5/5 [==============================] - 0s 3ms/step - loss: 0.4464\n",
            "Epoch 78/100\n",
            "5/5 [==============================] - 0s 3ms/step - loss: 0.4453\n",
            "Epoch 79/100\n",
            "5/5 [==============================] - 0s 3ms/step - loss: 0.4442\n",
            "Epoch 80/100\n",
            "5/5 [==============================] - 0s 3ms/step - loss: 0.4430\n",
            "Epoch 81/100\n",
            "5/5 [==============================] - 0s 3ms/step - loss: 0.4420\n",
            "Epoch 82/100\n",
            "5/5 [==============================] - 0s 3ms/step - loss: 0.4409\n",
            "Epoch 83/100\n",
            "5/5 [==============================] - 0s 5ms/step - loss: 0.4399\n",
            "Epoch 84/100\n",
            "5/5 [==============================] - 0s 4ms/step - loss: 0.4388\n",
            "Epoch 85/100\n",
            "5/5 [==============================] - 0s 3ms/step - loss: 0.4378\n",
            "Epoch 86/100\n",
            "5/5 [==============================] - 0s 3ms/step - loss: 0.4367\n",
            "Epoch 87/100\n",
            "5/5 [==============================] - 0s 3ms/step - loss: 0.4357\n",
            "Epoch 88/100\n",
            "5/5 [==============================] - 0s 2ms/step - loss: 0.4347\n",
            "Epoch 89/100\n",
            "5/5 [==============================] - 0s 3ms/step - loss: 0.4337\n",
            "Epoch 90/100\n",
            "5/5 [==============================] - 0s 3ms/step - loss: 0.4328\n",
            "Epoch 91/100\n",
            "5/5 [==============================] - 0s 2ms/step - loss: 0.4318\n",
            "Epoch 92/100\n",
            "5/5 [==============================] - 0s 3ms/step - loss: 0.4308\n",
            "Epoch 93/100\n",
            "5/5 [==============================] - 0s 3ms/step - loss: 0.4299\n",
            "Epoch 94/100\n",
            "5/5 [==============================] - 0s 4ms/step - loss: 0.4289\n",
            "Epoch 95/100\n",
            "5/5 [==============================] - 0s 3ms/step - loss: 0.4280\n",
            "Epoch 96/100\n",
            "5/5 [==============================] - 0s 3ms/step - loss: 0.4271\n",
            "Epoch 97/100\n",
            "5/5 [==============================] - 0s 3ms/step - loss: 0.4262\n",
            "Epoch 98/100\n",
            "5/5 [==============================] - 0s 3ms/step - loss: 0.4253\n",
            "Epoch 99/100\n",
            "5/5 [==============================] - 0s 3ms/step - loss: 0.4245\n",
            "Epoch 100/100\n",
            "5/5 [==============================] - 0s 3ms/step - loss: 0.4236\n"
          ]
        },
        {
          "output_type": "execute_result",
          "data": {
            "text/plain": [
              "<keras.callbacks.History at 0x7f71565744c0>"
            ]
          },
          "metadata": {},
          "execution_count": 35
        }
      ]
    },
    {
      "cell_type": "markdown",
      "metadata": {
        "id": "2ThCJDBtc2I5"
      },
      "source": [
        "Q3. Compute accuracy by implementing your own function. "
      ]
    },
    {
      "cell_type": "code",
      "metadata": {
        "id": "-80e1aP7dhDy",
        "colab": {
          "base_uri": "https://localhost:8080/"
        },
        "outputId": "caaa1ebc-51a0-4634-d924-0a5f339bbf36"
      },
      "source": [
        "y_preds = perceptron.predict(X_test) "
      ],
      "execution_count": null,
      "outputs": [
        {
          "output_type": "stream",
          "name": "stdout",
          "text": [
            "2/2 [==============================] - 0s 5ms/step\n"
          ]
        }
      ]
    },
    {
      "cell_type": "code",
      "metadata": {
        "id": "cmCveopbdgGT"
      },
      "source": [
        "### Build your own function to calculate accuracy###\n",
        "def accuracy(y, y_preds):\n",
        "\n",
        "    c = 0\n",
        "    t = 0\n",
        "\n",
        "    for i, j in zip(y, y_preds):\n",
        "\n",
        "          if j > 0.5:\n",
        "            j = 1\n",
        "          else:\n",
        "            j = 0\n",
        "          if i == j:\n",
        "            c = c + 1\n",
        "          else:\n",
        "            t = t + 1      \n",
        "    return c / (c + t)"
      ],
      "execution_count": null,
      "outputs": []
    },
    {
      "cell_type": "code",
      "metadata": {
        "id": "wPvMXn8sfBFe",
        "colab": {
          "base_uri": "https://localhost:8080/"
        },
        "outputId": "a505d2f8-5d5f-4ff5-a9ab-418ce14b9ba7"
      },
      "source": [
        "print(f'The accuracy is: {accuracy(y_test, y_preds)}')"
      ],
      "execution_count": null,
      "outputs": [
        {
          "output_type": "stream",
          "name": "stdout",
          "text": [
            "The accuracy is: 0.85\n"
          ]
        }
      ]
    },
    {
      "cell_type": "code",
      "metadata": {
        "id": "1L_NWfFz_gub",
        "colab": {
          "base_uri": "https://localhost:8080/",
          "height": 664
        },
        "outputId": "482b0346-42d7-46a1-d09b-57efee128f46"
      },
      "source": [
        "from utils import visualize_2d_classification\n",
        "f, ax = visualize_2d_classification(perceptron, X_train, y_train)\n",
        "ax.set_ylabel(\"Train\")\n",
        "f, ax = visualize_2d_classification(perceptron, X_test, y_test)\n",
        "ax.set_ylabel(\"Test\")"
      ],
      "execution_count": null,
      "outputs": [
        {
          "output_type": "stream",
          "name": "stdout",
          "text": [
            "77/77 [==============================] - 0s 1ms/step\n",
            "77/77 [==============================] - 0s 1ms/step\n",
            "67/67 [==============================] - 0s 2ms/step\n",
            "67/67 [==============================] - 0s 1ms/step\n"
          ]
        },
        {
          "output_type": "execute_result",
          "data": {
            "text/plain": [
              "Text(18.75, 0.5, 'Test')"
            ]
          },
          "metadata": {},
          "execution_count": 40
        },
        {
          "output_type": "display_data",
          "data": {
            "text/plain": [
              "<Figure size 432x288 with 1 Axes>"
            ],
            "image/png": "[encoded data removed]"
          },
          "metadata": {
            "needs_background": "light"
          }
        },
        {
          "output_type": "display_data",
          "data": {
            "text/plain": [
              "<Figure size 432x288 with 1 Axes>"
            ],
            "image/png": "[encoded data removed]"
          },
          "metadata": {
            "needs_background": "light"
          }
        }
      ]
    },
    {
      "cell_type": "markdown",
      "metadata": {
        "id": "we3xmMhp_gub"
      },
      "source": [
        "Recall that a perceptron is nothing more than a linear classifier, which is trying to separate our data using a line. It turns out that the introduction of hidden layers allows us to draw \"lines\" in higher dimensions, which, when mapped back into our original 2d space,  may look nonlinear."
      ]
    },
    {
      "cell_type": "markdown",
      "metadata": {
        "id": "0x5MFXii_gub"
      },
      "source": [
        "# Exercise 2:\n",
        "\n",
        "For this exercise, use Keras to create a 2-layer neural network by completing build_one_output_model(). We will then add one hidden layer of 2 units and an output layer of 1 unit (corresponding to our classes- sometimes referred to as a \"readout\" layer). \n",
        "\n",
        "The model has already been initialized and the optimizer and loss function have been defined for you.\n",
        "\n",
        "For your intermediate layers, use \"relu\" as the activation function, and \"sigmoid\" (as the demo above) for your output layer."
      ]
    },
    {
      "cell_type": "code",
      "metadata": {
        "id": "bs9rWhZg_gub"
      },
      "source": [
        "# Keras uses the Sequential model for linear stacking of layers.\n",
        "# That is, creating a neural network is as easy as (later)\n",
        "# defining the layers!\n",
        "from keras.models import Sequential\n",
        "# Everything we've talked about in class so far is referred to in\n",
        "# Keras as a \"dense\" connection between layers, where every input\n",
        "# unit connects to a unit in the next layer\n",
        "\n",
        "from keras.layers import Dense\n",
        "# SGD is the learning algorithm we will use\n",
        "from tensorflow.keras.optimizers import SGD\n",
        "from keras.layers import Dense, Dropout\n",
        "from sklearn.linear_model import LogisticRegression\n",
        "from sklearn.ensemble import RandomForestClassifier\n",
        "from sklearn.model_selection import GridSearchCV"
      ],
      "execution_count": null,
      "outputs": []
    },
    {
      "cell_type": "markdown",
      "metadata": {
        "id": "PmWa5rLoTtWk"
      },
      "source": [
        "Q1. Create a 2 layer neural network by completing build_one_output_model()."
      ]
    },
    {
      "cell_type": "code",
      "metadata": {
        "id": "KtqwyMuB_gub"
      },
      "source": [
        "def build_one_output_model():\n",
        "    model = Sequential()\n",
        "\n",
        "    ### YOUR CODE HERE ###\n",
        "    # Add a input hidden layer with 2 units \n",
        "    model.add(Dense(2, input_dim = 2, activation = \"relu\"))\n",
        "\n",
        "    # Add a final output layer with 1 unit \n",
        "    model.add(Dense(1, activation = \"sigmoid\"))\n",
        "    \n",
        "    # Specify SGD optimizer with appropriate values in learning_rate, decay and momentum.\n",
        "    sgd = SGD(learning_rate=0.001, decay=1e-7, momentum=.9)\n",
        "\n",
        "    # compile the model with \"binary_crossentropy\" loss and SGD optimizer. \n",
        "    model.compile(loss=\"binary_crossentropy\", optimizer=sgd)\n",
        "\n",
        "    return model\n"
      ],
      "execution_count": null,
      "outputs": []
    },
    {
      "cell_type": "code",
      "metadata": {
        "id": "brjdknPHCkrI"
      },
      "source": [
        "model = build_one_output_model()"
      ],
      "execution_count": null,
      "outputs": []
    },
    {
      "cell_type": "markdown",
      "metadata": {
        "id": "N3FpfAjlX6YU"
      },
      "source": [
        "Q2. Fit your model by training set with appropriate epochs and batch_size."
      ]
    },
    {
      "cell_type": "code",
      "metadata": {
        "id": "p2opOllvX6YU",
        "colab": {
          "base_uri": "https://localhost:8080/"
        },
        "outputId": "8189a739-d082-4c9a-bc45-d992080e5143"
      },
      "source": [
        "### YOUR CODE HERE ###\n",
        "model.fit(X_train, y_train, batch_size = 32, epochs = 100) #Check batch sizes and reduce number of epochs"
      ],
      "execution_count": null,
      "outputs": [
        {
          "output_type": "stream",
          "name": "stdout",
          "text": [
            "Epoch 1/100\n",
            "5/5 [==============================] - 0s 4ms/step - loss: 0.3842\n",
            "Epoch 2/100\n",
            "5/5 [==============================] - 0s 4ms/step - loss: 0.3837\n",
            "Epoch 3/100\n",
            "5/5 [==============================] - 0s 4ms/step - loss: 0.3831\n",
            "Epoch 4/100\n",
            "5/5 [==============================] - 0s 4ms/step - loss: 0.3826\n",
            "Epoch 5/100\n",
            "5/5 [==============================] - 0s 3ms/step - loss: 0.3821\n",
            "Epoch 6/100\n",
            "5/5 [==============================] - 0s 3ms/step - loss: 0.3815\n",
            "Epoch 7/100\n",
            "5/5 [==============================] - 0s 3ms/step - loss: 0.3810\n",
            "Epoch 8/100\n",
            "5/5 [==============================] - 0s 3ms/step - loss: 0.3804\n",
            "Epoch 9/100\n",
            "5/5 [==============================] - 0s 4ms/step - loss: 0.3799\n",
            "Epoch 10/100\n",
            "5/5 [==============================] - 0s 3ms/step - loss: 0.3794\n",
            "Epoch 11/100\n",
            "5/5 [==============================] - 0s 5ms/step - loss: 0.3788\n",
            "Epoch 12/100\n",
            "5/5 [==============================] - 0s 4ms/step - loss: 0.3783\n",
            "Epoch 13/100\n",
            "5/5 [==============================] - 0s 4ms/step - loss: 0.3778\n",
            "Epoch 14/100\n",
            "5/5 [==============================] - 0s 3ms/step - loss: 0.3773\n",
            "Epoch 15/100\n",
            "5/5 [==============================] - 0s 4ms/step - loss: 0.3768\n",
            "Epoch 16/100\n",
            "5/5 [==============================] - 0s 4ms/step - loss: 0.3763\n",
            "Epoch 17/100\n",
            "5/5 [==============================] - 0s 3ms/step - loss: 0.3758\n",
            "Epoch 18/100\n",
            "5/5 [==============================] - 0s 3ms/step - loss: 0.3753\n",
            "Epoch 19/100\n",
            "5/5 [==============================] - 0s 4ms/step - loss: 0.3747\n",
            "Epoch 20/100\n",
            "5/5 [==============================] - 0s 3ms/step - loss: 0.3743\n",
            "Epoch 21/100\n",
            "5/5 [==============================] - 0s 4ms/step - loss: 0.3738\n",
            "Epoch 22/100\n",
            "5/5 [==============================] - 0s 4ms/step - loss: 0.3733\n",
            "Epoch 23/100\n",
            "5/5 [==============================] - 0s 4ms/step - loss: 0.3728\n",
            "Epoch 24/100\n",
            "5/5 [==============================] - 0s 5ms/step - loss: 0.3723\n",
            "Epoch 25/100\n",
            "5/5 [==============================] - 0s 7ms/step - loss: 0.3718\n",
            "Epoch 26/100\n",
            "5/5 [==============================] - 0s 4ms/step - loss: 0.3714\n",
            "Epoch 27/100\n",
            "5/5 [==============================] - 0s 4ms/step - loss: 0.3709\n",
            "Epoch 28/100\n",
            "5/5 [==============================] - 0s 4ms/step - loss: 0.3704\n",
            "Epoch 29/100\n",
            "5/5 [==============================] - 0s 4ms/step - loss: 0.3699\n",
            "Epoch 30/100\n",
            "5/5 [==============================] - 0s 7ms/step - loss: 0.3694\n",
            "Epoch 31/100\n",
            "5/5 [==============================] - 0s 4ms/step - loss: 0.3690\n",
            "Epoch 32/100\n",
            "5/5 [==============================] - 0s 4ms/step - loss: 0.3686\n",
            "Epoch 33/100\n",
            "5/5 [==============================] - 0s 3ms/step - loss: 0.3682\n",
            "Epoch 34/100\n",
            "5/5 [==============================] - 0s 5ms/step - loss: 0.3676\n",
            "Epoch 35/100\n",
            "5/5 [==============================] - 0s 3ms/step - loss: 0.3672\n",
            "Epoch 36/100\n",
            "5/5 [==============================] - 0s 4ms/step - loss: 0.3667\n",
            "Epoch 37/100\n",
            "5/5 [==============================] - 0s 4ms/step - loss: 0.3663\n",
            "Epoch 38/100\n",
            "5/5 [==============================] - 0s 4ms/step - loss: 0.3658\n",
            "Epoch 39/100\n",
            "5/5 [==============================] - 0s 3ms/step - loss: 0.3654\n",
            "Epoch 40/100\n",
            "5/5 [==============================] - 0s 5ms/step - loss: 0.3650\n",
            "Epoch 41/100\n",
            "5/5 [==============================] - 0s 3ms/step - loss: 0.3645\n",
            "Epoch 42/100\n",
            "5/5 [==============================] - 0s 3ms/step - loss: 0.3641\n",
            "Epoch 43/100\n",
            "5/5 [==============================] - 0s 3ms/step - loss: 0.3636\n",
            "Epoch 44/100\n",
            "5/5 [==============================] - 0s 3ms/step - loss: 0.3632\n",
            "Epoch 45/100\n",
            "5/5 [==============================] - 0s 3ms/step - loss: 0.3628\n",
            "Epoch 46/100\n",
            "5/5 [==============================] - 0s 4ms/step - loss: 0.3624\n",
            "Epoch 47/100\n",
            "5/5 [==============================] - 0s 3ms/step - loss: 0.3619\n",
            "Epoch 48/100\n",
            "5/5 [==============================] - 0s 3ms/step - loss: 0.3616\n",
            "Epoch 49/100\n",
            "5/5 [==============================] - 0s 3ms/step - loss: 0.3611\n",
            "Epoch 50/100\n",
            "5/5 [==============================] - 0s 3ms/step - loss: 0.3608\n",
            "Epoch 51/100\n",
            "5/5 [==============================] - 0s 3ms/step - loss: 0.3603\n",
            "Epoch 52/100\n",
            "5/5 [==============================] - 0s 4ms/step - loss: 0.3599\n",
            "Epoch 53/100\n",
            "5/5 [==============================] - 0s 3ms/step - loss: 0.3595\n",
            "Epoch 54/100\n",
            "5/5 [==============================] - 0s 3ms/step - loss: 0.3591\n",
            "Epoch 55/100\n",
            "5/5 [==============================] - 0s 3ms/step - loss: 0.3587\n",
            "Epoch 56/100\n",
            "5/5 [==============================] - 0s 3ms/step - loss: 0.3583\n",
            "Epoch 57/100\n",
            "5/5 [==============================] - 0s 4ms/step - loss: 0.3579\n",
            "Epoch 58/100\n",
            "5/5 [==============================] - 0s 3ms/step - loss: 0.3575\n",
            "Epoch 59/100\n",
            "5/5 [==============================] - 0s 3ms/step - loss: 0.3571\n",
            "Epoch 60/100\n",
            "5/5 [==============================] - 0s 3ms/step - loss: 0.3568\n",
            "Epoch 61/100\n",
            "5/5 [==============================] - 0s 3ms/step - loss: 0.3564\n",
            "Epoch 62/100\n",
            "5/5 [==============================] - 0s 2ms/step - loss: 0.3560\n",
            "Epoch 63/100\n",
            "5/5 [==============================] - 0s 3ms/step - loss: 0.3556\n",
            "Epoch 64/100\n",
            "5/5 [==============================] - 0s 3ms/step - loss: 0.3552\n",
            "Epoch 65/100\n",
            "5/5 [==============================] - 0s 3ms/step - loss: 0.3549\n",
            "Epoch 66/100\n",
            "5/5 [==============================] - 0s 4ms/step - loss: 0.3545\n",
            "Epoch 67/100\n",
            "5/5 [==============================] - 0s 4ms/step - loss: 0.3541\n",
            "Epoch 68/100\n",
            "5/5 [==============================] - 0s 4ms/step - loss: 0.3537\n",
            "Epoch 69/100\n",
            "5/5 [==============================] - 0s 3ms/step - loss: 0.3534\n",
            "Epoch 70/100\n",
            "5/5 [==============================] - 0s 3ms/step - loss: 0.3530\n",
            "Epoch 71/100\n",
            "5/5 [==============================] - 0s 2ms/step - loss: 0.3527\n",
            "Epoch 72/100\n",
            "5/5 [==============================] - 0s 3ms/step - loss: 0.3523\n",
            "Epoch 73/100\n",
            "5/5 [==============================] - 0s 3ms/step - loss: 0.3519\n",
            "Epoch 74/100\n",
            "5/5 [==============================] - 0s 3ms/step - loss: 0.3516\n",
            "Epoch 75/100\n",
            "5/5 [==============================] - 0s 3ms/step - loss: 0.3512\n",
            "Epoch 76/100\n",
            "5/5 [==============================] - 0s 3ms/step - loss: 0.3509\n",
            "Epoch 77/100\n",
            "5/5 [==============================] - 0s 3ms/step - loss: 0.3505\n",
            "Epoch 78/100\n",
            "5/5 [==============================] - 0s 3ms/step - loss: 0.3502\n",
            "Epoch 79/100\n",
            "5/5 [==============================] - 0s 3ms/step - loss: 0.3499\n",
            "Epoch 80/100\n",
            "5/5 [==============================] - 0s 3ms/step - loss: 0.3495\n",
            "Epoch 81/100\n",
            "5/5 [==============================] - 0s 3ms/step - loss: 0.3492\n",
            "Epoch 82/100\n",
            "5/5 [==============================] - 0s 3ms/step - loss: 0.3488\n",
            "Epoch 83/100\n",
            "5/5 [==============================] - 0s 3ms/step - loss: 0.3485\n",
            "Epoch 84/100\n",
            "5/5 [==============================] - 0s 2ms/step - loss: 0.3482\n",
            "Epoch 85/100\n",
            "5/5 [==============================] - 0s 2ms/step - loss: 0.3478\n",
            "Epoch 86/100\n",
            "5/5 [==============================] - 0s 3ms/step - loss: 0.3475\n",
            "Epoch 87/100\n",
            "5/5 [==============================] - 0s 3ms/step - loss: 0.3472\n",
            "Epoch 88/100\n",
            "5/5 [==============================] - 0s 3ms/step - loss: 0.3468\n",
            "Epoch 89/100\n",
            "5/5 [==============================] - 0s 3ms/step - loss: 0.3465\n",
            "Epoch 90/100\n",
            "5/5 [==============================] - 0s 2ms/step - loss: 0.3462\n",
            "Epoch 91/100\n",
            "5/5 [==============================] - 0s 3ms/step - loss: 0.3459\n",
            "Epoch 92/100\n",
            "5/5 [==============================] - 0s 2ms/step - loss: 0.3455\n",
            "Epoch 93/100\n",
            "5/5 [==============================] - 0s 3ms/step - loss: 0.3452\n",
            "Epoch 94/100\n",
            "5/5 [==============================] - 0s 3ms/step - loss: 0.3449\n",
            "Epoch 95/100\n",
            "5/5 [==============================] - 0s 3ms/step - loss: 0.3446\n",
            "Epoch 96/100\n",
            "5/5 [==============================] - 0s 3ms/step - loss: 0.3443\n",
            "Epoch 97/100\n",
            "5/5 [==============================] - 0s 3ms/step - loss: 0.3440\n",
            "Epoch 98/100\n",
            "5/5 [==============================] - 0s 2ms/step - loss: 0.3437\n",
            "Epoch 99/100\n",
            "5/5 [==============================] - 0s 3ms/step - loss: 0.3434\n",
            "Epoch 100/100\n",
            "5/5 [==============================] - 0s 3ms/step - loss: 0.3430\n"
          ]
        },
        {
          "output_type": "execute_result",
          "data": {
            "text/plain": [
              "<keras.callbacks.History at 0x7fe32eee2f70>"
            ]
          },
          "metadata": {},
          "execution_count": 19
        }
      ]
    },
    {
      "cell_type": "markdown",
      "metadata": {
        "id": "tcsMH0cqVOkf"
      },
      "source": [
        "Q3. Compute accuracy by using your own function."
      ]
    },
    {
      "cell_type": "code",
      "metadata": {
        "id": "MZblWvclVoYs",
        "colab": {
          "base_uri": "https://localhost:8080/"
        },
        "outputId": "a4030519-55d3-4105-a3cd-070b58467405"
      },
      "source": [
        "### YOUR CODE HERE ###\n",
        "y_preds_v2 = model.predict(X_test) \n",
        "print(f'The accuracy is: {accuracy(y_test, y_preds_v2)}')"
      ],
      "execution_count": null,
      "outputs": [
        {
          "output_type": "stream",
          "name": "stdout",
          "text": [
            "2/2 [==============================] - 0s 4ms/step\n",
            "The accuracy is: 0.85\n"
          ]
        }
      ]
    },
    {
      "cell_type": "code",
      "metadata": {
        "id": "rIycnAjv_gub",
        "colab": {
          "base_uri": "https://localhost:8080/",
          "height": 666
        },
        "outputId": "750aa047-c04b-4c85-960a-406d0c7a28a5"
      },
      "source": [
        "# And visualize how your model did\n",
        "f, ax = visualize_2d_classification(model, X_train, y_train)\n",
        "ax.set_ylabel(\"Train\")\n",
        "f, ax = visualize_2d_classification(model, X_test, y_test)\n",
        "ax.set_ylabel(\"Test\")\n"
      ],
      "execution_count": null,
      "outputs": [
        {
          "output_type": "stream",
          "name": "stdout",
          "text": [
            "77/77 [==============================] - 0s 1ms/step\n",
            "77/77 [==============================] - 0s 1ms/step\n",
            "67/67 [==============================] - 0s 1ms/step\n",
            "67/67 [==============================] - 0s 1ms/step\n"
          ]
        },
        {
          "output_type": "execute_result",
          "data": {
            "text/plain": [
              "Text(18.75, 0.5, 'Test')"
            ]
          },
          "metadata": {},
          "execution_count": 22
        },
        {
          "output_type": "display_data",
          "data": {
            "text/plain": [
              "<Figure size 432x288 with 1 Axes>"
            ],
            "image/png": "[encoded data removed]"
          },
          "metadata": {
            "needs_background": "light"
          }
        },
        {
          "output_type": "display_data",
          "data": {
            "text/plain": [
              "<Figure size 432x288 with 1 Axes>"
            ],
            "image/png": "[encoded data removed]"
          },
          "metadata": {
            "needs_background": "light"
          }
        }
      ]
    },
    {
      "cell_type": "markdown",
      "metadata": {
        "id": "ey0k0RJg_gub"
      },
      "source": [
        "It is actually quite rare for a classification neural network to have a single output unit as we've implemented above. Usually we have a $k$ unit output layer, where $k$ is the number of classes. This is typically done because when combined with the \"softmax\" activation function , the activity of each unit corresponds with the probability of that class. This allows us to easily extend to multiclass classification.\n",
        "\n",
        "Now we will still work with two units, but map them to two output units rather than 1. class 0 will be [1, 0], and class 1 will be [0, 1]. This operation is referred to as \"one hot encoding\". "
      ]
    },
    {
      "cell_type": "code",
      "metadata": {
        "id": "Mt9iaP75_gub"
      },
      "source": [
        "# Before we can fit the network, we need to one-hot vectorize our response.\n",
        "# There is a keras method for that.\n",
        "from tensorflow.keras.utils import to_categorical\n",
        "\n",
        "y_train_vectorized = to_categorical(y_train)"
      ],
      "execution_count": null,
      "outputs": []
    },
    {
      "cell_type": "code",
      "metadata": {
        "colab": {
          "base_uri": "https://localhost:8080/"
        },
        "id": "okTn-Pgd_gub",
        "outputId": "af2d1132-09bc-4e20-e9b5-4e005462c104"
      },
      "source": [
        "# print(\"Label | One-hot\")\n",
        "for i in range(10):\n",
        "    print(\"{} | {}\".format(y_train[i], y_train_vectorized[i]))"
      ],
      "execution_count": null,
      "outputs": [
        {
          "output_type": "stream",
          "name": "stdout",
          "text": [
            "0 | [1. 0.]\n",
            "0 | [1. 0.]\n",
            "0 | [1. 0.]\n",
            "1 | [0. 1.]\n",
            "1 | [0. 1.]\n",
            "0 | [1. 0.]\n",
            "0 | [1. 0.]\n",
            "0 | [1. 0.]\n",
            "0 | [1. 0.]\n",
            "0 | [1. 0.]\n"
          ]
        }
      ]
    },
    {
      "cell_type": "markdown",
      "metadata": {
        "id": "c-EYtOTw_gub"
      },
      "source": [
        "The one hot encoded vectors will serve as future labels for our models. \n",
        "\n",
        "# Exercise 3: \n",
        "\n",
        "Q1.Implement build_classification_model() that returns a sequential model that takes an input of size 2, passes it to a hidden layer of size 10, then a hidden layer of size 5, then a readout layer of size 2. \n",
        "\n",
        "\n",
        "As before, use the \"relu\" activation function for hidden layers, but since we have multiple output units, use the \"softmax\" activation for the final layer.\n",
        "\n",
        "We use SGD optimizer and \"categorical_crossentropy\" loss function to compile the model."
      ]
    },
    {
      "cell_type": "code",
      "source": [
        "def build_classification_model():\n",
        "    model = Sequential()\n",
        "\n",
        "    ### YOUR CODE HERE ###\n",
        "    # Add a input hidden layer with 2 units \n",
        "    model.add(Dense(10, input_dim = 2, activation = \"relu\"))\n",
        "\n",
        "    model.add(Dense(5, activation = \"relu\"))\n",
        "    \n",
        "    model.add(Dense(2, activation = \"softmax\"))\n",
        "\n",
        "    # Specify SGD optimizer with appropriate values in learning_rate, decay and momentum.\n",
        "    sgd = SGD(learning_rate=0.001, decay=1e-7, momentum=.9)\n",
        "\n",
        "    # compile the model with \"binary_crossentropy\" loss and SGD optimizer. \n",
        "    model.compile(loss = \"categorical_crossentropy\", optimizer=sgd) # changed from binary\n",
        "\n",
        "    return model"
      ],
      "metadata": {
        "id": "hXQqyj1wOKJt"
      },
      "execution_count": null,
      "outputs": []
    },
    {
      "cell_type": "code",
      "metadata": {
        "id": "EvJRSL7H_gub"
      },
      "source": [
        "model = build_classification_model()"
      ],
      "execution_count": null,
      "outputs": []
    },
    {
      "cell_type": "markdown",
      "metadata": {
        "id": "o9skzqVn_gub"
      },
      "source": [
        "Q2. Fit your model by training set"
      ]
    },
    {
      "cell_type": "code",
      "metadata": {
        "id": "ZNskvvFL_gub",
        "scrolled": true,
        "colab": {
          "base_uri": "https://localhost:8080/"
        },
        "outputId": "9b34ccbe-ffef-40d7-a068-30bef45f0c6a"
      },
      "source": [
        "### YOUR CODE HERE ###\n",
        "model.fit(X_train, y_train_vectorized, batch_size = 32, epochs = 100) # can add validation data to check loss on validation"
      ],
      "execution_count": null,
      "outputs": [
        {
          "output_type": "stream",
          "name": "stdout",
          "text": [
            "Epoch 1/100\n",
            "5/5 [==============================] - 0s 3ms/step - loss: 0.6251\n",
            "Epoch 2/100\n",
            "5/5 [==============================] - 0s 5ms/step - loss: 0.6237\n",
            "Epoch 3/100\n",
            "5/5 [==============================] - 0s 3ms/step - loss: 0.6212\n",
            "Epoch 4/100\n",
            "5/5 [==============================] - 0s 3ms/step - loss: 0.6184\n",
            "Epoch 5/100\n",
            "5/5 [==============================] - 0s 3ms/step - loss: 0.6151\n",
            "Epoch 6/100\n",
            "5/5 [==============================] - 0s 3ms/step - loss: 0.6119\n",
            "Epoch 7/100\n",
            "5/5 [==============================] - 0s 3ms/step - loss: 0.6086\n",
            "Epoch 8/100\n",
            "5/5 [==============================] - 0s 3ms/step - loss: 0.6051\n",
            "Epoch 9/100\n",
            "5/5 [==============================] - 0s 3ms/step - loss: 0.6020\n",
            "Epoch 10/100\n",
            "5/5 [==============================] - 0s 3ms/step - loss: 0.5987\n",
            "Epoch 11/100\n",
            "5/5 [==============================] - 0s 5ms/step - loss: 0.5951\n",
            "Epoch 12/100\n",
            "5/5 [==============================] - 0s 3ms/step - loss: 0.5919\n",
            "Epoch 13/100\n",
            "5/5 [==============================] - 0s 3ms/step - loss: 0.5885\n",
            "Epoch 14/100\n",
            "5/5 [==============================] - 0s 3ms/step - loss: 0.5852\n",
            "Epoch 15/100\n",
            "5/5 [==============================] - 0s 3ms/step - loss: 0.5820\n",
            "Epoch 16/100\n",
            "5/5 [==============================] - 0s 3ms/step - loss: 0.5786\n",
            "Epoch 17/100\n",
            "5/5 [==============================] - 0s 3ms/step - loss: 0.5754\n",
            "Epoch 18/100\n",
            "5/5 [==============================] - 0s 3ms/step - loss: 0.5720\n",
            "Epoch 19/100\n",
            "5/5 [==============================] - 0s 3ms/step - loss: 0.5688\n",
            "Epoch 20/100\n",
            "5/5 [==============================] - 0s 3ms/step - loss: 0.5655\n",
            "Epoch 21/100\n",
            "5/5 [==============================] - 0s 3ms/step - loss: 0.5621\n",
            "Epoch 22/100\n",
            "5/5 [==============================] - 0s 3ms/step - loss: 0.5590\n",
            "Epoch 23/100\n",
            "5/5 [==============================] - 0s 3ms/step - loss: 0.5557\n",
            "Epoch 24/100\n",
            "5/5 [==============================] - 0s 3ms/step - loss: 0.5523\n",
            "Epoch 25/100\n",
            "5/5 [==============================] - 0s 3ms/step - loss: 0.5491\n",
            "Epoch 26/100\n",
            "5/5 [==============================] - 0s 3ms/step - loss: 0.5460\n",
            "Epoch 27/100\n",
            "5/5 [==============================] - 0s 5ms/step - loss: 0.5429\n",
            "Epoch 28/100\n",
            "5/5 [==============================] - 0s 3ms/step - loss: 0.5397\n",
            "Epoch 29/100\n",
            "5/5 [==============================] - 0s 3ms/step - loss: 0.5365\n",
            "Epoch 30/100\n",
            "5/5 [==============================] - 0s 3ms/step - loss: 0.5335\n",
            "Epoch 31/100\n",
            "5/5 [==============================] - 0s 3ms/step - loss: 0.5305\n",
            "Epoch 32/100\n",
            "5/5 [==============================] - 0s 3ms/step - loss: 0.5273\n",
            "Epoch 33/100\n",
            "5/5 [==============================] - 0s 3ms/step - loss: 0.5242\n",
            "Epoch 34/100\n",
            "5/5 [==============================] - 0s 3ms/step - loss: 0.5211\n",
            "Epoch 35/100\n",
            "5/5 [==============================] - 0s 3ms/step - loss: 0.5180\n",
            "Epoch 36/100\n",
            "5/5 [==============================] - 0s 3ms/step - loss: 0.5151\n",
            "Epoch 37/100\n",
            "5/5 [==============================] - 0s 6ms/step - loss: 0.5121\n",
            "Epoch 38/100\n",
            "5/5 [==============================] - 0s 3ms/step - loss: 0.5089\n",
            "Epoch 39/100\n",
            "5/5 [==============================] - 0s 3ms/step - loss: 0.5059\n",
            "Epoch 40/100\n",
            "5/5 [==============================] - 0s 3ms/step - loss: 0.5030\n",
            "Epoch 41/100\n",
            "5/5 [==============================] - 0s 3ms/step - loss: 0.4999\n",
            "Epoch 42/100\n",
            "5/5 [==============================] - 0s 3ms/step - loss: 0.4970\n",
            "Epoch 43/100\n",
            "5/5 [==============================] - 0s 3ms/step - loss: 0.4940\n",
            "Epoch 44/100\n",
            "5/5 [==============================] - 0s 3ms/step - loss: 0.4911\n",
            "Epoch 45/100\n",
            "5/5 [==============================] - 0s 3ms/step - loss: 0.4881\n",
            "Epoch 46/100\n",
            "5/5 [==============================] - 0s 3ms/step - loss: 0.4853\n",
            "Epoch 47/100\n",
            "5/5 [==============================] - 0s 4ms/step - loss: 0.4823\n",
            "Epoch 48/100\n",
            "5/5 [==============================] - 0s 3ms/step - loss: 0.4795\n",
            "Epoch 49/100\n",
            "5/5 [==============================] - 0s 3ms/step - loss: 0.4768\n",
            "Epoch 50/100\n",
            "5/5 [==============================] - 0s 3ms/step - loss: 0.4741\n",
            "Epoch 51/100\n",
            "5/5 [==============================] - 0s 3ms/step - loss: 0.4713\n",
            "Epoch 52/100\n",
            "5/5 [==============================] - 0s 3ms/step - loss: 0.4685\n",
            "Epoch 53/100\n",
            "5/5 [==============================] - 0s 3ms/step - loss: 0.4658\n",
            "Epoch 54/100\n",
            "5/5 [==============================] - 0s 3ms/step - loss: 0.4630\n",
            "Epoch 55/100\n",
            "5/5 [==============================] - 0s 3ms/step - loss: 0.4603\n",
            "Epoch 56/100\n",
            "5/5 [==============================] - 0s 3ms/step - loss: 0.4577\n",
            "Epoch 57/100\n",
            "5/5 [==============================] - 0s 3ms/step - loss: 0.4551\n",
            "Epoch 58/100\n",
            "5/5 [==============================] - 0s 3ms/step - loss: 0.4525\n",
            "Epoch 59/100\n",
            "5/5 [==============================] - 0s 3ms/step - loss: 0.4500\n",
            "Epoch 60/100\n",
            "5/5 [==============================] - 0s 3ms/step - loss: 0.4473\n",
            "Epoch 61/100\n",
            "5/5 [==============================] - 0s 3ms/step - loss: 0.4448\n",
            "Epoch 62/100\n",
            "5/5 [==============================] - 0s 3ms/step - loss: 0.4424\n",
            "Epoch 63/100\n",
            "5/5 [==============================] - 0s 3ms/step - loss: 0.4398\n",
            "Epoch 64/100\n",
            "5/5 [==============================] - 0s 3ms/step - loss: 0.4375\n",
            "Epoch 65/100\n",
            "5/5 [==============================] - 0s 3ms/step - loss: 0.4350\n",
            "Epoch 66/100\n",
            "5/5 [==============================] - 0s 3ms/step - loss: 0.4327\n",
            "Epoch 67/100\n",
            "5/5 [==============================] - 0s 3ms/step - loss: 0.4303\n",
            "Epoch 68/100\n",
            "5/5 [==============================] - 0s 3ms/step - loss: 0.4279\n",
            "Epoch 69/100\n",
            "5/5 [==============================] - 0s 3ms/step - loss: 0.4258\n",
            "Epoch 70/100\n",
            "5/5 [==============================] - 0s 3ms/step - loss: 0.4234\n",
            "Epoch 71/100\n",
            "5/5 [==============================] - 0s 3ms/step - loss: 0.4213\n",
            "Epoch 72/100\n",
            "5/5 [==============================] - 0s 3ms/step - loss: 0.4191\n",
            "Epoch 73/100\n",
            "5/5 [==============================] - 0s 3ms/step - loss: 0.4169\n",
            "Epoch 74/100\n",
            "5/5 [==============================] - 0s 3ms/step - loss: 0.4147\n",
            "Epoch 75/100\n",
            "5/5 [==============================] - 0s 3ms/step - loss: 0.4126\n",
            "Epoch 76/100\n",
            "5/5 [==============================] - 0s 3ms/step - loss: 0.4107\n",
            "Epoch 77/100\n",
            "5/5 [==============================] - 0s 3ms/step - loss: 0.4086\n",
            "Epoch 78/100\n",
            "5/5 [==============================] - 0s 3ms/step - loss: 0.4067\n",
            "Epoch 79/100\n",
            "5/5 [==============================] - 0s 3ms/step - loss: 0.4048\n",
            "Epoch 80/100\n",
            "5/5 [==============================] - 0s 3ms/step - loss: 0.4028\n",
            "Epoch 81/100\n",
            "5/5 [==============================] - 0s 3ms/step - loss: 0.4006\n",
            "Epoch 82/100\n",
            "5/5 [==============================] - 0s 3ms/step - loss: 0.3989\n",
            "Epoch 83/100\n",
            "5/5 [==============================] - 0s 3ms/step - loss: 0.3969\n",
            "Epoch 84/100\n",
            "5/5 [==============================] - 0s 5ms/step - loss: 0.3950\n",
            "Epoch 85/100\n",
            "5/5 [==============================] - 0s 3ms/step - loss: 0.3932\n",
            "Epoch 86/100\n",
            "5/5 [==============================] - 0s 3ms/step - loss: 0.3913\n",
            "Epoch 87/100\n",
            "5/5 [==============================] - 0s 3ms/step - loss: 0.3896\n",
            "Epoch 88/100\n",
            "5/5 [==============================] - 0s 4ms/step - loss: 0.3879\n",
            "Epoch 89/100\n",
            "5/5 [==============================] - 0s 3ms/step - loss: 0.3860\n",
            "Epoch 90/100\n",
            "5/5 [==============================] - 0s 3ms/step - loss: 0.3844\n",
            "Epoch 91/100\n",
            "5/5 [==============================] - 0s 3ms/step - loss: 0.3828\n",
            "Epoch 92/100\n",
            "5/5 [==============================] - 0s 3ms/step - loss: 0.3811\n",
            "Epoch 93/100\n",
            "5/5 [==============================] - 0s 4ms/step - loss: 0.3796\n",
            "Epoch 94/100\n",
            "5/5 [==============================] - 0s 5ms/step - loss: 0.3781\n",
            "Epoch 95/100\n",
            "5/5 [==============================] - 0s 3ms/step - loss: 0.3765\n",
            "Epoch 96/100\n",
            "5/5 [==============================] - 0s 3ms/step - loss: 0.3750\n",
            "Epoch 97/100\n",
            "5/5 [==============================] - 0s 3ms/step - loss: 0.3735\n",
            "Epoch 98/100\n",
            "5/5 [==============================] - 0s 3ms/step - loss: 0.3720\n",
            "Epoch 99/100\n",
            "5/5 [==============================] - 0s 3ms/step - loss: 0.3707\n",
            "Epoch 100/100\n",
            "5/5 [==============================] - 0s 3ms/step - loss: 0.3692\n"
          ]
        },
        {
          "output_type": "execute_result",
          "data": {
            "text/plain": [
              "<keras.callbacks.History at 0x7f71246435e0>"
            ]
          },
          "metadata": {},
          "execution_count": 85
        }
      ]
    },
    {
      "cell_type": "markdown",
      "metadata": {
        "id": "mrG8fIEMYNRx"
      },
      "source": [
        "Q3. Compute accuracy by using your own function"
      ]
    },
    {
      "cell_type": "code",
      "metadata": {
        "id": "u6LqFaaAXsD1",
        "colab": {
          "base_uri": "https://localhost:8080/"
        },
        "outputId": "d2cbac96-0dfe-4d0e-cbdd-847a4902fe81"
      },
      "source": [
        "y_preds_v3 = model.predict(X_test) \n",
        "y_preds_v3_ele = [i[1] for i in y_preds_v3]\n",
        "\n",
        "print(f'The accuracy is: {accuracy(y_test, y_preds_v3_ele)}')"
      ],
      "execution_count": null,
      "outputs": [
        {
          "output_type": "stream",
          "name": "stdout",
          "text": [
            "2/2 [==============================] - 0s 5ms/step\n",
            "The accuracy is: 0.85\n"
          ]
        }
      ]
    },
    {
      "cell_type": "code",
      "metadata": {
        "id": "Kzz-p-3U_gub",
        "colab": {
          "base_uri": "https://localhost:8080/",
          "height": 664
        },
        "outputId": "3273aa2c-6a12-4ba5-eaea-488b03f4c1fc"
      },
      "source": [
        "# And visualize how your model did\n",
        "f, ax = visualize_2d_classification(model, X_train, y_train)\n",
        "ax.set_ylabel(\"Train\")\n",
        "f, ax = visualize_2d_classification(model, X_test, y_test)\n",
        "ax.set_ylabel(\"Test\")"
      ],
      "execution_count": null,
      "outputs": [
        {
          "output_type": "stream",
          "name": "stdout",
          "text": [
            "77/77 [==============================] - 0s 1ms/step\n",
            "77/77 [==============================] - 0s 1ms/step\n",
            "67/67 [==============================] - 0s 2ms/step\n",
            "67/67 [==============================] - 0s 1ms/step\n"
          ]
        },
        {
          "output_type": "execute_result",
          "data": {
            "text/plain": [
              "Text(18.75, 0.5, 'Test')"
            ]
          },
          "metadata": {},
          "execution_count": 88
        },
        {
          "output_type": "display_data",
          "data": {
            "text/plain": [
              "<Figure size 432x288 with 1 Axes>"
            ],
            "image/png": "[encoded data removed]"
          },
          "metadata": {
            "needs_background": "light"
          }
        },
        {
          "output_type": "display_data",
          "data": {
            "text/plain": [
              "<Figure size 432x288 with 1 Axes>"
            ],
            "image/png": "[encoded data removed]"
          },
          "metadata": {
            "needs_background": "light"
          }
        }
      ]
    },
    {
      "cell_type": "markdown",
      "metadata": {
        "id": "JJN4QNxAX6YW"
      },
      "source": [
        "# Exercise 4:\n",
        "### Short answer-questions"
      ]
    },
    {
      "cell_type": "markdown",
      "metadata": {
        "id": "9VHQET2zX6YX"
      },
      "source": [
        "Q1. The learning rate is an important parameter for gradient descent. Please briefly describe a possible issue if we choose too high a learning rate for full batch gradient descent (GD). Also, please briefly describe a possible issue if we choose too high a learning\n",
        "rate for stochastic gradient descent (SGD), but is not a problem in the full batch setting."
      ]
    },
    {
      "cell_type": "markdown",
      "metadata": {
        "id": "kFxMj4MNX6YX"
      },
      "source": [
        "Ans- \n",
        "\n",
        "If the learning rate for full batch gradient descent (GD) is too high, the full batch gradient descent would take a huge step for each iteration, and it may cause the model to converge too quickly and therefore bypass the local minimum and lead to divergent behaviors.  \n",
        "Compared to full batch gradient descent which converges to the local minimum based on appropriate learning rate and other hyperparameters, stochastic gradient descent (SGD) will fluctuate with a high variance and converge to potentially better minimum point with a bigger range. If the learning rate for stochastic gradient descent (SGD) is too high, it might keep overshooting and would not converge to a local minimum until the learning rate is fixed.\n",
        "\n",
        "References: \n",
        "\n",
        "https://machinelearningmastery.com/understand-the-dynamics-of-learning-rate-on-deep-learning-neural-networks/\n",
        "\n",
        "https://towardsdatascience.com/an-overview-of-the-gradient-descent-algorithm-8645c9e4de1e \n",
        "\n",
        "https://ruder.io/optimizing-gradient-descent/\n",
        "\n",
        "https://www.jeremyjordan.me/nn-learning-rate/"
      ]
    },
    {
      "cell_type": "markdown",
      "metadata": {
        "id": "OPqmEVRrX6YX"
      },
      "source": [
        "Q2. Please give an example in the data augmentation methods that is helpful for classifying images of dogs and cats, but not for classifying handwritten digit."
      ]
    },
    {
      "cell_type": "markdown",
      "metadata": {
        "id": "v8WvndXAX6YX"
      },
      "source": [
        "Ans- \n",
        "\n",
        "One example could be taking mirror reflections. This method is helpful when working with images but not with handwritten digits as reflected digits might carry different meaning from the original digit (for instance, 6 & 9)."
      ]
    },
    {
      "cell_type": "markdown",
      "metadata": {
        "id": "IKp7lEfgX6YX"
      },
      "source": [
        "Q3. Suppose we have the following two neural networks containing fully-connected layers only. \n",
        "<div>\n",
        "<img src=\"https://ucla.box.com/shared/static/kgninjcbqpztz680q47emsluvituw4ga.jpg\" width=\"300\"/>\n",
        "</div>\n",
        "Please give one advantage of A over B, and one advantage of B over A."
      ]
    },
    {
      "cell_type": "markdown",
      "metadata": {
        "id": "2o83GnTPX6YX"
      },
      "source": [
        "Ans- \n",
        "\n",
        "Advantage of A over B: network A contains more parameters (100*100+100) and therefore has  higher complexity.\n",
        "\n",
        "Advantage of B over A: network B contains fewer parameters (100* 10+10+10* 100+100) and therefore is useful in the case of dimension reduction (maintaining the most essential characteristics of the original object with as few as possible parameters). Network B is also faster to process and requires less storage capacity. It can be used to compress, transfer, and restore images.\n"
      ]
    },
    {
      "cell_type": "markdown",
      "metadata": {
        "id": "95TrKOZf_gub"
      },
      "source": [
        "# Exercise 5:\n",
        "\n",
        "Now let's revisit the classification problem (Dataset 1) in Homework 2. Build a neural network to predict the output in the default payment dataset. The architecture choice is up to you, but you are required to use Dense layers and dropout layers only.\n",
        "\n",
        "\"CreditDefault_training.csv\" has 3985 records. \n",
        "\n",
        "\"CreditDefault_Xtest.csv\" contains contains 1000 rows and 14 columns. This is the test set which only contains the features."
      ]
    },
    {
      "cell_type": "markdown",
      "metadata": {
        "id": "WoPuroUXT35G"
      },
      "source": [
        "Q1. Read the data<br/>\n",
        "- Apply standardization to continuous values<br/> \n",
        "- Convert categorical variables and the target \"default.payment.next.month\" into one-hot encodings. <br>\n",
        "- Split data into train and validation set<br/>"
      ]
    },
    {
      "cell_type": "code",
      "metadata": {
        "id": "60tBCgSw3iou"
      },
      "source": [
        "import numpy as np\n",
        "import pandas as pd\n",
        "from google.colab import files\n",
        "import io"
      ],
      "execution_count": null,
      "outputs": []
    },
    {
      "cell_type": "code",
      "metadata": {
        "id": "JM2SfGESVByv",
        "colab": {
          "base_uri": "https://localhost:8080/",
          "height": 108
        },
        "outputId": "5c6613fb-e026-48b1-dbcc-c6d7a7e67a75"
      },
      "source": [
        "### YOUR CODE HERE ###\n",
        "# Load your training data set\n",
        "\n",
        "uploaded = files.upload()"
      ],
      "execution_count": null,
      "outputs": [
        {
          "output_type": "display_data",
          "data": {
            "text/plain": [
              "<IPython.core.display.HTML object>"
            ],
            "text/html": [
              "\n",
              "     <input type=\"file\" id=\"files-9f4a8368-70ce-4f4a-a824-6f7d523625ad\" name=\"files[]\" multiple disabled\n",
              "        style=\"border:none\" />\n",
              "     <output id=\"result-9f4a8368-70ce-4f4a-a824-6f7d523625ad\">\n",
              "      Upload widget is only available when the cell has been executed in the\n",
              "      current browser session. Please rerun this cell to enable.\n",
              "      </output>\n",
              "      <script>// Copyright 2017 Google LLC\n",
              "//\n",
              "// Licensed under the Apache License, Version 2.0 (the \"License\");\n",
              "// you may not use this file except in compliance with the License.\n",
              "// You may obtain a copy of the License at\n",
              "//\n",
              "//      http://www.apache.org/licenses/LICENSE-2.0\n",
              "//\n",
              "// Unless required by applicable law or agreed to in writing, software\n",
              "// distributed under the License is distributed on an \"AS IS\" BASIS,\n",
              "// WITHOUT WARRANTIES OR CONDITIONS OF ANY KIND, either express or implied.\n",
              "// See the License for the specific language governing permissions and\n",
              "// limitations under the License.\n",
              "\n",
              "/**\n",
              " * @fileoverview Helpers for google.colab Python module.\n",
              " */\n",
              "(function(scope) {\n",
              "function span(text, styleAttributes = {}) {\n",
              "  const element = document.createElement('span');\n",
              "  element.textContent = text;\n",
              "  for (const key of Object.keys(styleAttributes)) {\n",
              "    element.style[key] = styleAttributes[key];\n",
              "  }\n",
              "  return element;\n",
              "}\n",
              "\n",
              "// Max number of bytes which will be uploaded at a time.\n",
              "const MAX_PAYLOAD_SIZE = 100 * 1024;\n",
              "\n",
              "function _uploadFiles(inputId, outputId) {\n",
              "  const steps = uploadFilesStep(inputId, outputId);\n",
              "  const outputElement = document.getElementById(outputId);\n",
              "  // Cache steps on the outputElement to make it available for the next call\n",
              "  // to uploadFilesContinue from Python.\n",
              "  outputElement.steps = steps;\n",
              "\n",
              "  return _uploadFilesContinue(outputId);\n",
              "}\n",
              "\n",
              "// This is roughly an async generator (not supported in the browser yet),\n",
              "// where there are multiple asynchronous steps and the Python side is going\n",
              "// to poll for completion of each step.\n",
              "// This uses a Promise to block the python side on completion of each step,\n",
              "// then passes the result of the previous step as the input to the next step.\n",
              "function _uploadFilesContinue(outputId) {\n",
              "  const outputElement = document.getElementById(outputId);\n",
              "  const steps = outputElement.steps;\n",
              "\n",
              "  const next = steps.next(outputElement.lastPromiseValue);\n",
              "  return Promise.resolve(next.value.promise).then((value) => {\n",
              "    // Cache the last promise value to make it available to the next\n",
              "    // step of the generator.\n",
              "    outputElement.lastPromiseValue = value;\n",
              "    return next.value.response;\n",
              "  });\n",
              "}\n",
              "\n",
              "/**\n",
              " * Generator function which is called between each async step of the upload\n",
              " * process.\n",
              " * @param {string} inputId Element ID of the input file picker element.\n",
              " * @param {string} outputId Element ID of the output display.\n",
              " * @return {!Iterable<!Object>} Iterable of next steps.\n",
              " */\n",
              "function* uploadFilesStep(inputId, outputId) {\n",
              "  const inputElement = document.getElementById(inputId);\n",
              "  inputElement.disabled = false;\n",
              "\n",
              "  const outputElement = document.getElementById(outputId);\n",
              "  outputElement.innerHTML = '';\n",
              "\n",
              "  const pickedPromise = new Promise((resolve) => {\n",
              "    inputElement.addEventListener('change', (e) => {\n",
              "      resolve(e.target.files);\n",
              "    });\n",
              "  });\n",
              "\n",
              "  const cancel = document.createElement('button');\n",
              "  inputElement.parentElement.appendChild(cancel);\n",
              "  cancel.textContent = 'Cancel upload';\n",
              "  const cancelPromise = new Promise((resolve) => {\n",
              "    cancel.onclick = () => {\n",
              "      resolve(null);\n",
              "    };\n",
              "  });\n",
              "\n",
              "  // Wait for the user to pick the files.\n",
              "  const files = yield {\n",
              "    promise: Promise.race([pickedPromise, cancelPromise]),\n",
              "    response: {\n",
              "      action: 'starting',\n",
              "    }\n",
              "  };\n",
              "\n",
              "  cancel.remove();\n",
              "\n",
              "  // Disable the input element since further picks are not allowed.\n",
              "  inputElement.disabled = true;\n",
              "\n",
              "  if (!files) {\n",
              "    return {\n",
              "      response: {\n",
              "        action: 'complete',\n",
              "      }\n",
              "    };\n",
              "  }\n",
              "\n",
              "  for (const file of files) {\n",
              "    const li = document.createElement('li');\n",
              "    li.append(span(file.name, {fontWeight: 'bold'}));\n",
              "    li.append(span(\n",
              "        `(${file.type || 'n/a'}) - ${file.size} bytes, ` +\n",
              "        `last modified: ${\n",
              "            file.lastModifiedDate ? file.lastModifiedDate.toLocaleDateString() :\n",
              "                                    'n/a'} - `));\n",
              "    const percent = span('0% done');\n",
              "    li.appendChild(percent);\n",
              "\n",
              "    outputElement.appendChild(li);\n",
              "\n",
              "    const fileDataPromise = new Promise((resolve) => {\n",
              "      const reader = new FileReader();\n",
              "      reader.onload = (e) => {\n",
              "        resolve(e.target.result);\n",
              "      };\n",
              "      reader.readAsArrayBuffer(file);\n",
              "    });\n",
              "    // Wait for the data to be ready.\n",
              "    let fileData = yield {\n",
              "      promise: fileDataPromise,\n",
              "      response: {\n",
              "        action: 'continue',\n",
              "      }\n",
              "    };\n",
              "\n",
              "    // Use a chunked sending to avoid message size limits. See b/62115660.\n",
              "    let position = 0;\n",
              "    do {\n",
              "      const length = Math.min(fileData.byteLength - position, MAX_PAYLOAD_SIZE);\n",
              "      const chunk = new Uint8Array(fileData, position, length);\n",
              "      position += length;\n",
              "\n",
              "      const base64 = btoa(String.fromCharCode.apply(null, chunk));\n",
              "      yield {\n",
              "        response: {\n",
              "          action: 'append',\n",
              "          file: file.name,\n",
              "          data: base64,\n",
              "        },\n",
              "      };\n",
              "\n",
              "      let percentDone = fileData.byteLength === 0 ?\n",
              "          100 :\n",
              "          Math.round((position / fileData.byteLength) * 100);\n",
              "      percent.textContent = `${percentDone}% done`;\n",
              "\n",
              "    } while (position < fileData.byteLength);\n",
              "  }\n",
              "\n",
              "  // All done.\n",
              "  yield {\n",
              "    response: {\n",
              "      action: 'complete',\n",
              "    }\n",
              "  };\n",
              "}\n",
              "\n",
              "scope.google = scope.google || {};\n",
              "scope.google.colab = scope.google.colab || {};\n",
              "scope.google.colab._files = {\n",
              "  _uploadFiles,\n",
              "  _uploadFilesContinue,\n",
              "};\n",
              "})(self);\n",
              "</script> "
            ]
          },
          "metadata": {}
        },
        {
          "output_type": "stream",
          "name": "stdout",
          "text": [
            "Saving CreditDefault_training.csv to CreditDefault_training (3).csv\n",
            "Saving CreditDefault_Xtest.csv to CreditDefault_Xtest (3).csv\n"
          ]
        }
      ]
    },
    {
      "cell_type": "code",
      "source": [
        "train = pd.read_csv('CreditDefault_training.csv')\n",
        "\n",
        "test = pd.read_csv('CreditDefault_Xtest.csv')"
      ],
      "metadata": {
        "id": "G5qT6fCJd_fZ"
      },
      "execution_count": null,
      "outputs": []
    },
    {
      "cell_type": "code",
      "source": [
        "# Split data into X (features) and y (target)\n",
        "X = train.iloc[:,:-1]\n",
        "\n",
        "y = train.iloc[:,-1]"
      ],
      "metadata": {
        "id": "UlGxbRGFeAbl"
      },
      "execution_count": null,
      "outputs": []
    },
    {
      "cell_type": "markdown",
      "metadata": {
        "id": "Uj3pFsrv_mv9"
      },
      "source": [
        "Standardization and one-hot encoding for training set and test set"
      ]
    },
    {
      "cell_type": "code",
      "source": [
        "# Standardization & One-Hot Encoding\n",
        "from sklearn.preprocessing import StandardScaler\n",
        "normalizer = StandardScaler()\n",
        "\n",
        "#Group the columns into a list of categorical and numerical columns so that it can be referenced easily\n",
        "numerical_cols = ['LIMIT_BAL', 'AGE', 'BILL_AMT1', 'BILL_AMT2', 'BILL_AMT3', 'BILL_AMT4', 'BILL_AMT5', 'BILL_AMT6', 'PAY_AMT1', 'PAY_AMT2', 'PAY_AMT3', 'PAY_AMT4', 'PAY_AMT5', 'PAY_AMT6']\n",
        "categorical_cols = ['SEX', 'EDUCATION', 'MARRIAGE', 'PAY_1', 'PAY_2', 'PAY_3', 'PAY_4', 'PAY_5', 'PAY_6']\n",
        "\n",
        "#Use fit transform for the training data and transform for the test data\n",
        "X[numerical_cols] = normalizer.fit_transform(X[numerical_cols])\n",
        "test[numerical_cols] = normalizer.transform(test[numerical_cols])\n",
        "\n",
        "#Appending both test and train data together will help in maintaining the same number of columns while doing one hot encoding.\n",
        "total_df = X.append(test, ignore_index = True)\n",
        "\n",
        "# to convert categorical value to dummy variables, we can use the `get_dummies` function of pandas.\n",
        "total_df = pd.get_dummies(total_df, columns = categorical_cols, drop_first=True)\n",
        "\n",
        "#Split the data back into training (X_new) and test data (test_new).\n",
        "X_new = total_df.iloc[:3985,]\n",
        "test_new = total_df.iloc[3985:,]\n",
        "test_new = test_new.reset_index(drop = True)\n",
        "\n",
        "y_vectorized = pd.get_dummies(y)"
      ],
      "metadata": {
        "colab": {
          "base_uri": "https://localhost:8080/"
        },
        "id": "p9PdsvgWeDaz",
        "outputId": "d05ec0df-8464-4b41-f21b-a5f53bc73d60"
      },
      "execution_count": null,
      "outputs": [
        {
          "output_type": "stream",
          "name": "stderr",
          "text": [
            "/usr/local/lib/python3.8/dist-packages/pandas/core/frame.py:3678: SettingWithCopyWarning: \n",
            "A value is trying to be set on a copy of a slice from a DataFrame.\n",
            "Try using .loc[row_indexer,col_indexer] = value instead\n",
            "\n",
            "See the caveats in the documentation: https://pandas.pydata.org/pandas-docs/stable/user_guide/indexing.html#returning-a-view-versus-a-copy\n",
            "  self[col] = igetitem(value, i)\n"
          ]
        }
      ]
    },
    {
      "cell_type": "code",
      "source": [
        "# Split data into training and validation set (the code has been provided)\n",
        "from sklearn.model_selection import train_test_split\n",
        "X_train, X_val, y_train, y_val = train_test_split(X_new, y_vectorized, test_size=0.3, random_state=42)"
      ],
      "metadata": {
        "id": "Keee15kaeKP0"
      },
      "execution_count": null,
      "outputs": []
    },
    {
      "cell_type": "code",
      "metadata": {
        "id": "csifFJTU_guc",
        "colab": {
          "base_uri": "https://localhost:8080/"
        },
        "outputId": "77e04762-5a5d-45d8-9842-f3d4c885dbc2"
      },
      "source": [
        "# Print out the shape of X_train\n",
        "print(X_train.shape)\n",
        "print(y_train.shape)\n",
        "print(X_val.shape)"
      ],
      "execution_count": null,
      "outputs": [
        {
          "output_type": "stream",
          "name": "stdout",
          "text": [
            "(2789, 73)\n",
            "(2789, 2)\n",
            "(1196, 73)\n"
          ]
        }
      ]
    },
    {
      "cell_type": "markdown",
      "metadata": {
        "id": "BScpBTLeYsDE"
      },
      "source": [
        "Q2. Build a neural network to predict the output in the \"CreditDefault_training.csv\". The architecture choice is up to you, but you are required to use Dense layers and dropout layers only.\n",
        "\n",
        "You can try different number of layers, different number of units in layers and experiment with hyperparameters. \n",
        "\n",
        "To include regularization, you can include a dropout layer after a hidden layer. In dropout layer, you can randomly set a fraction rate of input units to 0 at each update during training time, which helps prevent overfitting.\n",
        "\n",
        "Please use 'relu' activation function for all intermediate layers.\n",
        "\n",
        "Please build your model in the build_final_model() function"
      ]
    },
    {
      "cell_type": "code",
      "source": [
        "def build_final_model():\n",
        "\n",
        "    model = Sequential()\n",
        "    ### YOUR CODE HERE ###\n",
        "    \n",
        "    # First add fully-connected (Dense) hidden layers with appropriate input dimension\n",
        "    model.add(Dense(20, input_dim = 73, activation = \"relu\"))\n",
        "\n",
        "    # Drop out layer\n",
        "    model.add(Dropout(0.3))\n",
        "\n",
        "    # Continues the process \n",
        "    model.add(Dense(10, activation = \"relu\"))\n",
        "    model.add(Dropout(0.3))\n",
        "    model.add(Dense(10, activation = \"relu\"))\n",
        "    model.add(Dropout(0.3))\n",
        "\n",
        "    # Finally, add a readout layer\n",
        "    model.add(Dense(2, activation = \"softmax\"))\n",
        "\n",
        "    ######################\n",
        "    sgd = SGD(learning_rate=0.01, decay=1e-7, momentum=.9)  # Stochastic gradient descent\n",
        "    model.compile(loss='categorical_crossentropy', optimizer=sgd, metrics=[\"accuracy\"])\n",
        "    \n",
        "    return model"
      ],
      "metadata": {
        "id": "i25l7UVBU2_Y"
      },
      "execution_count": null,
      "outputs": []
    },
    {
      "cell_type": "code",
      "metadata": {
        "id": "AHSeeBL9_guc"
      },
      "source": [
        "model = build_final_model()"
      ],
      "execution_count": null,
      "outputs": []
    },
    {
      "cell_type": "markdown",
      "metadata": {
        "id": "_l0iekg-eAYF"
      },
      "source": [
        "Q3. Fit the model by training set with epochs=100, batch_size=32"
      ]
    },
    {
      "cell_type": "code",
      "metadata": {
        "id": "biZD8E6Q_guc",
        "scrolled": true,
        "colab": {
          "base_uri": "https://localhost:8080/"
        },
        "outputId": "2f7a4bd0-6af8-45c1-c7fb-1e749f76a162"
      },
      "source": [
        "### YOUR CODE HERE ###\n",
        "model.fit(X_train, y_train, batch_size = 32, epochs = 100)"
      ],
      "execution_count": null,
      "outputs": [
        {
          "output_type": "stream",
          "name": "stdout",
          "text": [
            "Epoch 1/100\n",
            "88/88 [==============================] - 1s 3ms/step - loss: 0.5909 - accuracy: 0.7236\n",
            "Epoch 2/100\n",
            "88/88 [==============================] - 0s 3ms/step - loss: 0.5275 - accuracy: 0.7673\n",
            "Epoch 3/100\n",
            "88/88 [==============================] - 0s 3ms/step - loss: 0.5157 - accuracy: 0.7766\n",
            "Epoch 4/100\n",
            "88/88 [==============================] - 0s 3ms/step - loss: 0.5116 - accuracy: 0.7766\n",
            "Epoch 5/100\n",
            "88/88 [==============================] - 0s 3ms/step - loss: 0.4984 - accuracy: 0.7813\n",
            "Epoch 6/100\n",
            "88/88 [==============================] - 0s 4ms/step - loss: 0.4930 - accuracy: 0.7906\n",
            "Epoch 7/100\n",
            "88/88 [==============================] - 0s 3ms/step - loss: 0.4880 - accuracy: 0.7881\n",
            "Epoch 8/100\n",
            "88/88 [==============================] - 0s 3ms/step - loss: 0.4820 - accuracy: 0.7877\n",
            "Epoch 9/100\n",
            "88/88 [==============================] - 0s 3ms/step - loss: 0.4846 - accuracy: 0.7867\n",
            "Epoch 10/100\n",
            "88/88 [==============================] - 0s 3ms/step - loss: 0.4768 - accuracy: 0.7946\n",
            "Epoch 11/100\n",
            "88/88 [==============================] - 0s 3ms/step - loss: 0.4723 - accuracy: 0.7917\n",
            "Epoch 12/100\n",
            "88/88 [==============================] - 0s 3ms/step - loss: 0.4719 - accuracy: 0.7859\n",
            "Epoch 13/100\n",
            "88/88 [==============================] - 0s 3ms/step - loss: 0.4676 - accuracy: 0.7938\n",
            "Epoch 14/100\n",
            "88/88 [==============================] - 0s 3ms/step - loss: 0.4681 - accuracy: 0.7924\n",
            "Epoch 15/100\n",
            "88/88 [==============================] - 0s 3ms/step - loss: 0.4633 - accuracy: 0.8003\n",
            "Epoch 16/100\n",
            "88/88 [==============================] - 0s 3ms/step - loss: 0.4625 - accuracy: 0.7938\n",
            "Epoch 17/100\n",
            "88/88 [==============================] - 0s 3ms/step - loss: 0.4638 - accuracy: 0.7956\n",
            "Epoch 18/100\n",
            "88/88 [==============================] - 0s 3ms/step - loss: 0.4632 - accuracy: 0.8046\n",
            "Epoch 19/100\n",
            "88/88 [==============================] - 0s 3ms/step - loss: 0.4568 - accuracy: 0.8082\n",
            "Epoch 20/100\n",
            "88/88 [==============================] - 0s 3ms/step - loss: 0.4645 - accuracy: 0.8003\n",
            "Epoch 21/100\n",
            "88/88 [==============================] - 0s 3ms/step - loss: 0.4548 - accuracy: 0.7978\n",
            "Epoch 22/100\n",
            "88/88 [==============================] - 0s 3ms/step - loss: 0.4539 - accuracy: 0.8024\n",
            "Epoch 23/100\n",
            "88/88 [==============================] - 0s 3ms/step - loss: 0.4531 - accuracy: 0.8024\n",
            "Epoch 24/100\n",
            "88/88 [==============================] - 0s 3ms/step - loss: 0.4643 - accuracy: 0.7971\n",
            "Epoch 25/100\n",
            "88/88 [==============================] - 0s 3ms/step - loss: 0.4555 - accuracy: 0.7999\n",
            "Epoch 26/100\n",
            "88/88 [==============================] - 0s 3ms/step - loss: 0.4475 - accuracy: 0.8049\n",
            "Epoch 27/100\n",
            "88/88 [==============================] - 0s 5ms/step - loss: 0.4513 - accuracy: 0.8039\n",
            "Epoch 28/100\n",
            "88/88 [==============================] - 0s 4ms/step - loss: 0.4538 - accuracy: 0.7978\n",
            "Epoch 29/100\n",
            "88/88 [==============================] - 0s 5ms/step - loss: 0.4557 - accuracy: 0.7949\n",
            "Epoch 30/100\n",
            "88/88 [==============================] - 1s 6ms/step - loss: 0.4568 - accuracy: 0.7960\n",
            "Epoch 31/100\n",
            "88/88 [==============================] - 0s 5ms/step - loss: 0.4443 - accuracy: 0.8064\n",
            "Epoch 32/100\n",
            "88/88 [==============================] - 1s 6ms/step - loss: 0.4586 - accuracy: 0.7949\n",
            "Epoch 33/100\n",
            "88/88 [==============================] - 0s 5ms/step - loss: 0.4495 - accuracy: 0.7974\n",
            "Epoch 34/100\n",
            "88/88 [==============================] - 0s 6ms/step - loss: 0.4403 - accuracy: 0.8071\n",
            "Epoch 35/100\n",
            "88/88 [==============================] - 1s 6ms/step - loss: 0.4508 - accuracy: 0.8010\n",
            "Epoch 36/100\n",
            "88/88 [==============================] - 0s 5ms/step - loss: 0.4564 - accuracy: 0.8028\n",
            "Epoch 37/100\n",
            "88/88 [==============================] - 0s 5ms/step - loss: 0.4456 - accuracy: 0.7956\n",
            "Epoch 38/100\n",
            "88/88 [==============================] - 0s 6ms/step - loss: 0.4434 - accuracy: 0.7985\n",
            "Epoch 39/100\n",
            "88/88 [==============================] - 1s 6ms/step - loss: 0.4484 - accuracy: 0.8085\n",
            "Epoch 40/100\n",
            "88/88 [==============================] - 0s 5ms/step - loss: 0.4467 - accuracy: 0.8017\n",
            "Epoch 41/100\n",
            "88/88 [==============================] - 0s 4ms/step - loss: 0.4527 - accuracy: 0.7999\n",
            "Epoch 42/100\n",
            "88/88 [==============================] - 0s 5ms/step - loss: 0.4509 - accuracy: 0.8082\n",
            "Epoch 43/100\n",
            "88/88 [==============================] - 0s 5ms/step - loss: 0.4387 - accuracy: 0.8028\n",
            "Epoch 44/100\n",
            "88/88 [==============================] - 0s 5ms/step - loss: 0.4515 - accuracy: 0.7956\n",
            "Epoch 45/100\n",
            "88/88 [==============================] - 0s 5ms/step - loss: 0.4479 - accuracy: 0.8006\n",
            "Epoch 46/100\n",
            "88/88 [==============================] - 1s 6ms/step - loss: 0.4400 - accuracy: 0.8046\n",
            "Epoch 47/100\n",
            "88/88 [==============================] - 0s 5ms/step - loss: 0.4418 - accuracy: 0.8046\n",
            "Epoch 48/100\n",
            "88/88 [==============================] - 0s 5ms/step - loss: 0.4429 - accuracy: 0.8017\n",
            "Epoch 49/100\n",
            "88/88 [==============================] - 0s 5ms/step - loss: 0.4315 - accuracy: 0.8110\n",
            "Epoch 50/100\n",
            "88/88 [==============================] - 0s 4ms/step - loss: 0.4396 - accuracy: 0.7989\n",
            "Epoch 51/100\n",
            "88/88 [==============================] - 0s 5ms/step - loss: 0.4476 - accuracy: 0.8010\n",
            "Epoch 52/100\n",
            "88/88 [==============================] - 0s 5ms/step - loss: 0.4448 - accuracy: 0.8032\n",
            "Epoch 53/100\n",
            "88/88 [==============================] - 1s 6ms/step - loss: 0.4344 - accuracy: 0.8078\n",
            "Epoch 54/100\n",
            "88/88 [==============================] - 0s 5ms/step - loss: 0.4364 - accuracy: 0.8136\n",
            "Epoch 55/100\n",
            "88/88 [==============================] - 0s 5ms/step - loss: 0.4384 - accuracy: 0.8014\n",
            "Epoch 56/100\n",
            "88/88 [==============================] - 0s 5ms/step - loss: 0.4417 - accuracy: 0.8093\n",
            "Epoch 57/100\n",
            "88/88 [==============================] - 1s 6ms/step - loss: 0.4323 - accuracy: 0.8067\n",
            "Epoch 58/100\n",
            "88/88 [==============================] - 0s 5ms/step - loss: 0.4367 - accuracy: 0.8064\n",
            "Epoch 59/100\n",
            "88/88 [==============================] - 0s 5ms/step - loss: 0.4340 - accuracy: 0.8082\n",
            "Epoch 60/100\n",
            "88/88 [==============================] - 0s 4ms/step - loss: 0.4392 - accuracy: 0.8064\n",
            "Epoch 61/100\n",
            "88/88 [==============================] - 0s 3ms/step - loss: 0.4439 - accuracy: 0.8028\n",
            "Epoch 62/100\n",
            "88/88 [==============================] - 0s 3ms/step - loss: 0.4356 - accuracy: 0.8067\n",
            "Epoch 63/100\n",
            "88/88 [==============================] - 0s 3ms/step - loss: 0.4341 - accuracy: 0.8118\n",
            "Epoch 64/100\n",
            "88/88 [==============================] - 0s 3ms/step - loss: 0.4503 - accuracy: 0.7992\n",
            "Epoch 65/100\n",
            "88/88 [==============================] - 0s 3ms/step - loss: 0.4440 - accuracy: 0.8024\n",
            "Epoch 66/100\n",
            "88/88 [==============================] - 0s 3ms/step - loss: 0.4335 - accuracy: 0.8071\n",
            "Epoch 67/100\n",
            "88/88 [==============================] - 0s 3ms/step - loss: 0.4346 - accuracy: 0.8082\n",
            "Epoch 68/100\n",
            "88/88 [==============================] - 0s 3ms/step - loss: 0.4352 - accuracy: 0.8046\n",
            "Epoch 69/100\n",
            "88/88 [==============================] - 0s 3ms/step - loss: 0.4394 - accuracy: 0.8078\n",
            "Epoch 70/100\n",
            "88/88 [==============================] - 0s 3ms/step - loss: 0.4359 - accuracy: 0.8089\n",
            "Epoch 71/100\n",
            "88/88 [==============================] - 0s 3ms/step - loss: 0.4412 - accuracy: 0.8010\n",
            "Epoch 72/100\n",
            "88/88 [==============================] - 0s 3ms/step - loss: 0.4321 - accuracy: 0.8114\n",
            "Epoch 73/100\n",
            "88/88 [==============================] - 0s 3ms/step - loss: 0.4278 - accuracy: 0.8125\n",
            "Epoch 74/100\n",
            "88/88 [==============================] - 0s 3ms/step - loss: 0.4326 - accuracy: 0.8075\n",
            "Epoch 75/100\n",
            "88/88 [==============================] - 0s 3ms/step - loss: 0.4279 - accuracy: 0.8085\n",
            "Epoch 76/100\n",
            "88/88 [==============================] - 0s 3ms/step - loss: 0.4295 - accuracy: 0.8107\n",
            "Epoch 77/100\n",
            "88/88 [==============================] - 0s 3ms/step - loss: 0.4288 - accuracy: 0.8114\n",
            "Epoch 78/100\n",
            "88/88 [==============================] - 0s 3ms/step - loss: 0.4313 - accuracy: 0.8096\n",
            "Epoch 79/100\n",
            "88/88 [==============================] - 0s 3ms/step - loss: 0.4312 - accuracy: 0.8132\n",
            "Epoch 80/100\n",
            "88/88 [==============================] - 0s 3ms/step - loss: 0.4288 - accuracy: 0.8089\n",
            "Epoch 81/100\n",
            "88/88 [==============================] - 0s 3ms/step - loss: 0.4167 - accuracy: 0.8196\n",
            "Epoch 82/100\n",
            "88/88 [==============================] - 0s 3ms/step - loss: 0.4300 - accuracy: 0.8143\n",
            "Epoch 83/100\n",
            "88/88 [==============================] - 0s 3ms/step - loss: 0.4257 - accuracy: 0.8157\n",
            "Epoch 84/100\n",
            "88/88 [==============================] - 0s 3ms/step - loss: 0.4274 - accuracy: 0.8110\n",
            "Epoch 85/100\n",
            "88/88 [==============================] - 0s 3ms/step - loss: 0.4273 - accuracy: 0.8042\n",
            "Epoch 86/100\n",
            "88/88 [==============================] - 0s 3ms/step - loss: 0.4255 - accuracy: 0.8100\n",
            "Epoch 87/100\n",
            "88/88 [==============================] - 0s 3ms/step - loss: 0.4239 - accuracy: 0.8093\n",
            "Epoch 88/100\n",
            "88/88 [==============================] - 0s 3ms/step - loss: 0.4277 - accuracy: 0.8179\n",
            "Epoch 89/100\n",
            "88/88 [==============================] - 0s 3ms/step - loss: 0.4200 - accuracy: 0.8157\n",
            "Epoch 90/100\n",
            "88/88 [==============================] - 0s 3ms/step - loss: 0.4265 - accuracy: 0.8128\n",
            "Epoch 91/100\n",
            "88/88 [==============================] - 0s 3ms/step - loss: 0.4167 - accuracy: 0.8179\n",
            "Epoch 92/100\n",
            "88/88 [==============================] - 0s 3ms/step - loss: 0.4303 - accuracy: 0.8046\n",
            "Epoch 93/100\n",
            "88/88 [==============================] - 0s 3ms/step - loss: 0.4105 - accuracy: 0.8168\n",
            "Epoch 94/100\n",
            "88/88 [==============================] - 0s 3ms/step - loss: 0.4106 - accuracy: 0.8175\n",
            "Epoch 95/100\n",
            "88/88 [==============================] - 0s 3ms/step - loss: 0.4218 - accuracy: 0.8136\n",
            "Epoch 96/100\n",
            "88/88 [==============================] - 0s 3ms/step - loss: 0.4272 - accuracy: 0.8082\n",
            "Epoch 97/100\n",
            "88/88 [==============================] - 0s 3ms/step - loss: 0.4279 - accuracy: 0.8075\n",
            "Epoch 98/100\n",
            "88/88 [==============================] - 0s 3ms/step - loss: 0.4195 - accuracy: 0.8114\n",
            "Epoch 99/100\n",
            "88/88 [==============================] - 0s 3ms/step - loss: 0.4149 - accuracy: 0.8189\n",
            "Epoch 100/100\n",
            "88/88 [==============================] - 0s 3ms/step - loss: 0.4274 - accuracy: 0.8125\n"
          ]
        },
        {
          "output_type": "execute_result",
          "data": {
            "text/plain": [
              "<keras.callbacks.History at 0x7f712e996610>"
            ]
          },
          "metadata": {},
          "execution_count": 191
        }
      ]
    },
    {
      "cell_type": "markdown",
      "metadata": {
        "id": "SiF2xX_uenJn"
      },
      "source": [
        "Q4. Obtain predictions on validation set and print accuracy, precision & recall and F1 score.\n",
        "\n",
        "F1 = 2 * (precision * recall) / (precision + recall)"
      ]
    },
    {
      "cell_type": "code",
      "source": [
        "y_preds_cd = model.predict(X_val)\n",
        "\n",
        "y_val_arr = y_val.values\n",
        "y_val2 = np.where(y_val_arr[:,1].reshape(-1) >= 0.5, 1,0)\n",
        "y_pred2 = np.where(y_preds_cd[:,1].reshape(-1) >= 0.5, 1,0)\n",
        "\n",
        "from sklearn.metrics import precision_score, recall_score, f1_score, accuracy_score\n",
        "\n",
        "print(f'Accuracy: {accuracy_score(y_val2, y_pred2)}')\n",
        "print(f'Precision: {precision_score(y_val2, y_pred2)}')\n",
        "print(f'Recall: {recall_score(y_val2, y_pred2)}')\n",
        "print(f'F1 score: {f1_score(y_val2, y_pred2)}')\n"
      ],
      "metadata": {
        "colab": {
          "base_uri": "https://localhost:8080/"
        },
        "id": "jwKqPUwLZ9UJ",
        "outputId": "8cf60d71-a856-42fb-9070-527aee514592"
      },
      "execution_count": null,
      "outputs": [
        {
          "output_type": "stream",
          "name": "stdout",
          "text": [
            "38/38 [==============================] - 0s 3ms/step\n",
            "Accuracy: 0.822742474916388\n",
            "Precision: 0.6883116883116883\n",
            "Recall: 0.3925925925925926\n",
            "F1 score: 0.5\n"
          ]
        }
      ]
    },
    {
      "cell_type": "markdown",
      "metadata": {
        "id": "lm9Wv9P0gE4T"
      },
      "source": [
        "Q5. Plot the ROC curve by giving appropriate names for title and axes. (Pending)"
      ]
    },
    {
      "cell_type": "code",
      "metadata": {
        "id": "Cs7CkXWC_guc",
        "colab": {
          "base_uri": "https://localhost:8080/",
          "height": 295
        },
        "outputId": "b008f8ee-2a03-4140-c444-ec1265aa442d"
      },
      "source": [
        "# Plot the ROC curve by giving appropriate names for title and axes. \n",
        "### WRITE CODE HERE\n",
        "from sklearn.metrics import roc_curve\n",
        "import sklearn.metrics as metrics\n",
        "import matplotlib.pyplot as plt\n",
        "\n",
        "y_pred_proba = list()\n",
        "for i in range(len(y_preds_cd)):\n",
        "    y_pred_proba.append(min(y_preds_cd[i]))\n",
        "fpr, tpr, _ = metrics.roc_curve(y_val2, y_pred_proba) \n",
        "auc = metrics.roc_auc_score(y_val2, y_pred_proba)\n",
        "\n",
        "plt.plot([0, 1], [0, 1], 'k--')\n",
        "plt.plot(fpr,tpr,label=\"auc=\"+str(auc))\n",
        "plt.xlabel(\"False Positive Rate\")\n",
        "plt.ylabel(\"True Positive Rate\")\n",
        "plt.title(\"ROC Curve\")\n",
        "plt.legend(loc=4)\n",
        "plt.show()\n"
      ],
      "execution_count": null,
      "outputs": [
        {
          "output_type": "display_data",
          "data": {
            "text/plain": [
              "<Figure size 432x288 with 1 Axes>"
            ],
            "image/png": "[encoded data removed]"
          },
          "metadata": {
            "needs_background": "light"
          }
        }
      ]
    },
    {
      "cell_type": "markdown",
      "metadata": {
        "id": "3UyHYWaAtlOm"
      },
      "source": [
        "Is the accuracy value impressive for this dataset? Please explain based on the structure of this dataset. \n",
        "\n",
        "For these five metrics (accuracy, precision, recall, F1 score and AUC), please explain their connections and differences. For our dataset, which metrics should we focus more on?\n",
        "\n",
        "\n",
        "Ans-\n",
        "\n",
        "Yes, the accuracy on this dataset would be high, given that we have an unbalanced dataset (more do not default (0/ negative) versus those that default (1/positive)).\n",
        "\n",
        "**Accuracy** is the ratio of correctly predicted observations to total predicted observations. Accuracy matters when the dataset is balanced with same amount of false positives and false negatives and when the costs of false positives and false negatives are equivalent.\n",
        "\n",
        "**Precision** measures the proportion of data correctly predicted out of all data predicted as positive (default). In this case, precision is used to find the percentage of correctly predicted payment default people for next month over the total predicted payment default people for next month which is meant to measure the false positive rate.\n",
        "\n",
        "**Recall** measures the proportion of data correctly predicted out of all data that are actually positive(default). In this case, recall is used to find the percentage of correctly predicted payment default people for next month over the actual payment default people for next month.\n",
        "\n",
        "**F1 score** taking both precision and recall into account, is a suitable performance metric for unbalanced data. F1 score is the weighted average of precision and recall.\n",
        "\n",
        "**AUC** stands for the area under the ROC curve, which summarizes the TP and FP rates for a classifier model across all threshold values. We can use this to compare different classifier models directly. \n",
        "\n",
        "In this dataset, **recall** and **F1 score** are the metrics we should focus on more because the cost of false negatives is higher than the cost of false positives in this unbalanced dataset. The case of a false negative is that someone with bad credit was misclassified as having good credit and is eligible to borrow loans which could cost the company a lot of money if the person couldn't pay back the money he borrowed next month. We think F1 score is important given that the data is unbalanced.\n",
        "\n",
        "\n",
        "References: https://subscription.packtpub.com/book/big-data-&-business-intelligence/9781788397872/1/ch01lvl1sec27/pros-and-cons-of-neural-networks\n",
        "\n",
        "https://blog.exsilio.com/all/accuracy-precision-recall-f1-score-interpretation-of-performance-measures/\n",
        "\n",
        "https://towardsdatascience.com/understanding-auc-roc-curve-68b2303cc9c5\n"
      ]
    },
    {
      "cell_type": "markdown",
      "metadata": {
        "id": "SjZQ940YWQSW"
      },
      "source": [
        "#### Tuning hyperparameters using cross-validation:<br/>\n",
        "Cross-validation in neural networks is computationally expensive. So we will perform a randomized cross-validation search across the parameter space using RandomizedSearchCV function.\n",
        "\n",
        "Here, we will use KerasClassifier class, which act as a wrapper of scikit-learn’s library in Keras comes as a handy tool for automating the tuning process."
      ]
    },
    {
      "cell_type": "code",
      "metadata": {
        "id": "O6t4j_UJWPYb"
      },
      "source": [
        "from sklearn.model_selection import RandomizedSearchCV \n",
        "from keras.wrappers.scikit_learn import KerasClassifier"
      ],
      "execution_count": null,
      "outputs": []
    },
    {
      "cell_type": "markdown",
      "metadata": {
        "id": "MJtSGwtNUlEg"
      },
      "source": [
        "Q6. First we create a function to build neural network model with activation function and learning rate of SGD as parameters"
      ]
    },
    {
      "cell_type": "code",
      "source": [
        "def create_model(learning_rate, activation):\n",
        "  \n",
        "    # Create an SGD optimizer with its learning rate equal to the \"learning_rate\" parameter value of create_model\n",
        "    opt = SGD(learning_rate = learning_rate , decay = 1e-7, momentum = .9)\n",
        "  \n",
        "    # Create your neural network model \n",
        "    model = Sequential()\n",
        "    # Please keep the same architecture as the NN model you have built above in order for comparison\n",
        "    # Please use the activation given by the \"activation\" parameter value of create_model for all inner layers except for the final layer.\n",
        "    # For the final output layer, choose an appropriate activation function by yourself.\n",
        "    \n",
        "    model.add(Dense(20, input_dim=73, activation = activation))\n",
        "    model.add(Dropout(0.2))\n",
        "    model.add(Dense(10, activation = activation))\n",
        "    model.add(Dropout(0.2))\n",
        "    model.add(Dense(10, activation = activation))\n",
        "    model.add(Dropout(0.2))\n",
        "\n",
        "    # Finally, add a readout layer\n",
        "    model.add(Dense(2, activation = \"softmax\"))\n",
        "   \n",
        "    # Compile the model\n",
        "    model.compile(optimizer = opt,\n",
        "                  loss = 'categorical_crossentropy',\n",
        "                  metrics=[\"accuracy\"])\n",
        "    return model"
      ],
      "metadata": {
        "id": "SIxBP7dUq9Fu"
      },
      "execution_count": null,
      "outputs": []
    },
    {
      "cell_type": "markdown",
      "metadata": {
        "id": "x2IHOXeRMPjR"
      },
      "source": [
        "Create a model object using KerasClassifier from keras.wrappers.scikit_learn by passing the create_model function."
      ]
    },
    {
      "cell_type": "code",
      "metadata": {
        "id": "Wq-48iSOMGRd",
        "colab": {
          "base_uri": "https://localhost:8080/"
        },
        "outputId": "552e95d2-4d13-47d2-f17a-c5bd6e1d7e3f"
      },
      "source": [
        "model = KerasClassifier(build_fn = create_model,\n",
        "                       verbose = 0)"
      ],
      "execution_count": null,
      "outputs": [
        {
          "output_type": "stream",
          "name": "stderr",
          "text": [
            "<ipython-input-111-f0be3b82ac3c>:1: DeprecationWarning: KerasClassifier is deprecated, use Sci-Keras (https://github.com/adriangb/scikeras) instead. See https://www.adriangb.com/scikeras/stable/migration.html for help migrating.\n",
            "  model = KerasClassifier(build_fn = create_model,\n"
          ]
        }
      ]
    },
    {
      "cell_type": "markdown",
      "metadata": {
        "id": "dTQgcA8dMfIL"
      },
      "source": [
        "Q7. Try the following hyperparameters:\n",
        "\n",
        "- activation function: relu, tanh\n",
        "\n",
        "- batch size: 16, 32 and 64\n",
        "\n",
        "- epochs: 100, 200 and 500\n",
        "\n",
        "- learning rate: 0.01, 0.001 and 0.0001\n",
        "\n",
        "Use dictionary object to define the parameter search space."
      ]
    },
    {
      "cell_type": "code",
      "metadata": {
        "id": "Mldddf7RMcJn"
      },
      "source": [
        "### WRITE CODE HERE\n",
        "param_grid = {\n",
        "    'activation': ['relu','tanh'],\n",
        "    'batch_size': [ 16, 32, 64],\n",
        "    'epochs': [100, 200, 500],\n",
        "    'learning_rate': [0.01, 0.001, 0.0001],\n",
        "}"
      ],
      "execution_count": null,
      "outputs": []
    },
    {
      "cell_type": "markdown",
      "metadata": {
        "id": "OugTwxjcNwG_"
      },
      "source": [
        "Next we perform a randomized cross-validation search across the parameter space using RandomizedSearchCV function. We select the randomized search as it works faster than a grid search. Here, we will perform a 5-fold cross-validation search. \n",
        "\n",
        "See https://scikit-learn.org/stable/modules/generated/sklearn.model_selection.RandomizedSearchCV.html?highlight=randomizedsearchcv#sklearn.model_selection.RandomizedSearchCV for the use of RandomizedSearchCV."
      ]
    },
    {
      "cell_type": "code",
      "metadata": {
        "id": "-O8EPPiDNsoI"
      },
      "source": [
        "### WRITE CODE HERE \n",
        "random_search = RandomizedSearchCV(estimator = model,\n",
        "                                   param_distributions = param_grid,\n",
        "                                   cv = 5) \n",
        "\n",
        "# shall we need to add scoring here?"
      ],
      "execution_count": null,
      "outputs": []
    },
    {
      "cell_type": "code",
      "metadata": {
        "id": "n7HSam2xOVx1"
      },
      "source": [
        "random_search_results = random_search.fit(X_train, y_train) # it may take several hours."
      ],
      "execution_count": null,
      "outputs": []
    },
    {
      "cell_type": "markdown",
      "metadata": {
        "id": "xkpfSAvOXVV9"
      },
      "source": [
        "Q8. Print the best model parameters "
      ]
    },
    {
      "cell_type": "code",
      "metadata": {
        "id": "qHnyRJlxW75H",
        "colab": {
          "base_uri": "https://localhost:8080/"
        },
        "outputId": "1ae3534d-bb8d-4a1b-8016-a33745d2729f"
      },
      "source": [
        "### WRITE CODE HERE \n",
        "random_search.best_params_"
      ],
      "execution_count": null,
      "outputs": [
        {
          "output_type": "execute_result",
          "data": {
            "text/plain": [
              "{'learning_rate': 0.001, 'epochs': 500, 'batch_size': 64, 'activation': 'tanh'}"
            ]
          },
          "metadata": {},
          "execution_count": 122
        }
      ]
    },
    {
      "cell_type": "markdown",
      "source": [
        "Our team tried to use **best_estimator_** to fit the model with best parameter set but was not giving us the expected results. Therefore, we manually built the neural network model with the best parameter set \n",
        "`{'learning_rate': 0.001, 'epochs': 500, 'batch_size': 64, 'activation': 'tanh'} `in Q9."
      ],
      "metadata": {
        "id": "wNnBo93CgkW3"
      }
    },
    {
      "cell_type": "markdown",
      "metadata": {
        "id": "ghS7bgUMaTU6"
      },
      "source": [
        "Q9. Fit the model with the Best Parameter Set"
      ]
    },
    {
      "cell_type": "code",
      "metadata": {
        "id": "yAR5UKtrXUd_",
        "colab": {
          "base_uri": "https://localhost:8080/"
        },
        "outputId": "b1a19a9d-7b37-4758-a6ef-4d3dbfec6c94"
      },
      "source": [
        "### WRITE CODE HERE \n",
        "best_kc = create_model(0.001, 'tanh')\n",
        "best_kc.fit(X_train, y_train, epochs = 500, batch_size = 64)"
      ],
      "execution_count": null,
      "outputs": [
        {
          "output_type": "stream",
          "name": "stdout",
          "text": [
            "Epoch 1/500\n",
            "44/44 [==============================] - 1s 3ms/step - loss: 0.6008 - accuracy: 0.6830\n",
            "Epoch 2/500\n",
            "44/44 [==============================] - 0s 3ms/step - loss: 0.5724 - accuracy: 0.7257\n",
            "Epoch 3/500\n",
            "44/44 [==============================] - 0s 3ms/step - loss: 0.5479 - accuracy: 0.7508\n",
            "Epoch 4/500\n",
            "44/44 [==============================] - 0s 3ms/step - loss: 0.5479 - accuracy: 0.7494\n",
            "Epoch 5/500\n",
            "44/44 [==============================] - 0s 3ms/step - loss: 0.5446 - accuracy: 0.7565\n",
            "Epoch 6/500\n",
            "44/44 [==============================] - 0s 3ms/step - loss: 0.5342 - accuracy: 0.7558\n",
            "Epoch 7/500\n",
            "44/44 [==============================] - 0s 3ms/step - loss: 0.5307 - accuracy: 0.7580\n",
            "Epoch 8/500\n",
            "44/44 [==============================] - 0s 3ms/step - loss: 0.5189 - accuracy: 0.7662\n",
            "Epoch 9/500\n",
            "44/44 [==============================] - 0s 3ms/step - loss: 0.5194 - accuracy: 0.7673\n",
            "Epoch 10/500\n",
            "44/44 [==============================] - 0s 3ms/step - loss: 0.5103 - accuracy: 0.7669\n",
            "Epoch 11/500\n",
            "44/44 [==============================] - 0s 3ms/step - loss: 0.5108 - accuracy: 0.7763\n",
            "Epoch 12/500\n",
            "44/44 [==============================] - 0s 3ms/step - loss: 0.5026 - accuracy: 0.7691\n",
            "Epoch 13/500\n",
            "44/44 [==============================] - 0s 3ms/step - loss: 0.5004 - accuracy: 0.7766\n",
            "Epoch 14/500\n",
            "44/44 [==============================] - 0s 3ms/step - loss: 0.4948 - accuracy: 0.7773\n",
            "Epoch 15/500\n",
            "44/44 [==============================] - 0s 3ms/step - loss: 0.4982 - accuracy: 0.7738\n",
            "Epoch 16/500\n",
            "44/44 [==============================] - 0s 3ms/step - loss: 0.4942 - accuracy: 0.7788\n",
            "Epoch 17/500\n",
            "44/44 [==============================] - 0s 3ms/step - loss: 0.4913 - accuracy: 0.7734\n",
            "Epoch 18/500\n",
            "44/44 [==============================] - 0s 3ms/step - loss: 0.4940 - accuracy: 0.7849\n",
            "Epoch 19/500\n",
            "44/44 [==============================] - 0s 3ms/step - loss: 0.4887 - accuracy: 0.7806\n",
            "Epoch 20/500\n",
            "44/44 [==============================] - 0s 3ms/step - loss: 0.4841 - accuracy: 0.7845\n",
            "Epoch 21/500\n",
            "44/44 [==============================] - 0s 3ms/step - loss: 0.4764 - accuracy: 0.7885\n",
            "Epoch 22/500\n",
            "44/44 [==============================] - 0s 3ms/step - loss: 0.4766 - accuracy: 0.7885\n",
            "Epoch 23/500\n",
            "44/44 [==============================] - 0s 3ms/step - loss: 0.4767 - accuracy: 0.7863\n",
            "Epoch 24/500\n",
            "44/44 [==============================] - 0s 3ms/step - loss: 0.4746 - accuracy: 0.7895\n",
            "Epoch 25/500\n",
            "44/44 [==============================] - 0s 3ms/step - loss: 0.4784 - accuracy: 0.7913\n",
            "Epoch 26/500\n",
            "44/44 [==============================] - 0s 3ms/step - loss: 0.4754 - accuracy: 0.7827\n",
            "Epoch 27/500\n",
            "44/44 [==============================] - 0s 3ms/step - loss: 0.4706 - accuracy: 0.7946\n",
            "Epoch 28/500\n",
            "44/44 [==============================] - 0s 3ms/step - loss: 0.4751 - accuracy: 0.7920\n",
            "Epoch 29/500\n",
            "44/44 [==============================] - 0s 3ms/step - loss: 0.4624 - accuracy: 0.7953\n",
            "Epoch 30/500\n",
            "44/44 [==============================] - 0s 3ms/step - loss: 0.4678 - accuracy: 0.7960\n",
            "Epoch 31/500\n",
            "44/44 [==============================] - 0s 3ms/step - loss: 0.4616 - accuracy: 0.7920\n",
            "Epoch 32/500\n",
            "44/44 [==============================] - 0s 3ms/step - loss: 0.4690 - accuracy: 0.7989\n",
            "Epoch 33/500\n",
            "44/44 [==============================] - 0s 3ms/step - loss: 0.4716 - accuracy: 0.7917\n",
            "Epoch 34/500\n",
            "44/44 [==============================] - 0s 3ms/step - loss: 0.4639 - accuracy: 0.7910\n",
            "Epoch 35/500\n",
            "44/44 [==============================] - 0s 3ms/step - loss: 0.4673 - accuracy: 0.7906\n",
            "Epoch 36/500\n",
            "44/44 [==============================] - 0s 3ms/step - loss: 0.4630 - accuracy: 0.7953\n",
            "Epoch 37/500\n",
            "44/44 [==============================] - 0s 3ms/step - loss: 0.4694 - accuracy: 0.7924\n",
            "Epoch 38/500\n",
            "44/44 [==============================] - 0s 3ms/step - loss: 0.4639 - accuracy: 0.7999\n",
            "Epoch 39/500\n",
            "44/44 [==============================] - 0s 3ms/step - loss: 0.4606 - accuracy: 0.8035\n",
            "Epoch 40/500\n",
            "44/44 [==============================] - 0s 3ms/step - loss: 0.4714 - accuracy: 0.7924\n",
            "Epoch 41/500\n",
            "44/44 [==============================] - 0s 3ms/step - loss: 0.4660 - accuracy: 0.7917\n",
            "Epoch 42/500\n",
            "44/44 [==============================] - 0s 3ms/step - loss: 0.4602 - accuracy: 0.7967\n",
            "Epoch 43/500\n",
            "44/44 [==============================] - 0s 3ms/step - loss: 0.4617 - accuracy: 0.7978\n",
            "Epoch 44/500\n",
            "44/44 [==============================] - 0s 3ms/step - loss: 0.4649 - accuracy: 0.8021\n",
            "Epoch 45/500\n",
            "44/44 [==============================] - 0s 3ms/step - loss: 0.4678 - accuracy: 0.8010\n",
            "Epoch 46/500\n",
            "44/44 [==============================] - 0s 3ms/step - loss: 0.4628 - accuracy: 0.7971\n",
            "Epoch 47/500\n",
            "44/44 [==============================] - 0s 3ms/step - loss: 0.4595 - accuracy: 0.8067\n",
            "Epoch 48/500\n",
            "44/44 [==============================] - 0s 3ms/step - loss: 0.4605 - accuracy: 0.7967\n",
            "Epoch 49/500\n",
            "44/44 [==============================] - 0s 3ms/step - loss: 0.4637 - accuracy: 0.7913\n",
            "Epoch 50/500\n",
            "44/44 [==============================] - 0s 3ms/step - loss: 0.4582 - accuracy: 0.8006\n",
            "Epoch 51/500\n",
            "44/44 [==============================] - 0s 3ms/step - loss: 0.4511 - accuracy: 0.8014\n",
            "Epoch 52/500\n",
            "44/44 [==============================] - 0s 3ms/step - loss: 0.4552 - accuracy: 0.8049\n",
            "Epoch 53/500\n",
            "44/44 [==============================] - 0s 3ms/step - loss: 0.4582 - accuracy: 0.7971\n",
            "Epoch 54/500\n",
            "44/44 [==============================] - 0s 3ms/step - loss: 0.4588 - accuracy: 0.7996\n",
            "Epoch 55/500\n",
            "44/44 [==============================] - 0s 3ms/step - loss: 0.4588 - accuracy: 0.7938\n",
            "Epoch 56/500\n",
            "44/44 [==============================] - 0s 3ms/step - loss: 0.4573 - accuracy: 0.8042\n",
            "Epoch 57/500\n",
            "44/44 [==============================] - 0s 3ms/step - loss: 0.4627 - accuracy: 0.7981\n",
            "Epoch 58/500\n",
            "44/44 [==============================] - 0s 3ms/step - loss: 0.4534 - accuracy: 0.8017\n",
            "Epoch 59/500\n",
            "44/44 [==============================] - 0s 3ms/step - loss: 0.4550 - accuracy: 0.8028\n",
            "Epoch 60/500\n",
            "44/44 [==============================] - 0s 3ms/step - loss: 0.4491 - accuracy: 0.8064\n",
            "Epoch 61/500\n",
            "44/44 [==============================] - 0s 3ms/step - loss: 0.4542 - accuracy: 0.8021\n",
            "Epoch 62/500\n",
            "44/44 [==============================] - 0s 3ms/step - loss: 0.4579 - accuracy: 0.7963\n",
            "Epoch 63/500\n",
            "44/44 [==============================] - 0s 3ms/step - loss: 0.4538 - accuracy: 0.8014\n",
            "Epoch 64/500\n",
            "44/44 [==============================] - 0s 3ms/step - loss: 0.4577 - accuracy: 0.7992\n",
            "Epoch 65/500\n",
            "44/44 [==============================] - 0s 3ms/step - loss: 0.4542 - accuracy: 0.8014\n",
            "Epoch 66/500\n",
            "44/44 [==============================] - 0s 3ms/step - loss: 0.4562 - accuracy: 0.8049\n",
            "Epoch 67/500\n",
            "44/44 [==============================] - 0s 3ms/step - loss: 0.4585 - accuracy: 0.8057\n",
            "Epoch 68/500\n",
            "44/44 [==============================] - 0s 3ms/step - loss: 0.4540 - accuracy: 0.8103\n",
            "Epoch 69/500\n",
            "44/44 [==============================] - 0s 3ms/step - loss: 0.4620 - accuracy: 0.8017\n",
            "Epoch 70/500\n",
            "44/44 [==============================] - 0s 3ms/step - loss: 0.4516 - accuracy: 0.8057\n",
            "Epoch 71/500\n",
            "44/44 [==============================] - 0s 3ms/step - loss: 0.4537 - accuracy: 0.8010\n",
            "Epoch 72/500\n",
            "44/44 [==============================] - 0s 3ms/step - loss: 0.4545 - accuracy: 0.7981\n",
            "Epoch 73/500\n",
            "44/44 [==============================] - 0s 3ms/step - loss: 0.4516 - accuracy: 0.8075\n",
            "Epoch 74/500\n",
            "44/44 [==============================] - 0s 3ms/step - loss: 0.4499 - accuracy: 0.8042\n",
            "Epoch 75/500\n",
            "44/44 [==============================] - 0s 3ms/step - loss: 0.4464 - accuracy: 0.8064\n",
            "Epoch 76/500\n",
            "44/44 [==============================] - 0s 3ms/step - loss: 0.4533 - accuracy: 0.8006\n",
            "Epoch 77/500\n",
            "44/44 [==============================] - 0s 3ms/step - loss: 0.4494 - accuracy: 0.8060\n",
            "Epoch 78/500\n",
            "44/44 [==============================] - 0s 3ms/step - loss: 0.4514 - accuracy: 0.8042\n",
            "Epoch 79/500\n",
            "44/44 [==============================] - 0s 3ms/step - loss: 0.4496 - accuracy: 0.8035\n",
            "Epoch 80/500\n",
            "44/44 [==============================] - 0s 3ms/step - loss: 0.4528 - accuracy: 0.8046\n",
            "Epoch 81/500\n",
            "44/44 [==============================] - 0s 3ms/step - loss: 0.4492 - accuracy: 0.8024\n",
            "Epoch 82/500\n",
            "44/44 [==============================] - 0s 3ms/step - loss: 0.4523 - accuracy: 0.8006\n",
            "Epoch 83/500\n",
            "44/44 [==============================] - 0s 3ms/step - loss: 0.4519 - accuracy: 0.8071\n",
            "Epoch 84/500\n",
            "44/44 [==============================] - 0s 3ms/step - loss: 0.4481 - accuracy: 0.8042\n",
            "Epoch 85/500\n",
            "44/44 [==============================] - 0s 3ms/step - loss: 0.4454 - accuracy: 0.8100\n",
            "Epoch 86/500\n",
            "44/44 [==============================] - 0s 3ms/step - loss: 0.4448 - accuracy: 0.8075\n",
            "Epoch 87/500\n",
            "44/44 [==============================] - 0s 3ms/step - loss: 0.4460 - accuracy: 0.8028\n",
            "Epoch 88/500\n",
            "44/44 [==============================] - 0s 3ms/step - loss: 0.4497 - accuracy: 0.8046\n",
            "Epoch 89/500\n",
            "44/44 [==============================] - 0s 3ms/step - loss: 0.4505 - accuracy: 0.8035\n",
            "Epoch 90/500\n",
            "44/44 [==============================] - 0s 4ms/step - loss: 0.4513 - accuracy: 0.8006\n",
            "Epoch 91/500\n",
            "44/44 [==============================] - 0s 3ms/step - loss: 0.4506 - accuracy: 0.8085\n",
            "Epoch 92/500\n",
            "44/44 [==============================] - 0s 3ms/step - loss: 0.4517 - accuracy: 0.8028\n",
            "Epoch 93/500\n",
            "44/44 [==============================] - 0s 3ms/step - loss: 0.4480 - accuracy: 0.8042\n",
            "Epoch 94/500\n",
            "44/44 [==============================] - 0s 3ms/step - loss: 0.4454 - accuracy: 0.8053\n",
            "Epoch 95/500\n",
            "44/44 [==============================] - 0s 3ms/step - loss: 0.4464 - accuracy: 0.8064\n",
            "Epoch 96/500\n",
            "44/44 [==============================] - 0s 3ms/step - loss: 0.4472 - accuracy: 0.8100\n",
            "Epoch 97/500\n",
            "44/44 [==============================] - 0s 3ms/step - loss: 0.4449 - accuracy: 0.8089\n",
            "Epoch 98/500\n",
            "44/44 [==============================] - 0s 3ms/step - loss: 0.4482 - accuracy: 0.8100\n",
            "Epoch 99/500\n",
            "44/44 [==============================] - 0s 3ms/step - loss: 0.4489 - accuracy: 0.8014\n",
            "Epoch 100/500\n",
            "44/44 [==============================] - 0s 3ms/step - loss: 0.4444 - accuracy: 0.8071\n",
            "Epoch 101/500\n",
            "44/44 [==============================] - 0s 3ms/step - loss: 0.4472 - accuracy: 0.8075\n",
            "Epoch 102/500\n",
            "44/44 [==============================] - 0s 3ms/step - loss: 0.4443 - accuracy: 0.8103\n",
            "Epoch 103/500\n",
            "44/44 [==============================] - 0s 3ms/step - loss: 0.4469 - accuracy: 0.8100\n",
            "Epoch 104/500\n",
            "44/44 [==============================] - 0s 3ms/step - loss: 0.4481 - accuracy: 0.8085\n",
            "Epoch 105/500\n",
            "44/44 [==============================] - 0s 3ms/step - loss: 0.4470 - accuracy: 0.8067\n",
            "Epoch 106/500\n",
            "44/44 [==============================] - 0s 3ms/step - loss: 0.4489 - accuracy: 0.8060\n",
            "Epoch 107/500\n",
            "44/44 [==============================] - 0s 3ms/step - loss: 0.4476 - accuracy: 0.8078\n",
            "Epoch 108/500\n",
            "44/44 [==============================] - 0s 3ms/step - loss: 0.4456 - accuracy: 0.8078\n",
            "Epoch 109/500\n",
            "44/44 [==============================] - 0s 3ms/step - loss: 0.4484 - accuracy: 0.8042\n",
            "Epoch 110/500\n",
            "44/44 [==============================] - 0s 3ms/step - loss: 0.4501 - accuracy: 0.8017\n",
            "Epoch 111/500\n",
            "44/44 [==============================] - 0s 3ms/step - loss: 0.4406 - accuracy: 0.8085\n",
            "Epoch 112/500\n",
            "44/44 [==============================] - 0s 3ms/step - loss: 0.4479 - accuracy: 0.8035\n",
            "Epoch 113/500\n",
            "44/44 [==============================] - 0s 3ms/step - loss: 0.4471 - accuracy: 0.8100\n",
            "Epoch 114/500\n",
            "44/44 [==============================] - 0s 3ms/step - loss: 0.4498 - accuracy: 0.8032\n",
            "Epoch 115/500\n",
            "44/44 [==============================] - 0s 3ms/step - loss: 0.4401 - accuracy: 0.8100\n",
            "Epoch 116/500\n",
            "44/44 [==============================] - 0s 3ms/step - loss: 0.4457 - accuracy: 0.8078\n",
            "Epoch 117/500\n",
            "44/44 [==============================] - 0s 3ms/step - loss: 0.4425 - accuracy: 0.8053\n",
            "Epoch 118/500\n",
            "44/44 [==============================] - 0s 3ms/step - loss: 0.4519 - accuracy: 0.8006\n",
            "Epoch 119/500\n",
            "44/44 [==============================] - 0s 3ms/step - loss: 0.4455 - accuracy: 0.8028\n",
            "Epoch 120/500\n",
            "44/44 [==============================] - 0s 3ms/step - loss: 0.4450 - accuracy: 0.8082\n",
            "Epoch 121/500\n",
            "44/44 [==============================] - 0s 3ms/step - loss: 0.4442 - accuracy: 0.8128\n",
            "Epoch 122/500\n",
            "44/44 [==============================] - 0s 3ms/step - loss: 0.4463 - accuracy: 0.8082\n",
            "Epoch 123/500\n",
            "44/44 [==============================] - 0s 3ms/step - loss: 0.4426 - accuracy: 0.8114\n",
            "Epoch 124/500\n",
            "44/44 [==============================] - 0s 3ms/step - loss: 0.4454 - accuracy: 0.8089\n",
            "Epoch 125/500\n",
            "44/44 [==============================] - 0s 3ms/step - loss: 0.4441 - accuracy: 0.8006\n",
            "Epoch 126/500\n",
            "44/44 [==============================] - 0s 3ms/step - loss: 0.4454 - accuracy: 0.8021\n",
            "Epoch 127/500\n",
            "44/44 [==============================] - 0s 3ms/step - loss: 0.4397 - accuracy: 0.8057\n",
            "Epoch 128/500\n",
            "44/44 [==============================] - 0s 3ms/step - loss: 0.4455 - accuracy: 0.8075\n",
            "Epoch 129/500\n",
            "44/44 [==============================] - 0s 3ms/step - loss: 0.4454 - accuracy: 0.8046\n",
            "Epoch 130/500\n",
            "44/44 [==============================] - 0s 3ms/step - loss: 0.4443 - accuracy: 0.8053\n",
            "Epoch 131/500\n",
            "44/44 [==============================] - 0s 3ms/step - loss: 0.4453 - accuracy: 0.8064\n",
            "Epoch 132/500\n",
            "44/44 [==============================] - 0s 3ms/step - loss: 0.4469 - accuracy: 0.8017\n",
            "Epoch 133/500\n",
            "44/44 [==============================] - 0s 3ms/step - loss: 0.4454 - accuracy: 0.8082\n",
            "Epoch 134/500\n",
            "44/44 [==============================] - 0s 3ms/step - loss: 0.4467 - accuracy: 0.8064\n",
            "Epoch 135/500\n",
            "44/44 [==============================] - 0s 3ms/step - loss: 0.4449 - accuracy: 0.8107\n",
            "Epoch 136/500\n",
            "44/44 [==============================] - 0s 3ms/step - loss: 0.4436 - accuracy: 0.8078\n",
            "Epoch 137/500\n",
            "44/44 [==============================] - 0s 3ms/step - loss: 0.4411 - accuracy: 0.8067\n",
            "Epoch 138/500\n",
            "44/44 [==============================] - 0s 3ms/step - loss: 0.4476 - accuracy: 0.8075\n",
            "Epoch 139/500\n",
            "44/44 [==============================] - 0s 3ms/step - loss: 0.4389 - accuracy: 0.8067\n",
            "Epoch 140/500\n",
            "44/44 [==============================] - 0s 3ms/step - loss: 0.4410 - accuracy: 0.8024\n",
            "Epoch 141/500\n",
            "44/44 [==============================] - 0s 3ms/step - loss: 0.4370 - accuracy: 0.8060\n",
            "Epoch 142/500\n",
            "44/44 [==============================] - 0s 3ms/step - loss: 0.4435 - accuracy: 0.8067\n",
            "Epoch 143/500\n",
            "44/44 [==============================] - 0s 3ms/step - loss: 0.4471 - accuracy: 0.8028\n",
            "Epoch 144/500\n",
            "44/44 [==============================] - 0s 3ms/step - loss: 0.4407 - accuracy: 0.8085\n",
            "Epoch 145/500\n",
            "44/44 [==============================] - 0s 3ms/step - loss: 0.4431 - accuracy: 0.8078\n",
            "Epoch 146/500\n",
            "44/44 [==============================] - 0s 3ms/step - loss: 0.4450 - accuracy: 0.8093\n",
            "Epoch 147/500\n",
            "44/44 [==============================] - 0s 3ms/step - loss: 0.4400 - accuracy: 0.8071\n",
            "Epoch 148/500\n",
            "44/44 [==============================] - 0s 3ms/step - loss: 0.4463 - accuracy: 0.8032\n",
            "Epoch 149/500\n",
            "44/44 [==============================] - 0s 3ms/step - loss: 0.4382 - accuracy: 0.8078\n",
            "Epoch 150/500\n",
            "44/44 [==============================] - 0s 3ms/step - loss: 0.4393 - accuracy: 0.8100\n",
            "Epoch 151/500\n",
            "44/44 [==============================] - 0s 3ms/step - loss: 0.4477 - accuracy: 0.8021\n",
            "Epoch 152/500\n",
            "44/44 [==============================] - 0s 3ms/step - loss: 0.4406 - accuracy: 0.8067\n",
            "Epoch 153/500\n",
            "44/44 [==============================] - 0s 3ms/step - loss: 0.4429 - accuracy: 0.8060\n",
            "Epoch 154/500\n",
            "44/44 [==============================] - 0s 3ms/step - loss: 0.4452 - accuracy: 0.8035\n",
            "Epoch 155/500\n",
            "44/44 [==============================] - 0s 3ms/step - loss: 0.4399 - accuracy: 0.8125\n",
            "Epoch 156/500\n",
            "44/44 [==============================] - 0s 3ms/step - loss: 0.4446 - accuracy: 0.8089\n",
            "Epoch 157/500\n",
            "44/44 [==============================] - 0s 3ms/step - loss: 0.4405 - accuracy: 0.8078\n",
            "Epoch 158/500\n",
            "44/44 [==============================] - 0s 3ms/step - loss: 0.4427 - accuracy: 0.8024\n",
            "Epoch 159/500\n",
            "44/44 [==============================] - 0s 3ms/step - loss: 0.4398 - accuracy: 0.8075\n",
            "Epoch 160/500\n",
            "44/44 [==============================] - 0s 3ms/step - loss: 0.4376 - accuracy: 0.8082\n",
            "Epoch 161/500\n",
            "44/44 [==============================] - 0s 3ms/step - loss: 0.4431 - accuracy: 0.8121\n",
            "Epoch 162/500\n",
            "44/44 [==============================] - 0s 3ms/step - loss: 0.4404 - accuracy: 0.8146\n",
            "Epoch 163/500\n",
            "44/44 [==============================] - 0s 3ms/step - loss: 0.4394 - accuracy: 0.8067\n",
            "Epoch 164/500\n",
            "44/44 [==============================] - 0s 3ms/step - loss: 0.4458 - accuracy: 0.8085\n",
            "Epoch 165/500\n",
            "44/44 [==============================] - 0s 3ms/step - loss: 0.4375 - accuracy: 0.8093\n",
            "Epoch 166/500\n",
            "44/44 [==============================] - 0s 3ms/step - loss: 0.4408 - accuracy: 0.8136\n",
            "Epoch 167/500\n",
            "44/44 [==============================] - 0s 3ms/step - loss: 0.4411 - accuracy: 0.8146\n",
            "Epoch 168/500\n",
            "44/44 [==============================] - 0s 3ms/step - loss: 0.4415 - accuracy: 0.8093\n",
            "Epoch 169/500\n",
            "44/44 [==============================] - 0s 3ms/step - loss: 0.4412 - accuracy: 0.8060\n",
            "Epoch 170/500\n",
            "44/44 [==============================] - 0s 3ms/step - loss: 0.4472 - accuracy: 0.8035\n",
            "Epoch 171/500\n",
            "44/44 [==============================] - 0s 3ms/step - loss: 0.4402 - accuracy: 0.8046\n",
            "Epoch 172/500\n",
            "44/44 [==============================] - 0s 3ms/step - loss: 0.4400 - accuracy: 0.8082\n",
            "Epoch 173/500\n",
            "44/44 [==============================] - 0s 3ms/step - loss: 0.4396 - accuracy: 0.8100\n",
            "Epoch 174/500\n",
            "44/44 [==============================] - 0s 3ms/step - loss: 0.4446 - accuracy: 0.8067\n",
            "Epoch 175/500\n",
            "44/44 [==============================] - 0s 3ms/step - loss: 0.4430 - accuracy: 0.7999\n",
            "Epoch 176/500\n",
            "44/44 [==============================] - 0s 3ms/step - loss: 0.4417 - accuracy: 0.8085\n",
            "Epoch 177/500\n",
            "44/44 [==============================] - 0s 3ms/step - loss: 0.4351 - accuracy: 0.8114\n",
            "Epoch 178/500\n",
            "44/44 [==============================] - 0s 3ms/step - loss: 0.4432 - accuracy: 0.8071\n",
            "Epoch 179/500\n",
            "44/44 [==============================] - 0s 3ms/step - loss: 0.4391 - accuracy: 0.8096\n",
            "Epoch 180/500\n",
            "44/44 [==============================] - 0s 3ms/step - loss: 0.4348 - accuracy: 0.8146\n",
            "Epoch 181/500\n",
            "44/44 [==============================] - 0s 3ms/step - loss: 0.4392 - accuracy: 0.8071\n",
            "Epoch 182/500\n",
            "44/44 [==============================] - 0s 3ms/step - loss: 0.4453 - accuracy: 0.8049\n",
            "Epoch 183/500\n",
            "44/44 [==============================] - 0s 3ms/step - loss: 0.4452 - accuracy: 0.8071\n",
            "Epoch 184/500\n",
            "44/44 [==============================] - 0s 3ms/step - loss: 0.4390 - accuracy: 0.8110\n",
            "Epoch 185/500\n",
            "44/44 [==============================] - 0s 3ms/step - loss: 0.4402 - accuracy: 0.8085\n",
            "Epoch 186/500\n",
            "44/44 [==============================] - 0s 3ms/step - loss: 0.4425 - accuracy: 0.8071\n",
            "Epoch 187/500\n",
            "44/44 [==============================] - 0s 3ms/step - loss: 0.4379 - accuracy: 0.8103\n",
            "Epoch 188/500\n",
            "44/44 [==============================] - 0s 3ms/step - loss: 0.4344 - accuracy: 0.8157\n",
            "Epoch 189/500\n",
            "44/44 [==============================] - 0s 3ms/step - loss: 0.4415 - accuracy: 0.8053\n",
            "Epoch 190/500\n",
            "44/44 [==============================] - 0s 3ms/step - loss: 0.4414 - accuracy: 0.8085\n",
            "Epoch 191/500\n",
            "44/44 [==============================] - 0s 3ms/step - loss: 0.4431 - accuracy: 0.8057\n",
            "Epoch 192/500\n",
            "44/44 [==============================] - 0s 3ms/step - loss: 0.4418 - accuracy: 0.8085\n",
            "Epoch 193/500\n",
            "44/44 [==============================] - 0s 3ms/step - loss: 0.4408 - accuracy: 0.8085\n",
            "Epoch 194/500\n",
            "44/44 [==============================] - 0s 3ms/step - loss: 0.4393 - accuracy: 0.8093\n",
            "Epoch 195/500\n",
            "44/44 [==============================] - 0s 3ms/step - loss: 0.4406 - accuracy: 0.8085\n",
            "Epoch 196/500\n",
            "44/44 [==============================] - 0s 3ms/step - loss: 0.4443 - accuracy: 0.8143\n",
            "Epoch 197/500\n",
            "44/44 [==============================] - 0s 3ms/step - loss: 0.4380 - accuracy: 0.8082\n",
            "Epoch 198/500\n",
            "44/44 [==============================] - 0s 3ms/step - loss: 0.4400 - accuracy: 0.8082\n",
            "Epoch 199/500\n",
            "44/44 [==============================] - 0s 3ms/step - loss: 0.4367 - accuracy: 0.8103\n",
            "Epoch 200/500\n",
            "44/44 [==============================] - 0s 3ms/step - loss: 0.4382 - accuracy: 0.8064\n",
            "Epoch 201/500\n",
            "44/44 [==============================] - 0s 3ms/step - loss: 0.4383 - accuracy: 0.8107\n",
            "Epoch 202/500\n",
            "44/44 [==============================] - 0s 3ms/step - loss: 0.4408 - accuracy: 0.8136\n",
            "Epoch 203/500\n",
            "44/44 [==============================] - 0s 3ms/step - loss: 0.4417 - accuracy: 0.8085\n",
            "Epoch 204/500\n",
            "44/44 [==============================] - 0s 3ms/step - loss: 0.4431 - accuracy: 0.8093\n",
            "Epoch 205/500\n",
            "44/44 [==============================] - 0s 3ms/step - loss: 0.4384 - accuracy: 0.8060\n",
            "Epoch 206/500\n",
            "44/44 [==============================] - 0s 3ms/step - loss: 0.4382 - accuracy: 0.8118\n",
            "Epoch 207/500\n",
            "44/44 [==============================] - 0s 3ms/step - loss: 0.4364 - accuracy: 0.8179\n",
            "Epoch 208/500\n",
            "44/44 [==============================] - 0s 3ms/step - loss: 0.4380 - accuracy: 0.8093\n",
            "Epoch 209/500\n",
            "44/44 [==============================] - 0s 3ms/step - loss: 0.4408 - accuracy: 0.8121\n",
            "Epoch 210/500\n",
            "44/44 [==============================] - 0s 3ms/step - loss: 0.4385 - accuracy: 0.8035\n",
            "Epoch 211/500\n",
            "44/44 [==============================] - 0s 3ms/step - loss: 0.4370 - accuracy: 0.8128\n",
            "Epoch 212/500\n",
            "44/44 [==============================] - 0s 3ms/step - loss: 0.4400 - accuracy: 0.8132\n",
            "Epoch 213/500\n",
            "44/44 [==============================] - 0s 3ms/step - loss: 0.4365 - accuracy: 0.8085\n",
            "Epoch 214/500\n",
            "44/44 [==============================] - 0s 3ms/step - loss: 0.4370 - accuracy: 0.8089\n",
            "Epoch 215/500\n",
            "44/44 [==============================] - 0s 3ms/step - loss: 0.4386 - accuracy: 0.8118\n",
            "Epoch 216/500\n",
            "44/44 [==============================] - 0s 3ms/step - loss: 0.4363 - accuracy: 0.8107\n",
            "Epoch 217/500\n",
            "44/44 [==============================] - 0s 3ms/step - loss: 0.4431 - accuracy: 0.8082\n",
            "Epoch 218/500\n",
            "44/44 [==============================] - 0s 3ms/step - loss: 0.4439 - accuracy: 0.8110\n",
            "Epoch 219/500\n",
            "44/44 [==============================] - 0s 3ms/step - loss: 0.4382 - accuracy: 0.8085\n",
            "Epoch 220/500\n",
            "44/44 [==============================] - 0s 3ms/step - loss: 0.4369 - accuracy: 0.8114\n",
            "Epoch 221/500\n",
            "44/44 [==============================] - 0s 3ms/step - loss: 0.4440 - accuracy: 0.8128\n",
            "Epoch 222/500\n",
            "44/44 [==============================] - 0s 3ms/step - loss: 0.4342 - accuracy: 0.8168\n",
            "Epoch 223/500\n",
            "44/44 [==============================] - 0s 3ms/step - loss: 0.4352 - accuracy: 0.8114\n",
            "Epoch 224/500\n",
            "44/44 [==============================] - 0s 3ms/step - loss: 0.4374 - accuracy: 0.8157\n",
            "Epoch 225/500\n",
            "44/44 [==============================] - 0s 4ms/step - loss: 0.4379 - accuracy: 0.8078\n",
            "Epoch 226/500\n",
            "44/44 [==============================] - 0s 3ms/step - loss: 0.4416 - accuracy: 0.8118\n",
            "Epoch 227/500\n",
            "44/44 [==============================] - 0s 3ms/step - loss: 0.4375 - accuracy: 0.8153\n",
            "Epoch 228/500\n",
            "44/44 [==============================] - 0s 3ms/step - loss: 0.4434 - accuracy: 0.8093\n",
            "Epoch 229/500\n",
            "44/44 [==============================] - 0s 3ms/step - loss: 0.4382 - accuracy: 0.8110\n",
            "Epoch 230/500\n",
            "44/44 [==============================] - 0s 3ms/step - loss: 0.4409 - accuracy: 0.8107\n",
            "Epoch 231/500\n",
            "44/44 [==============================] - 0s 3ms/step - loss: 0.4384 - accuracy: 0.8089\n",
            "Epoch 232/500\n",
            "44/44 [==============================] - 0s 3ms/step - loss: 0.4338 - accuracy: 0.8128\n",
            "Epoch 233/500\n",
            "44/44 [==============================] - 0s 3ms/step - loss: 0.4402 - accuracy: 0.8118\n",
            "Epoch 234/500\n",
            "44/44 [==============================] - 0s 3ms/step - loss: 0.4389 - accuracy: 0.8107\n",
            "Epoch 235/500\n",
            "44/44 [==============================] - 0s 3ms/step - loss: 0.4384 - accuracy: 0.8100\n",
            "Epoch 236/500\n",
            "44/44 [==============================] - 0s 3ms/step - loss: 0.4355 - accuracy: 0.8179\n",
            "Epoch 237/500\n",
            "44/44 [==============================] - 0s 3ms/step - loss: 0.4368 - accuracy: 0.8136\n",
            "Epoch 238/500\n",
            "44/44 [==============================] - 0s 3ms/step - loss: 0.4366 - accuracy: 0.8093\n",
            "Epoch 239/500\n",
            "44/44 [==============================] - 0s 3ms/step - loss: 0.4332 - accuracy: 0.8121\n",
            "Epoch 240/500\n",
            "44/44 [==============================] - 0s 3ms/step - loss: 0.4358 - accuracy: 0.8085\n",
            "Epoch 241/500\n",
            "44/44 [==============================] - 0s 6ms/step - loss: 0.4394 - accuracy: 0.8136\n",
            "Epoch 242/500\n",
            "44/44 [==============================] - 0s 3ms/step - loss: 0.4364 - accuracy: 0.8139\n",
            "Epoch 243/500\n",
            "44/44 [==============================] - 0s 3ms/step - loss: 0.4354 - accuracy: 0.8110\n",
            "Epoch 244/500\n",
            "44/44 [==============================] - 0s 3ms/step - loss: 0.4364 - accuracy: 0.8132\n",
            "Epoch 245/500\n",
            "44/44 [==============================] - 0s 3ms/step - loss: 0.4368 - accuracy: 0.8071\n",
            "Epoch 246/500\n",
            "44/44 [==============================] - 0s 3ms/step - loss: 0.4379 - accuracy: 0.8075\n",
            "Epoch 247/500\n",
            "44/44 [==============================] - 0s 3ms/step - loss: 0.4346 - accuracy: 0.8089\n",
            "Epoch 248/500\n",
            "44/44 [==============================] - 0s 3ms/step - loss: 0.4395 - accuracy: 0.8110\n",
            "Epoch 249/500\n",
            "44/44 [==============================] - 0s 3ms/step - loss: 0.4381 - accuracy: 0.8078\n",
            "Epoch 250/500\n",
            "44/44 [==============================] - 0s 3ms/step - loss: 0.4357 - accuracy: 0.8132\n",
            "Epoch 251/500\n",
            "44/44 [==============================] - 0s 3ms/step - loss: 0.4358 - accuracy: 0.8089\n",
            "Epoch 252/500\n",
            "44/44 [==============================] - 0s 4ms/step - loss: 0.4384 - accuracy: 0.8107\n",
            "Epoch 253/500\n",
            "44/44 [==============================] - 0s 3ms/step - loss: 0.4321 - accuracy: 0.8143\n",
            "Epoch 254/500\n",
            "44/44 [==============================] - 0s 3ms/step - loss: 0.4334 - accuracy: 0.8168\n",
            "Epoch 255/500\n",
            "44/44 [==============================] - 0s 3ms/step - loss: 0.4399 - accuracy: 0.8082\n",
            "Epoch 256/500\n",
            "44/44 [==============================] - 0s 3ms/step - loss: 0.4339 - accuracy: 0.8143\n",
            "Epoch 257/500\n",
            "44/44 [==============================] - 0s 3ms/step - loss: 0.4377 - accuracy: 0.8085\n",
            "Epoch 258/500\n",
            "44/44 [==============================] - 0s 3ms/step - loss: 0.4334 - accuracy: 0.8078\n",
            "Epoch 259/500\n",
            "44/44 [==============================] - 0s 3ms/step - loss: 0.4353 - accuracy: 0.8132\n",
            "Epoch 260/500\n",
            "44/44 [==============================] - 0s 3ms/step - loss: 0.4351 - accuracy: 0.8100\n",
            "Epoch 261/500\n",
            "44/44 [==============================] - 0s 3ms/step - loss: 0.4355 - accuracy: 0.8107\n",
            "Epoch 262/500\n",
            "44/44 [==============================] - 0s 3ms/step - loss: 0.4355 - accuracy: 0.8089\n",
            "Epoch 263/500\n",
            "44/44 [==============================] - 0s 3ms/step - loss: 0.4374 - accuracy: 0.8103\n",
            "Epoch 264/500\n",
            "44/44 [==============================] - 0s 3ms/step - loss: 0.4356 - accuracy: 0.8114\n",
            "Epoch 265/500\n",
            "44/44 [==============================] - 0s 3ms/step - loss: 0.4298 - accuracy: 0.8118\n",
            "Epoch 266/500\n",
            "44/44 [==============================] - 0s 3ms/step - loss: 0.4356 - accuracy: 0.8168\n",
            "Epoch 267/500\n",
            "44/44 [==============================] - 0s 4ms/step - loss: 0.4350 - accuracy: 0.8100\n",
            "Epoch 268/500\n",
            "44/44 [==============================] - 0s 3ms/step - loss: 0.4312 - accuracy: 0.8132\n",
            "Epoch 269/500\n",
            "44/44 [==============================] - 0s 3ms/step - loss: 0.4399 - accuracy: 0.8093\n",
            "Epoch 270/500\n",
            "44/44 [==============================] - 0s 3ms/step - loss: 0.4376 - accuracy: 0.8118\n",
            "Epoch 271/500\n",
            "44/44 [==============================] - 0s 3ms/step - loss: 0.4324 - accuracy: 0.8157\n",
            "Epoch 272/500\n",
            "44/44 [==============================] - 0s 3ms/step - loss: 0.4365 - accuracy: 0.8110\n",
            "Epoch 273/500\n",
            "44/44 [==============================] - 0s 3ms/step - loss: 0.4354 - accuracy: 0.8118\n",
            "Epoch 274/500\n",
            "44/44 [==============================] - 0s 3ms/step - loss: 0.4349 - accuracy: 0.8093\n",
            "Epoch 275/500\n",
            "44/44 [==============================] - 0s 3ms/step - loss: 0.4398 - accuracy: 0.8107\n",
            "Epoch 276/500\n",
            "44/44 [==============================] - 0s 3ms/step - loss: 0.4424 - accuracy: 0.8089\n",
            "Epoch 277/500\n",
            "44/44 [==============================] - 0s 3ms/step - loss: 0.4352 - accuracy: 0.8186\n",
            "Epoch 278/500\n",
            "44/44 [==============================] - 0s 3ms/step - loss: 0.4350 - accuracy: 0.8132\n",
            "Epoch 279/500\n",
            "44/44 [==============================] - 0s 3ms/step - loss: 0.4391 - accuracy: 0.8085\n",
            "Epoch 280/500\n",
            "44/44 [==============================] - 0s 3ms/step - loss: 0.4314 - accuracy: 0.8139\n",
            "Epoch 281/500\n",
            "44/44 [==============================] - 0s 3ms/step - loss: 0.4354 - accuracy: 0.8114\n",
            "Epoch 282/500\n",
            "44/44 [==============================] - 0s 3ms/step - loss: 0.4319 - accuracy: 0.8136\n",
            "Epoch 283/500\n",
            "44/44 [==============================] - 0s 3ms/step - loss: 0.4366 - accuracy: 0.8114\n",
            "Epoch 284/500\n",
            "44/44 [==============================] - 0s 3ms/step - loss: 0.4363 - accuracy: 0.8118\n",
            "Epoch 285/500\n",
            "44/44 [==============================] - 0s 3ms/step - loss: 0.4317 - accuracy: 0.8128\n",
            "Epoch 286/500\n",
            "44/44 [==============================] - 0s 3ms/step - loss: 0.4352 - accuracy: 0.8161\n",
            "Epoch 287/500\n",
            "44/44 [==============================] - 0s 3ms/step - loss: 0.4350 - accuracy: 0.8136\n",
            "Epoch 288/500\n",
            "44/44 [==============================] - 0s 3ms/step - loss: 0.4304 - accuracy: 0.8175\n",
            "Epoch 289/500\n",
            "44/44 [==============================] - 0s 3ms/step - loss: 0.4344 - accuracy: 0.8075\n",
            "Epoch 290/500\n",
            "44/44 [==============================] - 0s 3ms/step - loss: 0.4344 - accuracy: 0.8186\n",
            "Epoch 291/500\n",
            "44/44 [==============================] - 0s 3ms/step - loss: 0.4403 - accuracy: 0.8078\n",
            "Epoch 292/500\n",
            "44/44 [==============================] - 0s 3ms/step - loss: 0.4363 - accuracy: 0.8132\n",
            "Epoch 293/500\n",
            "44/44 [==============================] - 0s 3ms/step - loss: 0.4310 - accuracy: 0.8125\n",
            "Epoch 294/500\n",
            "44/44 [==============================] - 0s 3ms/step - loss: 0.4331 - accuracy: 0.8153\n",
            "Epoch 295/500\n",
            "44/44 [==============================] - 0s 3ms/step - loss: 0.4317 - accuracy: 0.8150\n",
            "Epoch 296/500\n",
            "44/44 [==============================] - 0s 3ms/step - loss: 0.4397 - accuracy: 0.8096\n",
            "Epoch 297/500\n",
            "44/44 [==============================] - 0s 3ms/step - loss: 0.4355 - accuracy: 0.8085\n",
            "Epoch 298/500\n",
            "44/44 [==============================] - 0s 3ms/step - loss: 0.4337 - accuracy: 0.8136\n",
            "Epoch 299/500\n",
            "44/44 [==============================] - 0s 3ms/step - loss: 0.4381 - accuracy: 0.8107\n",
            "Epoch 300/500\n",
            "44/44 [==============================] - 0s 3ms/step - loss: 0.4359 - accuracy: 0.8125\n",
            "Epoch 301/500\n",
            "44/44 [==============================] - 0s 3ms/step - loss: 0.4344 - accuracy: 0.8153\n",
            "Epoch 302/500\n",
            "44/44 [==============================] - 0s 3ms/step - loss: 0.4311 - accuracy: 0.8085\n",
            "Epoch 303/500\n",
            "44/44 [==============================] - 0s 3ms/step - loss: 0.4364 - accuracy: 0.8114\n",
            "Epoch 304/500\n",
            "44/44 [==============================] - 0s 3ms/step - loss: 0.4334 - accuracy: 0.8153\n",
            "Epoch 305/500\n",
            "44/44 [==============================] - 0s 3ms/step - loss: 0.4396 - accuracy: 0.8107\n",
            "Epoch 306/500\n",
            "44/44 [==============================] - 0s 3ms/step - loss: 0.4357 - accuracy: 0.8139\n",
            "Epoch 307/500\n",
            "44/44 [==============================] - 0s 3ms/step - loss: 0.4361 - accuracy: 0.8082\n",
            "Epoch 308/500\n",
            "44/44 [==============================] - 0s 3ms/step - loss: 0.4338 - accuracy: 0.8179\n",
            "Epoch 309/500\n",
            "44/44 [==============================] - 0s 3ms/step - loss: 0.4292 - accuracy: 0.8168\n",
            "Epoch 310/500\n",
            "44/44 [==============================] - 0s 3ms/step - loss: 0.4308 - accuracy: 0.8161\n",
            "Epoch 311/500\n",
            "44/44 [==============================] - 0s 3ms/step - loss: 0.4321 - accuracy: 0.8121\n",
            "Epoch 312/500\n",
            "44/44 [==============================] - 0s 3ms/step - loss: 0.4328 - accuracy: 0.8157\n",
            "Epoch 313/500\n",
            "44/44 [==============================] - 0s 3ms/step - loss: 0.4313 - accuracy: 0.8182\n",
            "Epoch 314/500\n",
            "44/44 [==============================] - 0s 4ms/step - loss: 0.4321 - accuracy: 0.8161\n",
            "Epoch 315/500\n",
            "44/44 [==============================] - 0s 3ms/step - loss: 0.4323 - accuracy: 0.8139\n",
            "Epoch 316/500\n",
            "44/44 [==============================] - 0s 3ms/step - loss: 0.4336 - accuracy: 0.8107\n",
            "Epoch 317/500\n",
            "44/44 [==============================] - 0s 3ms/step - loss: 0.4318 - accuracy: 0.8082\n",
            "Epoch 318/500\n",
            "44/44 [==============================] - 0s 3ms/step - loss: 0.4354 - accuracy: 0.8089\n",
            "Epoch 319/500\n",
            "44/44 [==============================] - 0s 3ms/step - loss: 0.4353 - accuracy: 0.8121\n",
            "Epoch 320/500\n",
            "44/44 [==============================] - 0s 3ms/step - loss: 0.4299 - accuracy: 0.8153\n",
            "Epoch 321/500\n",
            "44/44 [==============================] - 0s 3ms/step - loss: 0.4345 - accuracy: 0.8125\n",
            "Epoch 322/500\n",
            "44/44 [==============================] - 0s 3ms/step - loss: 0.4368 - accuracy: 0.8089\n",
            "Epoch 323/500\n",
            "44/44 [==============================] - 0s 3ms/step - loss: 0.4325 - accuracy: 0.8125\n",
            "Epoch 324/500\n",
            "44/44 [==============================] - 0s 3ms/step - loss: 0.4327 - accuracy: 0.8128\n",
            "Epoch 325/500\n",
            "44/44 [==============================] - 0s 3ms/step - loss: 0.4361 - accuracy: 0.8164\n",
            "Epoch 326/500\n",
            "44/44 [==============================] - 0s 3ms/step - loss: 0.4357 - accuracy: 0.8139\n",
            "Epoch 327/500\n",
            "44/44 [==============================] - 0s 3ms/step - loss: 0.4354 - accuracy: 0.8093\n",
            "Epoch 328/500\n",
            "44/44 [==============================] - 0s 3ms/step - loss: 0.4396 - accuracy: 0.8089\n",
            "Epoch 329/500\n",
            "44/44 [==============================] - 0s 3ms/step - loss: 0.4352 - accuracy: 0.8103\n",
            "Epoch 330/500\n",
            "44/44 [==============================] - 0s 3ms/step - loss: 0.4320 - accuracy: 0.8143\n",
            "Epoch 331/500\n",
            "44/44 [==============================] - 0s 3ms/step - loss: 0.4337 - accuracy: 0.8089\n",
            "Epoch 332/500\n",
            "44/44 [==============================] - 0s 3ms/step - loss: 0.4335 - accuracy: 0.8125\n",
            "Epoch 333/500\n",
            "44/44 [==============================] - 0s 3ms/step - loss: 0.4364 - accuracy: 0.8118\n",
            "Epoch 334/500\n",
            "44/44 [==============================] - 0s 4ms/step - loss: 0.4345 - accuracy: 0.8132\n",
            "Epoch 335/500\n",
            "44/44 [==============================] - 0s 3ms/step - loss: 0.4347 - accuracy: 0.8093\n",
            "Epoch 336/500\n",
            "44/44 [==============================] - 0s 3ms/step - loss: 0.4309 - accuracy: 0.8218\n",
            "Epoch 337/500\n",
            "44/44 [==============================] - 0s 4ms/step - loss: 0.4357 - accuracy: 0.8171\n",
            "Epoch 338/500\n",
            "44/44 [==============================] - 0s 3ms/step - loss: 0.4329 - accuracy: 0.8085\n",
            "Epoch 339/500\n",
            "44/44 [==============================] - 0s 3ms/step - loss: 0.4318 - accuracy: 0.8132\n",
            "Epoch 340/500\n",
            "44/44 [==============================] - 0s 4ms/step - loss: 0.4345 - accuracy: 0.8121\n",
            "Epoch 341/500\n",
            "44/44 [==============================] - 0s 3ms/step - loss: 0.4356 - accuracy: 0.8114\n",
            "Epoch 342/500\n",
            "44/44 [==============================] - 0s 3ms/step - loss: 0.4346 - accuracy: 0.8157\n",
            "Epoch 343/500\n",
            "44/44 [==============================] - 0s 3ms/step - loss: 0.4320 - accuracy: 0.8196\n",
            "Epoch 344/500\n",
            "44/44 [==============================] - 0s 3ms/step - loss: 0.4347 - accuracy: 0.8093\n",
            "Epoch 345/500\n",
            "44/44 [==============================] - 0s 3ms/step - loss: 0.4332 - accuracy: 0.8146\n",
            "Epoch 346/500\n",
            "44/44 [==============================] - 0s 3ms/step - loss: 0.4333 - accuracy: 0.8139\n",
            "Epoch 347/500\n",
            "44/44 [==============================] - 0s 3ms/step - loss: 0.4317 - accuracy: 0.8143\n",
            "Epoch 348/500\n",
            "44/44 [==============================] - 0s 3ms/step - loss: 0.4326 - accuracy: 0.8121\n",
            "Epoch 349/500\n",
            "44/44 [==============================] - 0s 3ms/step - loss: 0.4361 - accuracy: 0.8067\n",
            "Epoch 350/500\n",
            "44/44 [==============================] - 0s 3ms/step - loss: 0.4351 - accuracy: 0.8164\n",
            "Epoch 351/500\n",
            "44/44 [==============================] - 0s 3ms/step - loss: 0.4374 - accuracy: 0.8110\n",
            "Epoch 352/500\n",
            "44/44 [==============================] - 0s 3ms/step - loss: 0.4334 - accuracy: 0.8153\n",
            "Epoch 353/500\n",
            "44/44 [==============================] - 0s 3ms/step - loss: 0.4336 - accuracy: 0.8143\n",
            "Epoch 354/500\n",
            "44/44 [==============================] - 0s 3ms/step - loss: 0.4334 - accuracy: 0.8107\n",
            "Epoch 355/500\n",
            "44/44 [==============================] - 0s 3ms/step - loss: 0.4361 - accuracy: 0.8110\n",
            "Epoch 356/500\n",
            "44/44 [==============================] - 0s 3ms/step - loss: 0.4352 - accuracy: 0.8082\n",
            "Epoch 357/500\n",
            "44/44 [==============================] - 0s 3ms/step - loss: 0.4279 - accuracy: 0.8146\n",
            "Epoch 358/500\n",
            "44/44 [==============================] - 0s 3ms/step - loss: 0.4329 - accuracy: 0.8136\n",
            "Epoch 359/500\n",
            "44/44 [==============================] - 0s 3ms/step - loss: 0.4352 - accuracy: 0.8107\n",
            "Epoch 360/500\n",
            "44/44 [==============================] - 0s 3ms/step - loss: 0.4336 - accuracy: 0.8179\n",
            "Epoch 361/500\n",
            "44/44 [==============================] - 0s 3ms/step - loss: 0.4336 - accuracy: 0.8128\n",
            "Epoch 362/500\n",
            "44/44 [==============================] - 0s 3ms/step - loss: 0.4322 - accuracy: 0.8153\n",
            "Epoch 363/500\n",
            "44/44 [==============================] - 0s 3ms/step - loss: 0.4335 - accuracy: 0.8175\n",
            "Epoch 364/500\n",
            "44/44 [==============================] - 0s 3ms/step - loss: 0.4323 - accuracy: 0.8125\n",
            "Epoch 365/500\n",
            "44/44 [==============================] - 0s 3ms/step - loss: 0.4341 - accuracy: 0.8093\n",
            "Epoch 366/500\n",
            "44/44 [==============================] - 0s 3ms/step - loss: 0.4306 - accuracy: 0.8110\n",
            "Epoch 367/500\n",
            "44/44 [==============================] - 0s 3ms/step - loss: 0.4338 - accuracy: 0.8150\n",
            "Epoch 368/500\n",
            "44/44 [==============================] - 0s 3ms/step - loss: 0.4334 - accuracy: 0.8139\n",
            "Epoch 369/500\n",
            "44/44 [==============================] - 0s 3ms/step - loss: 0.4291 - accuracy: 0.8214\n",
            "Epoch 370/500\n",
            "44/44 [==============================] - 0s 3ms/step - loss: 0.4313 - accuracy: 0.8100\n",
            "Epoch 371/500\n",
            "44/44 [==============================] - 0s 3ms/step - loss: 0.4361 - accuracy: 0.8118\n",
            "Epoch 372/500\n",
            "44/44 [==============================] - 0s 3ms/step - loss: 0.4329 - accuracy: 0.8107\n",
            "Epoch 373/500\n",
            "44/44 [==============================] - 0s 3ms/step - loss: 0.4303 - accuracy: 0.8157\n",
            "Epoch 374/500\n",
            "44/44 [==============================] - 0s 3ms/step - loss: 0.4328 - accuracy: 0.8196\n",
            "Epoch 375/500\n",
            "44/44 [==============================] - 0s 3ms/step - loss: 0.4344 - accuracy: 0.8132\n",
            "Epoch 376/500\n",
            "44/44 [==============================] - 0s 3ms/step - loss: 0.4347 - accuracy: 0.8110\n",
            "Epoch 377/500\n",
            "44/44 [==============================] - 0s 3ms/step - loss: 0.4320 - accuracy: 0.8164\n",
            "Epoch 378/500\n",
            "44/44 [==============================] - 0s 3ms/step - loss: 0.4283 - accuracy: 0.8150\n",
            "Epoch 379/500\n",
            "44/44 [==============================] - 0s 3ms/step - loss: 0.4342 - accuracy: 0.8164\n",
            "Epoch 380/500\n",
            "44/44 [==============================] - 0s 4ms/step - loss: 0.4319 - accuracy: 0.8157\n",
            "Epoch 381/500\n",
            "44/44 [==============================] - 0s 3ms/step - loss: 0.4310 - accuracy: 0.8157\n",
            "Epoch 382/500\n",
            "44/44 [==============================] - 0s 3ms/step - loss: 0.4324 - accuracy: 0.8093\n",
            "Epoch 383/500\n",
            "44/44 [==============================] - 0s 3ms/step - loss: 0.4327 - accuracy: 0.8143\n",
            "Epoch 384/500\n",
            "44/44 [==============================] - 0s 3ms/step - loss: 0.4277 - accuracy: 0.8168\n",
            "Epoch 385/500\n",
            "44/44 [==============================] - 0s 3ms/step - loss: 0.4299 - accuracy: 0.8161\n",
            "Epoch 386/500\n",
            "44/44 [==============================] - 0s 4ms/step - loss: 0.4285 - accuracy: 0.8189\n",
            "Epoch 387/500\n",
            "44/44 [==============================] - 0s 3ms/step - loss: 0.4287 - accuracy: 0.8200\n",
            "Epoch 388/500\n",
            "44/44 [==============================] - 0s 3ms/step - loss: 0.4330 - accuracy: 0.8132\n",
            "Epoch 389/500\n",
            "44/44 [==============================] - 0s 3ms/step - loss: 0.4314 - accuracy: 0.8186\n",
            "Epoch 390/500\n",
            "44/44 [==============================] - 0s 3ms/step - loss: 0.4289 - accuracy: 0.8146\n",
            "Epoch 391/500\n",
            "44/44 [==============================] - 0s 4ms/step - loss: 0.4339 - accuracy: 0.8107\n",
            "Epoch 392/500\n",
            "44/44 [==============================] - 0s 3ms/step - loss: 0.4274 - accuracy: 0.8161\n",
            "Epoch 393/500\n",
            "44/44 [==============================] - 0s 3ms/step - loss: 0.4334 - accuracy: 0.8085\n",
            "Epoch 394/500\n",
            "44/44 [==============================] - 0s 3ms/step - loss: 0.4313 - accuracy: 0.8189\n",
            "Epoch 395/500\n",
            "44/44 [==============================] - 0s 3ms/step - loss: 0.4308 - accuracy: 0.8146\n",
            "Epoch 396/500\n",
            "44/44 [==============================] - 0s 3ms/step - loss: 0.4344 - accuracy: 0.8153\n",
            "Epoch 397/500\n",
            "44/44 [==============================] - 0s 3ms/step - loss: 0.4338 - accuracy: 0.8121\n",
            "Epoch 398/500\n",
            "44/44 [==============================] - 0s 3ms/step - loss: 0.4353 - accuracy: 0.8128\n",
            "Epoch 399/500\n",
            "44/44 [==============================] - 0s 3ms/step - loss: 0.4332 - accuracy: 0.8114\n",
            "Epoch 400/500\n",
            "44/44 [==============================] - 0s 3ms/step - loss: 0.4317 - accuracy: 0.8139\n",
            "Epoch 401/500\n",
            "44/44 [==============================] - 0s 3ms/step - loss: 0.4320 - accuracy: 0.8100\n",
            "Epoch 402/500\n",
            "44/44 [==============================] - 0s 3ms/step - loss: 0.4353 - accuracy: 0.8060\n",
            "Epoch 403/500\n",
            "44/44 [==============================] - 0s 3ms/step - loss: 0.4301 - accuracy: 0.8107\n",
            "Epoch 404/500\n",
            "44/44 [==============================] - 0s 3ms/step - loss: 0.4336 - accuracy: 0.8075\n",
            "Epoch 405/500\n",
            "44/44 [==============================] - 0s 3ms/step - loss: 0.4270 - accuracy: 0.8125\n",
            "Epoch 406/500\n",
            "44/44 [==============================] - 0s 3ms/step - loss: 0.4332 - accuracy: 0.8139\n",
            "Epoch 407/500\n",
            "44/44 [==============================] - 0s 3ms/step - loss: 0.4331 - accuracy: 0.8168\n",
            "Epoch 408/500\n",
            "44/44 [==============================] - 0s 3ms/step - loss: 0.4368 - accuracy: 0.8118\n",
            "Epoch 409/500\n",
            "44/44 [==============================] - 0s 3ms/step - loss: 0.4334 - accuracy: 0.8118\n",
            "Epoch 410/500\n",
            "44/44 [==============================] - 0s 3ms/step - loss: 0.4286 - accuracy: 0.8204\n",
            "Epoch 411/500\n",
            "44/44 [==============================] - 0s 4ms/step - loss: 0.4309 - accuracy: 0.8139\n",
            "Epoch 412/500\n",
            "44/44 [==============================] - 0s 4ms/step - loss: 0.4316 - accuracy: 0.8175\n",
            "Epoch 413/500\n",
            "44/44 [==============================] - 0s 3ms/step - loss: 0.4354 - accuracy: 0.8103\n",
            "Epoch 414/500\n",
            "44/44 [==============================] - 0s 3ms/step - loss: 0.4332 - accuracy: 0.8179\n",
            "Epoch 415/500\n",
            "44/44 [==============================] - 0s 3ms/step - loss: 0.4361 - accuracy: 0.8136\n",
            "Epoch 416/500\n",
            "44/44 [==============================] - 0s 3ms/step - loss: 0.4339 - accuracy: 0.8161\n",
            "Epoch 417/500\n",
            "44/44 [==============================] - 0s 3ms/step - loss: 0.4312 - accuracy: 0.8157\n",
            "Epoch 418/500\n",
            "44/44 [==============================] - 0s 3ms/step - loss: 0.4314 - accuracy: 0.8189\n",
            "Epoch 419/500\n",
            "44/44 [==============================] - 0s 3ms/step - loss: 0.4311 - accuracy: 0.8125\n",
            "Epoch 420/500\n",
            "44/44 [==============================] - 0s 3ms/step - loss: 0.4301 - accuracy: 0.8118\n",
            "Epoch 421/500\n",
            "44/44 [==============================] - 0s 3ms/step - loss: 0.4297 - accuracy: 0.8143\n",
            "Epoch 422/500\n",
            "44/44 [==============================] - 0s 3ms/step - loss: 0.4338 - accuracy: 0.8057\n",
            "Epoch 423/500\n",
            "44/44 [==============================] - 0s 3ms/step - loss: 0.4313 - accuracy: 0.8150\n",
            "Epoch 424/500\n",
            "44/44 [==============================] - 0s 3ms/step - loss: 0.4313 - accuracy: 0.8093\n",
            "Epoch 425/500\n",
            "44/44 [==============================] - 0s 4ms/step - loss: 0.4305 - accuracy: 0.8121\n",
            "Epoch 426/500\n",
            "44/44 [==============================] - 0s 3ms/step - loss: 0.4338 - accuracy: 0.8136\n",
            "Epoch 427/500\n",
            "44/44 [==============================] - 0s 3ms/step - loss: 0.4335 - accuracy: 0.8085\n",
            "Epoch 428/500\n",
            "44/44 [==============================] - 0s 3ms/step - loss: 0.4298 - accuracy: 0.8132\n",
            "Epoch 429/500\n",
            "44/44 [==============================] - 0s 3ms/step - loss: 0.4268 - accuracy: 0.8139\n",
            "Epoch 430/500\n",
            "44/44 [==============================] - 0s 3ms/step - loss: 0.4281 - accuracy: 0.8153\n",
            "Epoch 431/500\n",
            "44/44 [==============================] - 0s 3ms/step - loss: 0.4283 - accuracy: 0.8118\n",
            "Epoch 432/500\n",
            "44/44 [==============================] - 0s 3ms/step - loss: 0.4369 - accuracy: 0.8100\n",
            "Epoch 433/500\n",
            "44/44 [==============================] - 0s 3ms/step - loss: 0.4283 - accuracy: 0.8125\n",
            "Epoch 434/500\n",
            "44/44 [==============================] - 0s 3ms/step - loss: 0.4311 - accuracy: 0.8118\n",
            "Epoch 435/500\n",
            "44/44 [==============================] - 0s 3ms/step - loss: 0.4286 - accuracy: 0.8139\n",
            "Epoch 436/500\n",
            "44/44 [==============================] - 0s 3ms/step - loss: 0.4265 - accuracy: 0.8179\n",
            "Epoch 437/500\n",
            "44/44 [==============================] - 0s 3ms/step - loss: 0.4285 - accuracy: 0.8182\n",
            "Epoch 438/500\n",
            "44/44 [==============================] - 0s 3ms/step - loss: 0.4280 - accuracy: 0.8125\n",
            "Epoch 439/500\n",
            "44/44 [==============================] - 0s 3ms/step - loss: 0.4293 - accuracy: 0.8204\n",
            "Epoch 440/500\n",
            "44/44 [==============================] - 0s 3ms/step - loss: 0.4300 - accuracy: 0.8175\n",
            "Epoch 441/500\n",
            "44/44 [==============================] - 0s 3ms/step - loss: 0.4298 - accuracy: 0.8139\n",
            "Epoch 442/500\n",
            "44/44 [==============================] - 0s 3ms/step - loss: 0.4270 - accuracy: 0.8139\n",
            "Epoch 443/500\n",
            "44/44 [==============================] - 0s 3ms/step - loss: 0.4334 - accuracy: 0.8146\n",
            "Epoch 444/500\n",
            "44/44 [==============================] - 0s 3ms/step - loss: 0.4340 - accuracy: 0.8139\n",
            "Epoch 445/500\n",
            "44/44 [==============================] - 0s 3ms/step - loss: 0.4333 - accuracy: 0.8164\n",
            "Epoch 446/500\n",
            "44/44 [==============================] - 0s 3ms/step - loss: 0.4341 - accuracy: 0.8107\n",
            "Epoch 447/500\n",
            "44/44 [==============================] - 0s 3ms/step - loss: 0.4280 - accuracy: 0.8200\n",
            "Epoch 448/500\n",
            "44/44 [==============================] - 0s 3ms/step - loss: 0.4294 - accuracy: 0.8179\n",
            "Epoch 449/500\n",
            "44/44 [==============================] - 0s 3ms/step - loss: 0.4283 - accuracy: 0.8125\n",
            "Epoch 450/500\n",
            "44/44 [==============================] - 0s 3ms/step - loss: 0.4324 - accuracy: 0.8118\n",
            "Epoch 451/500\n",
            "44/44 [==============================] - 0s 3ms/step - loss: 0.4279 - accuracy: 0.8171\n",
            "Epoch 452/500\n",
            "44/44 [==============================] - 0s 3ms/step - loss: 0.4326 - accuracy: 0.8103\n",
            "Epoch 453/500\n",
            "44/44 [==============================] - 0s 3ms/step - loss: 0.4308 - accuracy: 0.8175\n",
            "Epoch 454/500\n",
            "44/44 [==============================] - 0s 3ms/step - loss: 0.4277 - accuracy: 0.8193\n",
            "Epoch 455/500\n",
            "44/44 [==============================] - 0s 3ms/step - loss: 0.4322 - accuracy: 0.8157\n",
            "Epoch 456/500\n",
            "44/44 [==============================] - 0s 3ms/step - loss: 0.4278 - accuracy: 0.8153\n",
            "Epoch 457/500\n",
            "44/44 [==============================] - 0s 3ms/step - loss: 0.4297 - accuracy: 0.8118\n",
            "Epoch 458/500\n",
            "44/44 [==============================] - 0s 3ms/step - loss: 0.4298 - accuracy: 0.8143\n",
            "Epoch 459/500\n",
            "44/44 [==============================] - 0s 3ms/step - loss: 0.4345 - accuracy: 0.8093\n",
            "Epoch 460/500\n",
            "44/44 [==============================] - 0s 3ms/step - loss: 0.4300 - accuracy: 0.8139\n",
            "Epoch 461/500\n",
            "44/44 [==============================] - 0s 3ms/step - loss: 0.4293 - accuracy: 0.8139\n",
            "Epoch 462/500\n",
            "44/44 [==============================] - 0s 3ms/step - loss: 0.4251 - accuracy: 0.8214\n",
            "Epoch 463/500\n",
            "44/44 [==============================] - 0s 3ms/step - loss: 0.4329 - accuracy: 0.8107\n",
            "Epoch 464/500\n",
            "44/44 [==============================] - 0s 4ms/step - loss: 0.4336 - accuracy: 0.8107\n",
            "Epoch 465/500\n",
            "44/44 [==============================] - 0s 3ms/step - loss: 0.4343 - accuracy: 0.8107\n",
            "Epoch 466/500\n",
            "44/44 [==============================] - 0s 3ms/step - loss: 0.4269 - accuracy: 0.8164\n",
            "Epoch 467/500\n",
            "44/44 [==============================] - 0s 3ms/step - loss: 0.4328 - accuracy: 0.8110\n",
            "Epoch 468/500\n",
            "44/44 [==============================] - 0s 3ms/step - loss: 0.4288 - accuracy: 0.8171\n",
            "Epoch 469/500\n",
            "44/44 [==============================] - 0s 3ms/step - loss: 0.4285 - accuracy: 0.8204\n",
            "Epoch 470/500\n",
            "44/44 [==============================] - 0s 3ms/step - loss: 0.4313 - accuracy: 0.8136\n",
            "Epoch 471/500\n",
            "44/44 [==============================] - 0s 3ms/step - loss: 0.4272 - accuracy: 0.8171\n",
            "Epoch 472/500\n",
            "44/44 [==============================] - 0s 3ms/step - loss: 0.4317 - accuracy: 0.8114\n",
            "Epoch 473/500\n",
            "44/44 [==============================] - 0s 3ms/step - loss: 0.4300 - accuracy: 0.8139\n",
            "Epoch 474/500\n",
            "44/44 [==============================] - 0s 3ms/step - loss: 0.4284 - accuracy: 0.8200\n",
            "Epoch 475/500\n",
            "44/44 [==============================] - 0s 3ms/step - loss: 0.4358 - accuracy: 0.8118\n",
            "Epoch 476/500\n",
            "44/44 [==============================] - 0s 3ms/step - loss: 0.4308 - accuracy: 0.8139\n",
            "Epoch 477/500\n",
            "44/44 [==============================] - 0s 4ms/step - loss: 0.4303 - accuracy: 0.8128\n",
            "Epoch 478/500\n",
            "44/44 [==============================] - 0s 3ms/step - loss: 0.4255 - accuracy: 0.8164\n",
            "Epoch 479/500\n",
            "44/44 [==============================] - 0s 3ms/step - loss: 0.4286 - accuracy: 0.8136\n",
            "Epoch 480/500\n",
            "44/44 [==============================] - 0s 3ms/step - loss: 0.4332 - accuracy: 0.8157\n",
            "Epoch 481/500\n",
            "44/44 [==============================] - 0s 3ms/step - loss: 0.4333 - accuracy: 0.8128\n",
            "Epoch 482/500\n",
            "44/44 [==============================] - 0s 3ms/step - loss: 0.4276 - accuracy: 0.8125\n",
            "Epoch 483/500\n",
            "44/44 [==============================] - 0s 3ms/step - loss: 0.4329 - accuracy: 0.8128\n",
            "Epoch 484/500\n",
            "44/44 [==============================] - 0s 3ms/step - loss: 0.4276 - accuracy: 0.8189\n",
            "Epoch 485/500\n",
            "44/44 [==============================] - 0s 3ms/step - loss: 0.4299 - accuracy: 0.8225\n",
            "Epoch 486/500\n",
            "44/44 [==============================] - 0s 3ms/step - loss: 0.4281 - accuracy: 0.8171\n",
            "Epoch 487/500\n",
            "44/44 [==============================] - 0s 3ms/step - loss: 0.4321 - accuracy: 0.8121\n",
            "Epoch 488/500\n",
            "44/44 [==============================] - 0s 3ms/step - loss: 0.4285 - accuracy: 0.8157\n",
            "Epoch 489/500\n",
            "44/44 [==============================] - 0s 4ms/step - loss: 0.4318 - accuracy: 0.8132\n",
            "Epoch 490/500\n",
            "44/44 [==============================] - 0s 3ms/step - loss: 0.4277 - accuracy: 0.8114\n",
            "Epoch 491/500\n",
            "44/44 [==============================] - 0s 3ms/step - loss: 0.4316 - accuracy: 0.8136\n",
            "Epoch 492/500\n",
            "44/44 [==============================] - 0s 4ms/step - loss: 0.4317 - accuracy: 0.8146\n",
            "Epoch 493/500\n",
            "44/44 [==============================] - 0s 4ms/step - loss: 0.4293 - accuracy: 0.8121\n",
            "Epoch 494/500\n",
            "44/44 [==============================] - 0s 3ms/step - loss: 0.4265 - accuracy: 0.8204\n",
            "Epoch 495/500\n",
            "44/44 [==============================] - 0s 3ms/step - loss: 0.4292 - accuracy: 0.8182\n",
            "Epoch 496/500\n",
            "44/44 [==============================] - 0s 3ms/step - loss: 0.4263 - accuracy: 0.8153\n",
            "Epoch 497/500\n",
            "44/44 [==============================] - 0s 3ms/step - loss: 0.4309 - accuracy: 0.8118\n",
            "Epoch 498/500\n",
            "44/44 [==============================] - 0s 3ms/step - loss: 0.4308 - accuracy: 0.8103\n",
            "Epoch 499/500\n",
            "44/44 [==============================] - 0s 3ms/step - loss: 0.4298 - accuracy: 0.8125\n",
            "Epoch 500/500\n",
            "44/44 [==============================] - 0s 3ms/step - loss: 0.4302 - accuracy: 0.8125\n"
          ]
        },
        {
          "output_type": "execute_result",
          "data": {
            "text/plain": [
              "<keras.callbacks.History at 0x7f71146400d0>"
            ]
          },
          "metadata": {},
          "execution_count": 123
        }
      ]
    },
    {
      "cell_type": "markdown",
      "metadata": {
        "id": "gbolTfGnUIoS"
      },
      "source": [
        "Q10. Obtain predictions on validation set and print accuracy, precision, recall and F1 score."
      ]
    },
    {
      "cell_type": "code",
      "metadata": {
        "id": "gAq4vXhDa80L",
        "colab": {
          "base_uri": "https://localhost:8080/"
        },
        "outputId": "22942a8e-6f59-4d78-c2bc-22823ed1a5e3"
      },
      "source": [
        "### WRITE CODE HERE \n",
        "NN_yval_pred = best_kc.predict(X_val) \n",
        "\n",
        "NN_yval_pred_list = list()\n",
        "for i in range(len(NN_yval_pred)):\n",
        "    NN_yval_pred_list.append(np.argmax(NN_yval_pred[i]))\n",
        "\n",
        "print(\"Accuracy =\", accuracy_score(y_val2, NN_yval_pred_list))\n",
        "print(\"Precision =\", precision_score(y_val2, NN_yval_pred_list))\n",
        "print(\"Recall =\", recall_score(y_val2, NN_yval_pred_list))\n",
        "print(\"F1 score =\", f1_score(y_val2, NN_yval_pred_list))"
      ],
      "execution_count": null,
      "outputs": [
        {
          "output_type": "stream",
          "name": "stdout",
          "text": [
            "38/38 [==============================] - 0s 1ms/step\n",
            "Accuracy = 0.8135451505016722\n",
            "Precision = 0.6113744075829384\n",
            "Recall = 0.4777777777777778\n",
            "F1 score = 0.5363825363825363\n"
          ]
        }
      ]
    },
    {
      "cell_type": "markdown",
      "metadata": {
        "id": "09X3OxlixWRk"
      },
      "source": [
        "Do you get a better accuracy/recall/precision/F1 score than the first NN model you have built in exercise 5? Explain.\n",
        "\n",
        "Ans- We did get better accuracy, recall, precision and F1 score for the optimized NN model than the original NN model. This is expected because we used RandomizedSearchCV function to find the best combination of hyperparameters that gives the highest score. Therefore we expect to see better overall scores in the optimized model."
      ]
    },
    {
      "cell_type": "markdown",
      "metadata": {
        "id": "LAkhIzsh_guc"
      },
      "source": [
        "### Logistic Regression and Random Forest\n",
        "In a real world scenario, you can try a number of algorithms for the same problem. Let us work with the same default payment dataset to produce Logistic Regression and Random Forest models."
      ]
    },
    {
      "cell_type": "markdown",
      "metadata": {
        "id": "_U2-FpQhhtdv"
      },
      "source": [
        "Q11. Implement a function logistic_regression_model that returns a logistic regression model with the best paprameters. You will use GridSearchCV to find the best parameters. The parameters search space is up to you. If there is any ConvergenceWarning, increase the number of iterations."
      ]
    },
    {
      "cell_type": "code",
      "metadata": {
        "id": "OxvUsf7I_guc"
      },
      "source": [
        "from sklearn.linear_model import LogisticRegression\n",
        "\n",
        "def logistic_regression_model(X_train, y_train):\n",
        "    parameters = {\n",
        "      'penalty' : ['l1','l2'], \n",
        "      'C'       : [0.1, 0.5],\n",
        "      'solver'  : ['liblinear'],\n",
        "    }\n",
        "\n",
        "    lg = LogisticRegression()\n",
        "\n",
        "    grid_search = GridSearchCV(estimator = lg, param_grid = parameters, scoring = 'accuracy', cv = 10)\n",
        "    \n",
        "    # Fit the model with training data \n",
        "    grid_search.fit(X_train, y_train)\n",
        "\n",
        "    # Print the best parameters\n",
        "    print(\"Best Parameters:\", grid_search.best_params_)\n",
        "\n",
        "    # best_estimator_ attribute creates the model with best parameters\n",
        "    best_lg = grid_search.best_estimator_\n",
        "\n",
        "    return best_lg "
      ],
      "execution_count": null,
      "outputs": []
    },
    {
      "cell_type": "markdown",
      "metadata": {
        "id": "peFhmNJYksHl"
      },
      "source": [
        "Q12. Fit the model by training set, obtain predictions on validation set and compute accuracy, precision, recall and F1 score."
      ]
    },
    {
      "cell_type": "code",
      "metadata": {
        "id": "2HmLPe08_guc",
        "colab": {
          "base_uri": "https://localhost:8080/"
        },
        "outputId": "3f2dfc5e-4e20-4631-e723-d0245fefc836"
      },
      "source": [
        "# fit the model\n",
        "y_train_list = list()\n",
        "y_train_arr = y_train.values\n",
        "for i in range(len(y_train_arr)):\n",
        "    y_train_list.append(np.argmax(y_train_arr[i]))\n",
        "\n",
        "best_lg = logistic_regression_model(X_train, y_train_list)\n",
        "best_lg.fit(X_train, y_train_list)\n",
        "\n",
        "# compute accuracy,precision,recall on validation set\n",
        "LG_yval_pred = best_lg.predict(X_val)\n",
        "\n",
        "print(\"\\nAccuracy =\", accuracy_score(y_val2, LG_yval_pred))\n",
        "print(\"Precision =\", precision_score(y_val2, LG_yval_pred))\n",
        "print(\"Recall =\", recall_score(y_val2, LG_yval_pred))  \n",
        "print(\"F1 score =\", f1_score(y_val2, LG_yval_pred))"
      ],
      "execution_count": null,
      "outputs": [
        {
          "output_type": "stream",
          "name": "stdout",
          "text": [
            "Best Parameters: {'C': 0.5, 'penalty': 'l1', 'solver': 'liblinear'}\n",
            "\n",
            "Accuracy = 0.8202341137123745\n",
            "Precision = 0.6608187134502924\n",
            "Recall = 0.4185185185185185\n",
            "F1 score = 0.5124716553287981\n"
          ]
        }
      ]
    },
    {
      "cell_type": "markdown",
      "metadata": {
        "id": "sJ79uCf3mcHN"
      },
      "source": [
        "Q13. Plot the ROC curve by giving appropriate names for title and axes. "
      ]
    },
    {
      "cell_type": "code",
      "metadata": {
        "id": "1cvXDdiH_guc",
        "colab": {
          "base_uri": "https://localhost:8080/",
          "height": 312
        },
        "outputId": "2b1f73ca-f138-4cd7-d447-a2f58285a03d"
      },
      "source": [
        "### WRITE CODE HERE\n",
        "from sklearn.metrics import roc_curve, roc_auc_score\n",
        "import sklearn.metrics as metrics\n",
        "import matplotlib.pyplot as plt\n",
        "\n",
        "y_pred_proba_lg = best_lg.predict_proba(X_val)\n",
        "fpr, tpr, _ = metrics.roc_curve(y_val2, y_pred_proba_lg[:,1]) \n",
        "auc_lg = metrics.roc_auc_score(y_val2, y_pred_proba_lg[:,1])\n",
        "\n",
        "plt.plot([0, 1], [0, 1], 'k--')\n",
        "plt.plot(fpr,tpr,label = \"AUC = \"+str(auc_lg))\n",
        "plt.legend(loc = 4)\n",
        "plt.title('ROC Curve')\n",
        "plt.ylabel('True Positive Rate (tpr)')\n",
        "plt.xlabel('False Positive Rate (fpr)')\n",
        "plt.show()\n",
        "\n",
        "print(\"AUC is:\",auc_lg) "
      ],
      "execution_count": null,
      "outputs": [
        {
          "output_type": "display_data",
          "data": {
            "text/plain": [
              "<Figure size 432x288 with 1 Axes>"
            ],
            "image/png": "[encoded data removed]"
          },
          "metadata": {
            "needs_background": "light"
          }
        },
        {
          "output_type": "stream",
          "name": "stdout",
          "text": [
            "AUC is: 0.7714062874970004\n"
          ]
        }
      ]
    },
    {
      "cell_type": "markdown",
      "metadata": {
        "id": "UrJqeP4wnAlp"
      },
      "source": [
        "Q14. Implement a function random_forest_model that returns a random forest model with the best paprameters. You will apply GridSearchCV to find the best parameters. The parameter search space is up to you. (Please set the random state of RandomForestClassifier to be 26.)"
      ]
    },
    {
      "cell_type": "code",
      "metadata": {
        "id": "6FwUS0At_guc"
      },
      "source": [
        "def random_forest_model(X_train, y_train):\n",
        "    rf = RandomForestClassifier(random_state = 26) # Please set the random state to be 26\n",
        "    \n",
        "    param_grid = {\n",
        "        'max_depth': [10, 20, 30, 40, 50, None],\n",
        "        'max_features': ['sqrt', 'log2'],\n",
        "        'min_samples_leaf': [1, 2, 3, 5],\n",
        "        'min_samples_split': [2, 3, 5, 7],\n",
        "        'n_estimators': [25, 50, 100, 200, 400],\n",
        "        'random_state': [26]\n",
        "    }\n",
        "\n",
        "    grid_search2 = GridSearchCV(estimator = rf, scoring = 'recall', param_grid = param_grid, \n",
        "                          cv = 3, n_jobs = -1, verbose = 2)\n",
        "    \n",
        "    # Fit the model with training data\n",
        "    grid_search2.fit(X_train, y_train)\n",
        "\n",
        "    # Print the best parameters\n",
        "    print(\"Best Parameters:\", grid_search2.best_params_)\n",
        "\n",
        "    best_rf = grid_search2.best_estimator_\n",
        "    \n",
        "    return best_rf"
      ],
      "execution_count": null,
      "outputs": []
    },
    {
      "cell_type": "markdown",
      "metadata": {
        "id": "dJvKtZ5Ho0by"
      },
      "source": [
        "Q15. Fit the model by training set, obtain predictions on validation set and compute accuracy, precision, recall and F1 score."
      ]
    },
    {
      "cell_type": "code",
      "metadata": {
        "id": "1ygnG-7U_guc",
        "colab": {
          "base_uri": "https://localhost:8080/"
        },
        "outputId": "e948305b-8026-4276-d45c-005dc1a439dc"
      },
      "source": [
        "best_rf = random_forest_model(X_train, y_train_list)\n",
        "best_rf.fit(X_train, y_train_list)\n",
        "\n",
        "# compute accuracy,precision,recall on validation set\n",
        "RF_yval_pred = best_rf.predict(X_val)\n",
        "\n",
        "print(\"\\nAccuracy =\", accuracy_score(y_val2, RF_yval_pred))\n",
        "print(\"Precision =\", precision_score(y_val2, RF_yval_pred))\n",
        "print(\"Recall =\", recall_score(y_val2, RF_yval_pred)) \n",
        "print(\"F1 score =\", f1_score(y_val2, RF_yval_pred)) "
      ],
      "execution_count": null,
      "outputs": [
        {
          "output_type": "stream",
          "name": "stdout",
          "text": [
            "Fitting 3 folds for each of 960 candidates, totalling 2880 fits\n",
            "Best Parameters: {'max_depth': 40, 'max_features': 'sqrt', 'min_samples_leaf': 1, 'min_samples_split': 5, 'n_estimators': 200, 'random_state': 26}\n",
            "\n",
            "Accuracy = 0.8127090301003345\n",
            "Precision = 0.6236559139784946\n",
            "Recall = 0.42962962962962964\n",
            "F1 score = 0.5087719298245614\n"
          ]
        }
      ]
    },
    {
      "cell_type": "markdown",
      "metadata": {
        "id": "oPN8cSbMo6hh"
      },
      "source": [
        "Q16. Plot the ROC curve by giving appropriate names for title and axes."
      ]
    },
    {
      "cell_type": "code",
      "metadata": {
        "id": "X7mtOQ1B_guc",
        "colab": {
          "base_uri": "https://localhost:8080/",
          "height": 312
        },
        "outputId": "99201181-7649-4db0-a060-417ef3a6403a"
      },
      "source": [
        "### WRITE CODE HERE\n",
        "from sklearn.metrics import roc_curve, roc_auc_score\n",
        "import sklearn.metrics as metrics\n",
        "import matplotlib.pyplot as plt\n",
        "\n",
        "y_pred_proba_rf = best_rf.predict_proba(X_val)\n",
        "fpr, tpr, _ = metrics.roc_curve(y_val2, y_pred_proba_rf[:,1]) \n",
        "auc_rf = metrics.roc_auc_score(y_val2, y_pred_proba_rf[:,1])\n",
        "\n",
        "plt.plot([0, 1], [0, 1], 'k--')\n",
        "plt.plot(fpr,tpr,label = \"AUC = \"+str(auc_rf))\n",
        "plt.legend(loc = 4)\n",
        "plt.title('ROC Curve')\n",
        "plt.ylabel('True Positive Rate (tpr)')\n",
        "plt.xlabel('False Positive Rate (fpr)')\n",
        "plt.show()\n",
        "\n",
        "print(\"AUC is:\",auc_rf) "
      ],
      "execution_count": null,
      "outputs": [
        {
          "output_type": "display_data",
          "data": {
            "text/plain": [
              "<Figure size 432x288 with 1 Axes>"
            ],
            "image/png": "[encoded data removed]"
          },
          "metadata": {
            "needs_background": "light"
          }
        },
        {
          "output_type": "stream",
          "name": "stdout",
          "text": [
            "AUC is: 0.7648308135349173\n"
          ]
        }
      ]
    },
    {
      "cell_type": "markdown",
      "metadata": {
        "id": "RIYIR7PX_guc"
      },
      "source": [
        "Q17: Which of the above 3 models (NN, Logistic function and random forest) worked best for you? Explain in details the reason for good/bad performance for each of the models?\n",
        "\n",
        "Ans - Since we focus on recall and F1 score to pick the best model, the optimized NN model works the best for us because it has the highest recall score of 0.478 and highest F1 score of 0.536 out of all three models. \n",
        "\n",
        "Logistic Regression is the easiest one to implement, gives the highest accuracy and precision scores and takes the shortest time. It didn't work well in the aspect of having more categorical variables than numerical variables. Random Forest works better when the data is unbalanced with lots of categorical variables but it takes a long time to tune the hyperparameters. NN model takes the longest time to tune the hyperparameters but gives the highest scores in recall and F1 which explain more on the cost of false negatives and false positives in this case. \n",
        "\n",
        "References: https://www.linkedin.com/pulse/logistic-regression-vs-random-forest-classifier-chintan-chitroda/\n",
        "\n",
        "https://scholar.smu.edu/cgi/viewcontent.cgi?article=1041&context=datasciencereview#:~:text=In%20general%2C%20logistic%20regression%20performs,variables%20increases%20in%20a%20dataset.\n",
        "\n",
        "\n"
      ]
    },
    {
      "cell_type": "markdown",
      "metadata": {
        "id": "SLTYUUkg_guc"
      },
      "source": [
        "Using the best of the above 3 models, obtain predictions for the test set."
      ]
    },
    {
      "cell_type": "code",
      "metadata": {
        "id": "DXy2-Vm8_guc",
        "colab": {
          "base_uri": "https://localhost:8080/"
        },
        "outputId": "2c50d491-e0e7-482e-861e-a772a8f4a5c2"
      },
      "source": [
        "### YOUR CODE HERE ###\n",
        "y_test_pred = best_kc.predict(test_new)\n",
        "\n",
        "test_pred_cat = list() \n",
        "for i in range(len(y_test_pred)):\n",
        "    test_pred_cat.append(np.argmax(y_test_pred[i]))\n",
        "test_pred_cat[:15]"
      ],
      "execution_count": null,
      "outputs": [
        {
          "output_type": "stream",
          "name": "stdout",
          "text": [
            "32/32 [==============================] - 0s 2ms/step\n"
          ]
        },
        {
          "output_type": "execute_result",
          "data": {
            "text/plain": [
              "[0, 0, 1, 0, 0, 0, 0, 0, 0, 0, 0, 1, 0, 0, 0]"
            ]
          },
          "metadata": {},
          "execution_count": 210
        }
      ]
    },
    {
      "cell_type": "markdown",
      "metadata": {
        "id": "GovVk2a2_guc"
      },
      "source": [
        "# Exercise 6\n",
        "\n",
        "### Convolution Neural Netwrok\n",
        "\n",
        "In neural networks, Convolutional neural network (ConvNets or CNNs) is one of the main categories to do images recognition, images classifications. Objects detections, recognition faces etc., are some of the areas where CNNs are widely used.\n",
        "\n",
        "CNN models to train and test, each input image will pass it through a series of convolution layers with filters (Kernals), Pooling, fully connected layers (FC) and apply Softmax function to classify an object with probabilistic values between 0 and 1. \n",
        "\n",
        "The dataset which we will use in this part is Fashion-MNIST classification dataset. This is a dataset of 60,000 28x28 pixel grayscale images of items of 10 types of clothing, along with a test set of 10,000 images.\n",
        "\n",
        "The mapping of all 0-9 integers to class labels is listed below.\n",
        "\n",
        "0: T-shirt/top<br>\n",
        "1: Trouser<br>\n",
        "2: Pullover<br>\n",
        "3: Dress<br>\n",
        "4: Coat<br>\n",
        "5: Sandal<br>\n",
        "6: Shirt<br>\n",
        "7: Sneaker<br>\n",
        "8: Bag<br>\n",
        "9: Ankle boot<br>\n",
        "\n"
      ]
    },
    {
      "cell_type": "code",
      "metadata": {
        "id": "_ZfLoyoY_guc",
        "colab": {
          "base_uri": "https://localhost:8080/"
        },
        "outputId": "a05b9474-9d14-4bb0-a284-57464e041284"
      },
      "source": [
        "from keras.datasets import fashion_mnist\n",
        "from keras.layers import Conv2D, MaxPool2D\n",
        "from keras.layers import Dense, Flatten\n",
        "from tensorflow.keras.utils import to_categorical\n",
        "\n",
        "(x_train, y_train), (x_test, y_test) = fashion_mnist.load_data()"
      ],
      "execution_count": null,
      "outputs": [
        {
          "output_type": "stream",
          "name": "stdout",
          "text": [
            "Downloading data from https://storage.googleapis.com/tensorflow/tf-keras-datasets/train-labels-idx1-ubyte.gz\n",
            "29515/29515 [==============================] - 0s 0us/step\n",
            "Downloading data from https://storage.googleapis.com/tensorflow/tf-keras-datasets/train-images-idx3-ubyte.gz\n",
            "26421880/26421880 [==============================] - 0s 0us/step\n",
            "Downloading data from https://storage.googleapis.com/tensorflow/tf-keras-datasets/t10k-labels-idx1-ubyte.gz\n",
            "5148/5148 [==============================] - 0s 0us/step\n",
            "Downloading data from https://storage.googleapis.com/tensorflow/tf-keras-datasets/t10k-images-idx3-ubyte.gz\n",
            "4422102/4422102 [==============================] - 0s 0us/step\n"
          ]
        }
      ]
    },
    {
      "cell_type": "code",
      "metadata": {
        "colab": {
          "base_uri": "https://localhost:8080/"
        },
        "id": "BjL97RM7_guc",
        "outputId": "0556e77f-e701-4857-80f1-f543f92a3135"
      },
      "source": [
        "print(x_train.shape)"
      ],
      "execution_count": null,
      "outputs": [
        {
          "output_type": "stream",
          "name": "stdout",
          "text": [
            "(60000, 28, 28)\n"
          ]
        }
      ]
    },
    {
      "cell_type": "markdown",
      "metadata": {
        "id": "3Wbjbvu92Sva"
      },
      "source": [
        "Create a plot of the first nine images in the training dataset."
      ]
    },
    {
      "cell_type": "code",
      "metadata": {
        "colab": {
          "base_uri": "https://localhost:8080/",
          "height": 268
        },
        "id": "Bxe8-1Zj_guc",
        "outputId": "4ad767d3-ee2a-4acf-9f48-6bbd659cba1d"
      },
      "source": [
        "import matplotlib.pyplot as plt\n",
        "# plot first few images\n",
        "for i in range(9):\n",
        "    # define subplot\n",
        "    plt.subplot(330 + 1 + i)\n",
        "    # plot raw pixel data\n",
        "    plt.imshow(x_train[i])\n",
        "# show the figure\n",
        "plt.show()"
      ],
      "execution_count": null,
      "outputs": [
        {
          "output_type": "display_data",
          "data": {
            "text/plain": [
              "<Figure size 432x288 with 9 Axes>"
            ],
            "image/png": "[encoded data removed]"
          },
          "metadata": {
            "needs_background": "light"
          }
        }
      ]
    },
    {
      "cell_type": "markdown",
      "metadata": {
        "id": "-C05JJEQ_guc"
      },
      "source": [
        "Q1. To process images in neural network, we have to indicate how may channels (depth) we are going to use. For instance, a coloful image from a standard digital camera will have a red, green and blue channel (RGB), so it has 3 channels (i.e. depth=3) in total, whereas a grayscale image only has 1 channel (depth=1). \n",
        "\n",
        "The Fashion-MNIST dataset is grayscale, and we can reshape Fashion-MNIST to have a single channel. (i.e., Convert each 28 x 28 image of the train and test set into a matrix of size 28 x 28 x 1.)"
      ]
    },
    {
      "cell_type": "code",
      "metadata": {
        "id": "O9Mh0Ups_guc"
      },
      "source": [
        "### YOUR CODE HERE ###\n",
        "x_train_v2 = x_train.reshape((x_train.shape[0], 28, 28, 1))\n",
        "x_test_v2 = x_test.reshape((x_test.shape[0], 28, 28, 1))\n"
      ],
      "execution_count": null,
      "outputs": []
    },
    {
      "cell_type": "markdown",
      "metadata": {
        "id": "yt3x_StZ_gud"
      },
      "source": [
        "We know that the pixel values for each image in the dataset are unsigned integers in the range between black and white, or 0 and 255.\n",
        "\n",
        "Q2. Normalize the pixel values of grayscale images, e.g. rescale them to the range [0, 1]. "
      ]
    },
    {
      "cell_type": "code",
      "metadata": {
        "id": "KZgQ6enJ_gud"
      },
      "source": [
        "### YOUR CODE HERE ###\n",
        "x_train_v2_s1 = x_train_v2.astype('float32')\n",
        "x_test_v2_s1 = x_test_v2.astype('float32')\n",
        "x_train_v2_s = x_train_v2_s1 / 255.0\n",
        "x_test_v2_s = x_test_v2_s1 / 255.0"
      ],
      "execution_count": null,
      "outputs": []
    },
    {
      "cell_type": "markdown",
      "metadata": {
        "id": "FWLwQmCW_gud"
      },
      "source": [
        "Q3. You also need to convert the target values into binary values (one-hot encoding)."
      ]
    },
    {
      "cell_type": "code",
      "metadata": {
        "id": "jKxcwWtd_gud"
      },
      "source": [
        "### YOUR CODE HERE ###\n",
        "y_train_v2 = to_categorical(y_train)\n",
        "y_test_v2 = to_categorical(y_test)"
      ],
      "execution_count": null,
      "outputs": []
    },
    {
      "cell_type": "markdown",
      "metadata": {
        "id": "fE383J1v_gud"
      },
      "source": [
        "Q4. Implement build_cnn_model() that returns a CNN model that takes an input of image, passes it to:\n",
        "- A convolution layer with 32 filters and kernel size 5x5\n",
        "- A MaxPool layer of size 2x2\n",
        "- Another convolution layer with 64 filters and kernel size 5x5\n",
        "- Another MaxPool layer of size 2x2\n",
        "- Another convolution layer with 128 filters and kernel size 3x3\n",
        "- Another MaxPool layer of size 2x2\n",
        "- Flatten it\n",
        "- Add one regular fully-connected layer of 128 units\n",
        "- Finally, output your classification by another fully-connected layer, whose number of units is determined by yourself.\n",
        "\n",
        "Our goal is to minimize the categorical_crossentropy loss.\n",
        "\n",
        "As before, use the \"relu\" activation function for all the convolution/full-connected layers, but use the \"softmax\" activation for the final fully-connected layer (readout layer).\n",
        "\n",
        "The optimizer and loss function have been filled in for you."
      ]
    },
    {
      "cell_type": "code",
      "metadata": {
        "id": "EHw2vzuA_gud"
      },
      "source": [
        "def build_cnn_model():\n",
        "    model = Sequential()\n",
        "    ### YOUR CODE HERE ###\n",
        "    model.add(Conv2D(32, (5, 5), input_shape=(28, 28, 1), activation='relu'))\n",
        "    model.add(MaxPool2D((2, 2)))\n",
        "    model.add(Conv2D(64, (5, 5), activation='relu'))\n",
        "    model.add(MaxPool2D((2, 2)))\n",
        "    model.add(Conv2D(128, (3, 3), activation='relu'))\n",
        "    model.add(MaxPool2D((2, 2)))\n",
        "    model.add(Flatten())\n",
        "    model.add(Dense(128, activation='relu'))\n",
        "    model.add(Dense(10, activation='softmax'))\n",
        "    \n",
        "    ######################\n",
        "    model.compile(optimizer='adam',loss='categorical_crossentropy',metrics=['accuracy'])\n",
        "\n",
        "    return model\n",
        "\n",
        "model = build_cnn_model()"
      ],
      "execution_count": null,
      "outputs": []
    },
    {
      "cell_type": "markdown",
      "metadata": {
        "id": "q2jWb_8-_gud"
      },
      "source": [
        "Q5. Fit your CNN model by x_train, y_train"
      ]
    },
    {
      "cell_type": "code",
      "metadata": {
        "id": "9KwDFyoX_gud",
        "colab": {
          "base_uri": "https://localhost:8080/"
        },
        "outputId": "a7c0c344-b6f0-4d9f-ccb2-b0c7386cd182"
      },
      "source": [
        "### YOUR CODE HERE ###\n",
        "model.fit(x_train_v2_s, y_train_v2, batch_size = 100, epochs = 10)"
      ],
      "execution_count": null,
      "outputs": [
        {
          "output_type": "stream",
          "name": "stdout",
          "text": [
            "Epoch 1/10\n",
            "600/600 [==============================] - 58s 4ms/step - loss: 0.6037 - accuracy: 0.7806\n",
            "Epoch 2/10\n",
            "600/600 [==============================] - 2s 4ms/step - loss: 0.3619 - accuracy: 0.8684\n",
            "Epoch 3/10\n",
            "600/600 [==============================] - 2s 4ms/step - loss: 0.3054 - accuracy: 0.8880\n",
            "Epoch 4/10\n",
            "600/600 [==============================] - 2s 4ms/step - loss: 0.2726 - accuracy: 0.8996\n",
            "Epoch 5/10\n",
            "600/600 [==============================] - 2s 4ms/step - loss: 0.2483 - accuracy: 0.9088\n",
            "Epoch 6/10\n",
            "600/600 [==============================] - 2s 4ms/step - loss: 0.2233 - accuracy: 0.9177\n",
            "Epoch 7/10\n",
            "600/600 [==============================] - 2s 4ms/step - loss: 0.2102 - accuracy: 0.9221\n",
            "Epoch 8/10\n",
            "600/600 [==============================] - 2s 4ms/step - loss: 0.1914 - accuracy: 0.9291\n",
            "Epoch 9/10\n",
            "600/600 [==============================] - 2s 4ms/step - loss: 0.1760 - accuracy: 0.9347\n",
            "Epoch 10/10\n",
            "600/600 [==============================] - 2s 4ms/step - loss: 0.1633 - accuracy: 0.9393\n"
          ]
        },
        {
          "output_type": "execute_result",
          "data": {
            "text/plain": [
              "<keras.callbacks.History at 0x7f712eaa9a00>"
            ]
          },
          "metadata": {},
          "execution_count": 219
        }
      ]
    },
    {
      "cell_type": "markdown",
      "metadata": {
        "id": "y-aiZKIy_gud"
      },
      "source": [
        "Q6. Evaluate your model on test set and print out the entropy loss and the accuracy"
      ]
    },
    {
      "cell_type": "code",
      "metadata": {
        "id": "xziZ1dSd_gud",
        "colab": {
          "base_uri": "https://localhost:8080/"
        },
        "outputId": "5fe325d9-efab-43fa-dbf0-830191c648bf"
      },
      "source": [
        "### YOUR CODE HERE ###\n",
        "print('Cross Entropy Loss:', model.evaluate(x_test_v2_s, y_test_v2)[0])\n",
        "print('Accuracy:', model.evaluate(x_test_v2_s, y_test_v2)[1] * 100 , '%')"
      ],
      "execution_count": null,
      "outputs": [
        {
          "output_type": "stream",
          "name": "stdout",
          "text": [
            "313/313 [==============================] - 1s 3ms/step - loss: 0.2729 - accuracy: 0.9077\n",
            "Cross Entropy Loss: 0.2728923261165619\n",
            "313/313 [==============================] - 1s 3ms/step - loss: 0.2729 - accuracy: 0.9077\n",
            "Accuracy: 90.77000021934509 %\n"
          ]
        }
      ]
    },
    {
      "cell_type": "markdown",
      "metadata": {
        "id": "0DmSAf12Fwhy"
      },
      "source": [
        "Q7. Now let's check the performance of multi-layer perceptrons (MLP) in image classfication. Implement build_mlp_model() that returns a MLP model that takes an input of image, passes it to 1 Flatten layer then 3 full-connected layers and the final fully-connected readout layer.\n",
        "\n",
        "The number of units in each full-connected layer is determined by yourself. \n",
        "\n",
        "As before, use the \"relu\" activation function for the first 2 full-connected layers, but use the \"softmax\" activation for the final fully-connected layer (readout layer).\n",
        "\n",
        "The optimizer and loss function have been filled in for you."
      ]
    },
    {
      "cell_type": "code",
      "metadata": {
        "id": "4-4pFhpzFzwh"
      },
      "source": [
        "def build_mlp_model():\n",
        "    model = Sequential()\n",
        "    ### YOUR CODE HERE ###\n",
        "    model.add(Flatten())\n",
        "\n",
        "    model.add(Dense(400, input_shape = (784,), activation = \"relu\"))\n",
        "\n",
        "    model.add(Dense(200,  activation = \"relu\"))\n",
        "\n",
        "    model.add(Dense(50,  activation = \"relu\"))\n",
        "    \n",
        "    model.add(Dense(10,  activation = \"softmax\"))\n",
        "   \n",
        "    ######################\n",
        "    model.compile(optimizer='adam',loss='categorical_crossentropy',metrics=['accuracy'])\n",
        "\n",
        "    return model\n",
        "\n",
        "model2 = build_mlp_model()"
      ],
      "execution_count": null,
      "outputs": []
    },
    {
      "cell_type": "markdown",
      "metadata": {
        "id": "vFStrAzuI3gm"
      },
      "source": [
        "Q8. Fit your MLP model by x_train, y_train. (Please use the same parameters as those in CNN model for comparison)"
      ]
    },
    {
      "cell_type": "code",
      "metadata": {
        "id": "OluA4qYII2BH",
        "colab": {
          "base_uri": "https://localhost:8080/"
        },
        "outputId": "58bd3f3b-3f30-4867-e018-bea66f23eb6e"
      },
      "source": [
        "### YOUR CODE HERE ###\n",
        "model2.fit(x_train_v2_s, y_train_v2, batch_size = 100, epochs = 10)"
      ],
      "execution_count": null,
      "outputs": [
        {
          "output_type": "stream",
          "name": "stdout",
          "text": [
            "Epoch 1/10\n",
            "600/600 [==============================] - 2s 3ms/step - loss: 0.5006 - accuracy: 0.8196\n",
            "Epoch 2/10\n",
            "600/600 [==============================] - 2s 3ms/step - loss: 0.3609 - accuracy: 0.8689\n",
            "Epoch 3/10\n",
            "600/600 [==============================] - 3s 4ms/step - loss: 0.3234 - accuracy: 0.8806\n",
            "Epoch 4/10\n",
            "600/600 [==============================] - 2s 3ms/step - loss: 0.2995 - accuracy: 0.8887\n",
            "Epoch 5/10\n",
            "600/600 [==============================] - 2s 3ms/step - loss: 0.2820 - accuracy: 0.8945\n",
            "Epoch 6/10\n",
            "600/600 [==============================] - 2s 3ms/step - loss: 0.2653 - accuracy: 0.9000\n",
            "Epoch 7/10\n",
            "600/600 [==============================] - 2s 3ms/step - loss: 0.2554 - accuracy: 0.9041\n",
            "Epoch 8/10\n",
            "600/600 [==============================] - 2s 3ms/step - loss: 0.2473 - accuracy: 0.9063\n",
            "Epoch 9/10\n",
            "600/600 [==============================] - 2s 3ms/step - loss: 0.2327 - accuracy: 0.9128\n",
            "Epoch 10/10\n",
            "600/600 [==============================] - 2s 3ms/step - loss: 0.2224 - accuracy: 0.9156\n"
          ]
        },
        {
          "output_type": "execute_result",
          "data": {
            "text/plain": [
              "<keras.callbacks.History at 0x7f71219c5fa0>"
            ]
          },
          "metadata": {},
          "execution_count": 222
        }
      ]
    },
    {
      "cell_type": "markdown",
      "metadata": {
        "id": "guVQ5vUEJEcF"
      },
      "source": [
        "Q9. Evaluate your model on test set and print out the entropy loss and the accuracy"
      ]
    },
    {
      "cell_type": "code",
      "metadata": {
        "id": "Sas8hYhPJE_G",
        "colab": {
          "base_uri": "https://localhost:8080/"
        },
        "outputId": "d5c2762c-ff71-46cf-8eac-1d4b66351aa3"
      },
      "source": [
        "### YOUR CODE HERE ###\n",
        "print('Cross Entropy Loss:', model2.evaluate(x_test_v2_s, y_test_v2)[0])\n",
        "print('Accuracy:', model2.evaluate(x_test_v2_s, y_test_v2)[1] * 100 , '%')"
      ],
      "execution_count": null,
      "outputs": [
        {
          "output_type": "stream",
          "name": "stdout",
          "text": [
            "313/313 [==============================] - 1s 3ms/step - loss: 0.3433 - accuracy: 0.8833\n",
            "Cross Entropy Loss: 0.3432762324810028\n",
            "313/313 [==============================] - 1s 3ms/step - loss: 0.3433 - accuracy: 0.8833\n",
            "Accuracy: 88.33000063896179 %\n"
          ]
        }
      ]
    },
    {
      "cell_type": "markdown",
      "metadata": {
        "id": "QbA14ef9JN_q"
      },
      "source": [
        "Q10. Which of the above 2 models worked best for you? Explain in details the reason for good/bad performance for each of the models."
      ]
    },
    {
      "cell_type": "markdown",
      "metadata": {
        "id": "0D7oxVG4JRMg"
      },
      "source": [
        "Ans - CNN model works better than FC model because CNN model considers the spatial relationships between neighboring pixels while FC model is permutation-invariant, which means that any permutation of flattened input would learn the same parameters of the network. "
      ]
    },
    {
      "cell_type": "markdown",
      "metadata": {
        "id": "nDBV47Ys_gud"
      },
      "source": [
        "# Exercise 7\n",
        "### Autoencoder\n",
        "\n",
        "So far, we have learned a lot about how to use neural networks in supervised learning, but in fact there are also many applications of neural networks in unsupervised learning such as autoencoder.\n",
        "\n",
        "An autoencoder is a special type of neural network that is trained to copy its input to its output. For example, given an image of a handwritten digit, an autoencoder first encodes the image into a lower dimensional latent representation, then decodes the latent representation back to an image. An autoencoder learns to compress the data while minimizing the reconstruction error.\n",
        "\n",
        "In this part, we will continue using Fashion-MNIST dataset."
      ]
    },
    {
      "cell_type": "markdown",
      "metadata": {
        "id": "92oW7KZL_gud"
      },
      "source": [
        "Q1. Implement an autoencoder model that takes an input of 28x28x1 images, compress them into (4,) vectors by an econder, and then decompress them back to 28x28 images by a decoder. In other words, the orginal dimensionality is 784 (=28x28), but we want to compress it into the dimensionality of 4 by an encoder, then reconstruct these (4,) vectors back to 28x28 images by an decoder. \n",
        "\n",
        "You only need to define an encoder and a decoder. In your encoder, you need to inlude a flatten layer and several fully-connected layers, while in your decoder, you are required to use fully-connected layers and one reshape layer. Do not use other types of layers.\n",
        "\n",
        "You will determine the number of fully-connected layers, number of units, and activation functions by yourself.\n",
        "\n",
        "The optimizer and loss function have been filled in for you."
      ]
    },
    {
      "cell_type": "code",
      "metadata": {
        "id": "xYeLYEvu_gud"
      },
      "source": [
        "from keras.models import Model\n",
        "from keras.layers import Reshape, Input\n",
        "\n",
        "# encoder layers\n",
        "encoding_dim = 4\n",
        "encoded = Sequential()\n",
        "# You don't need to build a new function, just add the layers\n",
        "### YOUR CODE HERE ###\n",
        "encoded.add(Flatten())\n",
        "encoded.add(Dense(400, activation='relu', input_shape=(784,)))\n",
        "encoded.add(Dense(100, activation = \"relu\"))\n",
        "encoded.add(Dense(40, activation='relu'))\n",
        "encoded.add(Dense(10, activation='relu'))\n",
        "encoded.add(Dense(encoding_dim, activation=None))\n",
        "\n",
        "\n",
        "\n",
        "######################\n",
        "\n",
        "# decoder layers\n",
        "decoded = Sequential()\n",
        "### YOUR CODE HERE ###\n",
        "decoded.add(Dense(10, activation='relu', input_shape=(encoding_dim,)))\n",
        "decoded.add(Dense(40, activation='relu'))\n",
        "decoded.add(Dense(100, activation='relu'))\n",
        "decoded.add(Dense(400, activation='relu'))\n",
        "decoded.add(Dense(784, activation='relu'))\n",
        "decoded.add(Reshape((28,28,1)))\n",
        "\n",
        "\n",
        "######################\n",
        "img_x, img_y = 28, 28\n",
        "input_x = Input(shape=(img_x, img_y, 1))\n",
        "code = encoded(input_x)\n",
        "output = decoded(code)\n",
        "\n",
        "autoencoder = Model(input_x,output)\n",
        "\n",
        "autoencoder.compile(optimizer='adam', loss='mse')"
      ],
      "execution_count": null,
      "outputs": []
    },
    {
      "cell_type": "markdown",
      "metadata": {
        "id": "-QXU9iAI_gud"
      },
      "source": [
        "Q2. Fit your model by x_train only"
      ]
    },
    {
      "cell_type": "code",
      "metadata": {
        "id": "tJj4-XEv_gud",
        "colab": {
          "base_uri": "https://localhost:8080/"
        },
        "outputId": "03e3d97e-23a1-4087-f018-7a61db332a9d"
      },
      "source": [
        "### YOUR CODE HERE ###\n",
        "autoencoder.fit(x_train_v2_s, x_train_v2_s, epochs = 10, batch_size = 64) "
      ],
      "execution_count": null,
      "outputs": [
        {
          "output_type": "stream",
          "name": "stdout",
          "text": [
            "Epoch 1/10\n",
            "938/938 [==============================] - 4s 4ms/step - loss: 0.0446\n",
            "Epoch 2/10\n",
            "938/938 [==============================] - 4s 4ms/step - loss: 0.0275\n",
            "Epoch 3/10\n",
            "938/938 [==============================] - 4s 4ms/step - loss: 0.0246\n",
            "Epoch 4/10\n",
            "938/938 [==============================] - 4s 4ms/step - loss: 0.0231\n",
            "Epoch 5/10\n",
            "938/938 [==============================] - 3s 4ms/step - loss: 0.0219\n",
            "Epoch 6/10\n",
            "938/938 [==============================] - 3s 4ms/step - loss: 0.0213\n",
            "Epoch 7/10\n",
            "938/938 [==============================] - 3s 4ms/step - loss: 0.0207\n",
            "Epoch 8/10\n",
            "938/938 [==============================] - 3s 4ms/step - loss: 0.0201\n",
            "Epoch 9/10\n",
            "938/938 [==============================] - 3s 4ms/step - loss: 0.0197\n",
            "Epoch 10/10\n",
            "938/938 [==============================] - 3s 4ms/step - loss: 0.0196\n"
          ]
        },
        {
          "output_type": "execute_result",
          "data": {
            "text/plain": [
              "<keras.callbacks.History at 0x7f71561a2b20>"
            ]
          },
          "metadata": {},
          "execution_count": 225
        }
      ]
    },
    {
      "cell_type": "markdown",
      "metadata": {
        "id": "CSBz3IsgX6Ye"
      },
      "source": [
        "Q3. Evaluate your model on test set and print out the MSE and output images as numpy arrays."
      ]
    },
    {
      "cell_type": "code",
      "metadata": {
        "id": "hQw_tBaEX6Ye",
        "colab": {
          "base_uri": "https://localhost:8080/"
        },
        "outputId": "fd517b9b-d460-423b-9e18-4e192e93dd06"
      },
      "source": [
        "# Test your autoencoder on test set, print out the MSE\n",
        "### YOUR CODE HERE ###\n",
        "results2 = autoencoder.evaluate(x_test_v2_s, x_test_v2_s)\n",
        "print(results2)\n",
        "\n",
        "\n",
        "######################\n",
        "# output images as numpy arrays\n",
        "encoded_imgs = encoded(x_test).numpy()\n",
        "decoded_imgs = decoded(encoded_imgs).numpy()"
      ],
      "execution_count": null,
      "outputs": [
        {
          "output_type": "stream",
          "name": "stdout",
          "text": [
            "313/313 [==============================] - 1s 2ms/step - loss: 0.0197\n",
            "0.019719643518328667\n"
          ]
        }
      ]
    },
    {
      "cell_type": "markdown",
      "metadata": {
        "id": "nvq_j8HB_gud"
      },
      "source": [
        "Plot your encoded image"
      ]
    },
    {
      "cell_type": "code",
      "metadata": {
        "id": "a6x9ZLwi_gud",
        "colab": {
          "base_uri": "https://localhost:8080/",
          "height": 264
        },
        "outputId": "76944412-c087-4ec1-8038-876840c266ab"
      },
      "source": [
        "n = 10\n",
        "plt.figure(figsize=(20, 4))\n",
        "for i in range(n):\n",
        "  # display original\n",
        "  ax = plt.subplot(2, n, i + 1)\n",
        "  plt.imshow(x_test[i].reshape(28, 28))\n",
        "  plt.title(\"original\")\n",
        "  plt.gray()\n",
        "  ax.get_xaxis().set_visible(False)\n",
        "  ax.get_yaxis().set_visible(False)\n",
        "\n",
        "  # display reconstruction\n",
        "  ax = plt.subplot(2, n, i + 1 + n)\n",
        "  plt.imshow(encoded_imgs[i].reshape(2,2))\n",
        "  plt.title(\"Compressed\")\n",
        "  plt.gray()\n",
        "  ax.get_xaxis().set_visible(False)\n",
        "  ax.get_yaxis().set_visible(False)\n",
        "plt.show()"
      ],
      "execution_count": null,
      "outputs": [
        {
          "output_type": "display_data",
          "data": {
            "text/plain": [
              "<Figure size 1440x288 with 20 Axes>"
            ],
            "image/png": "[encoded data removed]"
          },
          "metadata": {
            "needs_background": "light"
          }
        }
      ]
    },
    {
      "cell_type": "markdown",
      "metadata": {
        "id": "iDu6PiJK_gud"
      },
      "source": [
        "Plot your decoded image"
      ]
    },
    {
      "cell_type": "code",
      "metadata": {
        "id": "xITJ9DkQSdhm",
        "colab": {
          "base_uri": "https://localhost:8080/",
          "height": 264
        },
        "outputId": "9573d7e7-e696-4f7f-dbef-a1281f5e11ec"
      },
      "source": [
        "n = 10\n",
        "plt.figure(figsize=(20, 4))\n",
        "for i in range(n):\n",
        "  # display original\n",
        "  ax = plt.subplot(2, n, i + 1)\n",
        "  plt.imshow(x_test[i].reshape(28, 28))\n",
        "  plt.title(\"original\")\n",
        "  plt.gray()\n",
        "  ax.get_xaxis().set_visible(False)\n",
        "  ax.get_yaxis().set_visible(False)\n",
        "\n",
        "  # display reconstruction\n",
        "  ax = plt.subplot(2, n, i + 1 + n)\n",
        "  plt.imshow(decoded_imgs[i].reshape(28, 28))\n",
        "  plt.title(\"reconstructed\")\n",
        "  plt.gray()\n",
        "  ax.get_xaxis().set_visible(False)\n",
        "  ax.get_yaxis().set_visible(False)\n",
        "plt.show()"
      ],
      "execution_count": null,
      "outputs": [
        {
          "output_type": "display_data",
          "data": {
            "text/plain": [
              "<Figure size 1440x288 with 20 Axes>"
            ],
            "image/png": "[encoded data removed]"
          },
          "metadata": {
            "needs_background": "light"
          }
        }
      ]
    }
  ]
}